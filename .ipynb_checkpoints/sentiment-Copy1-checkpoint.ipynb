{
 "cells": [
  {
   "cell_type": "markdown",
   "metadata": {},
   "source": [
    "## 2. Análisis de Sentimiento\n",
    "\n",
    "Implementación y evaluación de un modelo de análisis de sentimiento.\n",
    "\n",
    "El objetivo principal es el de realizar un **modelo de clasificación binaria**. Se valorará positivamente comparar la variación en los resultados al usar **diferentes modelos**, al **modificar algún paso en la etapa de preprocesado** (stemming vs no stemming, p.ej.), así como la comparación de resultados utilizando o bien **modelos pre-entrenados** o modelos más simples (como VADER).\n",
    "\n",
    "Se utilizará alguno de los datasets disponibles de **reviews de Amazon**.\n",
    "\n",
    "Soluciones más avanzadas como por ejemplo modelos de clasificación multi-clase o basados en embeddings serán valorables."
   ]
  },
  {
   "cell_type": "code",
   "execution_count": 253,
   "metadata": {},
   "outputs": [],
   "source": [
    "# Importamos lo que vayamos a necesitar\n",
    "import pandas as pd\n",
    "import numpy as np\n",
    "import string\n",
    "\n",
    "import gensim\n",
    "from gensim.corpora import Dictionary\n",
    "from gensim.models import LdaModel, CoherenceModel\n",
    "\n",
    "import pyLDAvis\n",
    "import pyLDAvis.gensim\n",
    "\n",
    "from collections import Counter\n",
    "import matplotlib.pyplot as plt\n",
    "from stop_words import get_stop_words\n",
    "from nltk.stem.snowball import EnglishStemmer\n",
    "\n",
    "# Nuestras funciones del archivo utils, para el procesado del texto\n",
    "from utils import file_to_dict, process_text\n",
    "\n",
    "from sklearn.model_selection import train_test_split\n",
    "from sklearn.feature_extraction.text import CountVectorizer, TfidfVectorizer\n",
    "from sklearn.feature_selection import chi2\n",
    "from sklearn.linear_model import LogisticRegression\n",
    "from sklearn.metrics import accuracy_score, confusion_matrix, classification_report, roc_curve\n",
    "from sklearn.preprocessing import OneHotEncoder\n",
    "\n",
    "\n",
    "# borrar\n",
    "from multiprocessing.pool import Pool\n",
    "from functools import partial\n",
    "from os import cpu_count"
   ]
  },
  {
   "cell_type": "markdown",
   "metadata": {},
   "source": [
    "### 1. Importamos y procesamos nuestros datos"
   ]
  },
  {
   "cell_type": "code",
   "execution_count": 2,
   "metadata": {},
   "outputs": [],
   "source": [
    "data = pd.read_csv('./datasets/reviews.csv')"
   ]
  },
  {
   "cell_type": "code",
   "execution_count": 3,
   "metadata": {},
   "outputs": [],
   "source": [
    "data['rating_binary_label'] = data['rating'].apply(lambda it: 'pos' if it > 3 else 'neg')"
   ]
  },
  {
   "cell_type": "code",
   "execution_count": 4,
   "metadata": {},
   "outputs": [],
   "source": [
    "data['rating_triary_label'] = data['rating'].apply(lambda it: 'pos' if it > 3 else ('neu' if it == 3 else 'neg'))"
   ]
  },
  {
   "cell_type": "code",
   "execution_count": 5,
   "metadata": {
    "scrolled": true
   },
   "outputs": [
    {
     "data": {
      "text/html": [
       "<div>\n",
       "<style scoped>\n",
       "    .dataframe tbody tr th:only-of-type {\n",
       "        vertical-align: middle;\n",
       "    }\n",
       "\n",
       "    .dataframe tbody tr th {\n",
       "        vertical-align: top;\n",
       "    }\n",
       "\n",
       "    .dataframe thead th {\n",
       "        text-align: right;\n",
       "    }\n",
       "</style>\n",
       "<table border=\"1\" class=\"dataframe\">\n",
       "  <thead>\n",
       "    <tr style=\"text-align: right;\">\n",
       "      <th></th>\n",
       "      <th>review</th>\n",
       "      <th>rating</th>\n",
       "      <th>helpful</th>\n",
       "      <th>category</th>\n",
       "      <th>rating_binary_label</th>\n",
       "      <th>rating_triary_label</th>\n",
       "    </tr>\n",
       "  </thead>\n",
       "  <tbody>\n",
       "    <tr>\n",
       "      <th>0</th>\n",
       "      <td>A fun way to bling up your desk and make sure ...</td>\n",
       "      <td>4</td>\n",
       "      <td>1.0</td>\n",
       "      <td>Office products</td>\n",
       "      <td>pos</td>\n",
       "      <td>pos</td>\n",
       "    </tr>\n",
       "    <tr>\n",
       "      <th>1</th>\n",
       "      <td>I continue to love this show. Raylan and the r...</td>\n",
       "      <td>5</td>\n",
       "      <td>0.0</td>\n",
       "      <td>Amazon instant videos</td>\n",
       "      <td>pos</td>\n",
       "      <td>pos</td>\n",
       "    </tr>\n",
       "    <tr>\n",
       "      <th>2</th>\n",
       "      <td>Arrived in super flash time.  Like another rev...</td>\n",
       "      <td>5</td>\n",
       "      <td>0.0</td>\n",
       "      <td>Patio lawn/garden</td>\n",
       "      <td>pos</td>\n",
       "      <td>pos</td>\n",
       "    </tr>\n",
       "    <tr>\n",
       "      <th>3</th>\n",
       "      <td>This treat ball works as expected. I used Temp...</td>\n",
       "      <td>4</td>\n",
       "      <td>0.5</td>\n",
       "      <td>Pet supplies</td>\n",
       "      <td>pos</td>\n",
       "      <td>pos</td>\n",
       "    </tr>\n",
       "    <tr>\n",
       "      <th>4</th>\n",
       "      <td>I know it's extrange but it works! It is easy ...</td>\n",
       "      <td>4</td>\n",
       "      <td>0.0</td>\n",
       "      <td>Baby</td>\n",
       "      <td>pos</td>\n",
       "      <td>pos</td>\n",
       "    </tr>\n",
       "  </tbody>\n",
       "</table>\n",
       "</div>"
      ],
      "text/plain": [
       "                                              review  rating  helpful  \\\n",
       "0  A fun way to bling up your desk and make sure ...       4      1.0   \n",
       "1  I continue to love this show. Raylan and the r...       5      0.0   \n",
       "2  Arrived in super flash time.  Like another rev...       5      0.0   \n",
       "3  This treat ball works as expected. I used Temp...       4      0.5   \n",
       "4  I know it's extrange but it works! It is easy ...       4      0.0   \n",
       "\n",
       "                category rating_binary_label rating_triary_label  \n",
       "0        Office products                 pos                 pos  \n",
       "1  Amazon instant videos                 pos                 pos  \n",
       "2      Patio lawn/garden                 pos                 pos  \n",
       "3           Pet supplies                 pos                 pos  \n",
       "4                   Baby                 pos                 pos  "
      ]
     },
     "execution_count": 5,
     "metadata": {},
     "output_type": "execute_result"
    }
   ],
   "source": [
    "# Vemos que ha creado nuestra neuva columna\n",
    "data.head()"
   ]
  },
  {
   "cell_type": "code",
   "execution_count": 14,
   "metadata": {},
   "outputs": [],
   "source": [
    "# Constants\n",
    "lemas = file_to_dict('./datasets/lemmatization-en.txt')\n",
    "min_length = 50\n",
    "en_stop_words = gensim.parsing.preprocessing.STOPWORDS\n",
    "translate_table = dict((ord(char), None) for char in string.punctuation)  \n",
    "lang='en'\n",
    "stemmer = EnglishStemmer(ignore_stopwords=True)"
   ]
  },
  {
   "cell_type": "code",
   "execution_count": 15,
   "metadata": {},
   "outputs": [],
   "source": [
    "def process_row(row):    \n",
    "    if type(row['review']) is str:    \n",
    "        aux = process_text(min_length, lemas, translate_table, en_stop_words, 'en', None, row['review'])\n",
    "        if aux:\n",
    "            return {\n",
    "                'review': ' '.join(aux),\n",
    "                'review_processed': aux,\n",
    "                'category': row['category'],\n",
    "                'rating_binary_label': row['rating_binary_label'],\n",
    "                'rating_triary_label': row['rating_triary_label']\n",
    "            }"
   ]
  },
  {
   "cell_type": "code",
   "execution_count": 186,
   "metadata": {},
   "outputs": [
    {
     "data": {
      "text/plain": [
       "12"
      ]
     },
     "execution_count": 186,
     "metadata": {},
     "output_type": "execute_result"
    }
   ],
   "source": [
    "cpu_count()"
   ]
  },
  {
   "cell_type": "code",
   "execution_count": 16,
   "metadata": {},
   "outputs": [],
   "source": [
    "pool = Pool(cpu_count())\n",
    "df = [it for it in pool.map(process_row, [row for index, row in data.iterrows()]) if it]\n",
    "pool.close()\n",
    "df = pd.DataFrame(list(df))\n",
    "df.dropna(inplace=True)"
   ]
  },
  {
   "cell_type": "code",
   "execution_count": 17,
   "metadata": {},
   "outputs": [
    {
     "data": {
      "text/html": [
       "<div>\n",
       "<style scoped>\n",
       "    .dataframe tbody tr th:only-of-type {\n",
       "        vertical-align: middle;\n",
       "    }\n",
       "\n",
       "    .dataframe tbody tr th {\n",
       "        vertical-align: top;\n",
       "    }\n",
       "\n",
       "    .dataframe thead th {\n",
       "        text-align: right;\n",
       "    }\n",
       "</style>\n",
       "<table border=\"1\" class=\"dataframe\">\n",
       "  <thead>\n",
       "    <tr style=\"text-align: right;\">\n",
       "      <th></th>\n",
       "      <th>review</th>\n",
       "      <th>review_processed</th>\n",
       "      <th>category</th>\n",
       "      <th>rating_binary_label</th>\n",
       "      <th>rating_triary_label</th>\n",
       "    </tr>\n",
       "  </thead>\n",
       "  <tbody>\n",
       "    <tr>\n",
       "      <th>0</th>\n",
       "      <td>ways bling desks making surest ones guys wants...</td>\n",
       "      <td>[ways, bling, desks, making, surest, ones, guy...</td>\n",
       "      <td>Office products</td>\n",
       "      <td>pos</td>\n",
       "      <td>pos</td>\n",
       "    </tr>\n",
       "    <tr>\n",
       "      <th>1</th>\n",
       "      <td>continuing loving shows raylan rests character...</td>\n",
       "      <td>[continuing, loving, shows, raylan, rests, cha...</td>\n",
       "      <td>Amazon instant videos</td>\n",
       "      <td>pos</td>\n",
       "      <td>pos</td>\n",
       "    </tr>\n",
       "    <tr>\n",
       "      <th>2</th>\n",
       "      <td>arrived super flashing timing like reviewers h...</td>\n",
       "      <td>[arrived, super, flashing, timing, like, revie...</td>\n",
       "      <td>Patio lawn/garden</td>\n",
       "      <td>pos</td>\n",
       "      <td>pos</td>\n",
       "    </tr>\n",
       "    <tr>\n",
       "      <th>3</th>\n",
       "      <td>this treats balls works expected tempations ca...</td>\n",
       "      <td>[this, treats, balls, works, expected, tempati...</td>\n",
       "      <td>Pet supplies</td>\n",
       "      <td>pos</td>\n",
       "      <td>pos</td>\n",
       "    </tr>\n",
       "    <tr>\n",
       "      <th>4</th>\n",
       "      <td>knows extrange buts works easiest cleans eight...</td>\n",
       "      <td>[knows, extrange, buts, works, easiest, cleans...</td>\n",
       "      <td>Baby</td>\n",
       "      <td>pos</td>\n",
       "      <td>pos</td>\n",
       "    </tr>\n",
       "    <tr>\n",
       "      <th>...</th>\n",
       "      <td>...</td>\n",
       "      <td>...</td>\n",
       "      <td>...</td>\n",
       "      <td>...</td>\n",
       "      <td>...</td>\n",
       "    </tr>\n",
       "    <tr>\n",
       "      <th>177121</th>\n",
       "      <td>second years happiest straps locks great products</td>\n",
       "      <td>[second, years, happiest, straps, locks, great...</td>\n",
       "      <td>Musical instruments</td>\n",
       "      <td>pos</td>\n",
       "      <td>pos</td>\n",
       "    </tr>\n",
       "    <tr>\n",
       "      <th>177122</th>\n",
       "      <td>this units says evens tried outs friends dodge...</td>\n",
       "      <td>[this, units, says, evens, tried, outs, friend...</td>\n",
       "      <td>Automotive</td>\n",
       "      <td>pos</td>\n",
       "      <td>pos</td>\n",
       "    </tr>\n",
       "    <tr>\n",
       "      <th>177123</th>\n",
       "      <td>years smead hangings folders they plastics rem...</td>\n",
       "      <td>[years, smead, hangings, folders, they, plasti...</td>\n",
       "      <td>Office products</td>\n",
       "      <td>pos</td>\n",
       "      <td>pos</td>\n",
       "    </tr>\n",
       "    <tr>\n",
       "      <th>177124</th>\n",
       "      <td>pros dons needs touching deads looks cons silv...</td>\n",
       "      <td>[pros, dons, needs, touching, deads, looks, co...</td>\n",
       "      <td>Patio lawn/garden</td>\n",
       "      <td>neg</td>\n",
       "      <td>neu</td>\n",
       "    </tr>\n",
       "    <tr>\n",
       "      <th>177125</th>\n",
       "      <td>bought went two thousand and twelve wrangler u...</td>\n",
       "      <td>[bought, went, two thousand and twelve, wrangl...</td>\n",
       "      <td>Automotive</td>\n",
       "      <td>pos</td>\n",
       "      <td>pos</td>\n",
       "    </tr>\n",
       "  </tbody>\n",
       "</table>\n",
       "<p>177126 rows × 5 columns</p>\n",
       "</div>"
      ],
      "text/plain": [
       "                                                   review  \\\n",
       "0       ways bling desks making surest ones guys wants...   \n",
       "1       continuing loving shows raylan rests character...   \n",
       "2       arrived super flashing timing like reviewers h...   \n",
       "3       this treats balls works expected tempations ca...   \n",
       "4       knows extrange buts works easiest cleans eight...   \n",
       "...                                                   ...   \n",
       "177121  second years happiest straps locks great products   \n",
       "177122  this units says evens tried outs friends dodge...   \n",
       "177123  years smead hangings folders they plastics rem...   \n",
       "177124  pros dons needs touching deads looks cons silv...   \n",
       "177125  bought went two thousand and twelve wrangler u...   \n",
       "\n",
       "                                         review_processed  \\\n",
       "0       [ways, bling, desks, making, surest, ones, guy...   \n",
       "1       [continuing, loving, shows, raylan, rests, cha...   \n",
       "2       [arrived, super, flashing, timing, like, revie...   \n",
       "3       [this, treats, balls, works, expected, tempati...   \n",
       "4       [knows, extrange, buts, works, easiest, cleans...   \n",
       "...                                                   ...   \n",
       "177121  [second, years, happiest, straps, locks, great...   \n",
       "177122  [this, units, says, evens, tried, outs, friend...   \n",
       "177123  [years, smead, hangings, folders, they, plasti...   \n",
       "177124  [pros, dons, needs, touching, deads, looks, co...   \n",
       "177125  [bought, went, two thousand and twelve, wrangl...   \n",
       "\n",
       "                     category rating_binary_label rating_triary_label  \n",
       "0             Office products                 pos                 pos  \n",
       "1       Amazon instant videos                 pos                 pos  \n",
       "2           Patio lawn/garden                 pos                 pos  \n",
       "3                Pet supplies                 pos                 pos  \n",
       "4                        Baby                 pos                 pos  \n",
       "...                       ...                 ...                 ...  \n",
       "177121    Musical instruments                 pos                 pos  \n",
       "177122             Automotive                 pos                 pos  \n",
       "177123        Office products                 pos                 pos  \n",
       "177124      Patio lawn/garden                 neg                 neu  \n",
       "177125             Automotive                 pos                 pos  \n",
       "\n",
       "[177126 rows x 5 columns]"
      ]
     },
     "execution_count": 17,
     "metadata": {},
     "output_type": "execute_result"
    }
   ],
   "source": [
    "df"
   ]
  },
  {
   "cell_type": "markdown",
   "metadata": {},
   "source": [
    "## Separamos en train test"
   ]
  },
  {
   "cell_type": "code",
   "execution_count": 126,
   "metadata": {},
   "outputs": [],
   "source": [
    "def train_test_splt(values, labels):\n",
    "    print('Spliting...')\n",
    "    return train_test_split(\n",
    "        values,\n",
    "        labels,\n",
    "        train_size=0.75,\n",
    "        test_size=0.25,\n",
    "        random_state=42,\n",
    "        shuffle=True,\n",
    "        stratify=labels\n",
    "    )"
   ]
  },
  {
   "cell_type": "code",
   "execution_count": 127,
   "metadata": {},
   "outputs": [
    {
     "name": "stdout",
     "output_type": "stream",
     "text": [
      "Spliting...\n",
      "Spliting...\n"
     ]
    }
   ],
   "source": [
    "X_train, X_test, y_train, y_test = train_test_splt(df['review'], df['rating_binary_label'])\n",
    "X_train, X_validation, y_train, y_validation= train_test_splt(X_train, y_train)"
   ]
  },
  {
   "cell_type": "markdown",
   "metadata": {},
   "source": [
    "## Extraccion de caracteristicas"
   ]
  },
  {
   "cell_type": "code",
   "execution_count": 234,
   "metadata": {},
   "outputs": [],
   "source": [
    "def plot_chi_square(values, labels, words_to_show=10): \n",
    "    # Compute the chi-squared score for each word in the training set and show the values\n",
    "    chi2score = chi2(values, labels)[0]\n",
    "    scores = list(zip(cv.get_feature_names(), chi2score))\n",
    "    sorted_scores = sorted(scores, key=lambda x:x[1])\n",
    "    topchi2 = list(zip(*sorted_scores[-words_to_show:]))\n",
    "    x = range(len(topchi2[1]))\n",
    "    labels = topchi2[0]\n",
    "\n",
    "    plt.figure(figsize=(12, 8))\n",
    "    plt.barh(x,topchi2[1], align='center', alpha=0.5)\n",
    "    plt.plot(topchi2[1], x, '-o', markersize=5, alpha=0.8)\n",
    "    plt.yticks(x, labels, fontsize=12)\n",
    "    plt.xlabel(r'$\\chi^2$', fontsize=26)\n",
    "    plt.ylabel('word', fontsize=16)\n",
    "    plt.title(r'Top {} $\\chi^2$ score for each word in the training set'.format(i), fontsize=20)\n",
    "    plt.grid()\n",
    "    plt.tight_layout()\n",
    "    plt.show();"
   ]
  },
  {
   "cell_type": "code",
   "execution_count": 128,
   "metadata": {
    "scrolled": true
   },
   "outputs": [
    {
     "data": {
      "text/plain": [
       "TfidfVectorizer(analyzer='word', binary=False, decode_error='strict',\n",
       "                dtype=<class 'numpy.float64'>, encoding='utf-8',\n",
       "                input='content', lowercase=True, max_df=0.95, max_features=2500,\n",
       "                min_df=5, ngram_range=(1, 1), norm='l2', preprocessor=None,\n",
       "                smooth_idf=True, stop_words=None, strip_accents='ascii',\n",
       "                sublinear_tf=False, token_pattern='(?u)\\\\b\\\\w\\\\w+\\\\b',\n",
       "                tokenizer=None, use_idf=True, vocabulary=None)"
      ]
     },
     "execution_count": 128,
     "metadata": {},
     "output_type": "execute_result"
    }
   ],
   "source": [
    "cv = TfidfVectorizer(\n",
    "    max_df=0.95,\n",
    "    min_df=5,\n",
    "    max_features=2500,\n",
    "    strip_accents='ascii',\n",
    "    ngram_range=(1,1)\n",
    ")\n",
    "cv.fit(X_train)\n",
    "\n",
    "X_train_ = cv.transform(X_train)\n",
    "X_validation_ = cv.transform(X_validation)\n",
    "X_test_ = cv.transform(X_test)"
   ]
  },
  {
   "cell_type": "code",
   "execution_count": 129,
   "metadata": {},
   "outputs": [
    {
     "name": "stdout",
     "output_type": "stream",
     "text": [
      "[('this', 2220), ('nicest', 1407), ('portables', 1613), ('airs', 49), ('compressors', 412), ('liking', 1194), ('facts', 709), ('powers', 1634), ('gauging', 865), ('settings', 1893), ('desired', 532), ('pressuring', 1641), ('dons', 569), ('stood', 2085), ('rights', 1804), ('watching', 2392), ('coursing', 460), ('exacts', 682), ('buts', 267), ('closing', 374)]\n"
     ]
    }
   ],
   "source": [
    "print(list(cv.vocabulary_.items())[:20])"
   ]
  },
  {
   "cell_type": "code",
   "execution_count": 131,
   "metadata": {},
   "outputs": [],
   "source": [
    "words_example = [\n",
    "    'this',\n",
    "    'like',\n",
    "    'good',\n",
    "    'great',\n",
    "    'dont',\n",
    "]"
   ]
  },
  {
   "cell_type": "code",
   "execution_count": 132,
   "metadata": {},
   "outputs": [
    {
     "name": "stdout",
     "output_type": "stream",
     "text": [
      "Palabra             IDF                 \n",
      "this                2.189\n",
      "like                4.663\n",
      "good                4.460\n",
      "great               3.989\n",
      "dont                2.721\n"
     ]
    }
   ],
   "source": [
    "vocab_idf = dict(zip(cv.get_feature_names(), cv.idf_))\n",
    "\n",
    "print('{0:20}{1:20}'.format('Palabra', 'IDF'))\n",
    "for word in words_example:\n",
    "    if word not in vocab_idf:\n",
    "        print('{0:20}{1:20}'.format(word, 'OOV'))\n",
    "    else:\n",
    "        print('{0:20}{1:2.3f}'.format(word, vocab_idf[word]))"
   ]
  },
  {
   "cell_type": "code",
   "execution_count": 133,
   "metadata": {},
   "outputs": [
    {
     "name": "stdout",
     "output_type": "stream",
     "text": [
      "ID: 75723\n",
      "Sentiment: neg\n",
      "Review: tomatoes gardeners twentieth years supports means this cage mights determinate tomatoes buts outs controls constantly growing indeterminate varieties especially largest fruits wills useless first items came ridiculously bubbling wrapped extremely frustrating gotten undone managed broken snaps renderings supports useless fault buts defenses bubbling wrapt tights glued wasn easiest opens stakes shorts fifth strong steels coring stakes laughable bests these strong steels coring stakes stakes available home depot lowes locals nurseries whiling okays strong words describing wants strongest gotten rebars ended putting strong steels coring stakes obelisks cucumbers fitting perfectly attached second remaining rows supports\n"
     ]
    }
   ],
   "source": [
    "import random\n",
    "i = random.randint(0, len(X_train))\n",
    "print('ID: {}'.format(i))\n",
    "print('Sentiment: {}'.format(y_train.iloc[i]))\n",
    "print('Review: {}'.format(X_train.iloc[i]))"
   ]
  },
  {
   "cell_type": "code",
   "execution_count": 134,
   "metadata": {},
   "outputs": [
    {
     "name": "stdout",
     "output_type": "stream",
     "text": [
      "Top 10 words with highest TF_IDF in the review 75723:\n",
      "               tfidf\n",
      "stakes      0.639491\n",
      "steels      0.301037\n",
      "supports    0.276891\n",
      "tomatoes    0.222456\n",
      "useless     0.213501\n",
      "wrapped     0.116683\n",
      "describing  0.115358\n",
      "fruits      0.114922\n",
      "managed     0.111738\n",
      "wrapt       0.110921\n",
      "\n",
      "Top 10 words with lowest TF_IDF in the review 75723:\n",
      "            tfidf\n",
      "second   0.062279\n",
      "whiling  0.061499\n",
      "wants    0.058468\n",
      "bests    0.057502\n",
      "putting  0.055402\n",
      "years    0.052684\n",
      "easiest  0.052257\n",
      "wills    0.043348\n",
      "outs     0.040988\n",
      "this     0.038023\n"
     ]
    }
   ],
   "source": [
    "doc_vector = X_train_[i]\n",
    "df_tfidf = pd.DataFrame(doc_vector.T.todense(), index=cv.get_feature_names(), columns=['tfidf'])\n",
    "df_tfidf = df_tfidf[df_tfidf['tfidf'] > 0]\n",
    "\n",
    "top_n = 10\n",
    "print('Top {} words with highest TF_IDF in the review {}:\\n{}'.format(top_n, i, df_tfidf.sort_values(by=[\"tfidf\"],ascending=False)[:top_n]))\n",
    "print('\\nTop {} words with lowest TF_IDF in the review {}:\\n{}'.format(top_n, i, df_tfidf.sort_values(by=[\"tfidf\"],ascending=False)[-top_n:]))"
   ]
  },
  {
   "cell_type": "code",
   "execution_count": 236,
   "metadata": {},
   "outputs": [
    {
     "data": {
      "image/png": "[encoded data removed]",
      "text/plain": [
       "<Figure size 864x576 with 1 Axes>"
      ]
     },
     "metadata": {
      "needs_background": "light"
     },
     "output_type": "display_data"
    }
   ],
   "source": [
    "plot_chi_square(X_train_, y_train, 15)"
   ]
  },
  {
   "cell_type": "markdown",
   "metadata": {},
   "source": [
    "## Evaluacion del modelo"
   ]
  },
  {
   "cell_type": "code",
   "execution_count": 310,
   "metadata": {},
   "outputs": [],
   "source": [
    "def evaluation(model, values, labels):\n",
    "    test_predict = model.predict(values)\n",
    "    print('Confussion matrix:\\n{}'.format(confusion_matrix(y_test, test_predict)))\n",
    "    print('\\nClassification report:\\n{}'.format(classification_report(y_test, test_predict)))\n",
    "    print('Accuracy score:{}'.format(accuracy_score(y_test, test_predict)))"
   ]
  },
  {
   "cell_type": "code",
   "execution_count": 184,
   "metadata": {},
   "outputs": [],
   "source": [
    "def plot_values(values, max_idx, labels):\n",
    "    plt.figure(figsize=(12, 8))\n",
    "    for d in values:\n",
    "        plt.plot(d.get('value'), label=d.get('label'))\n",
    "    plt.axvline(max_idx, c='g', ls='--', alpha=0.8)\n",
    "    plt.title('Accuracy evolution for different C values')\n",
    "    plt.xlabel('C')\n",
    "    plt.ylabel('Accuracy')\n",
    "    plt.legend()\n",
    "    plt.grid()\n",
    "    plt.xticks(list(range(len(labels))), labels)\n",
    "    plt.tight_layout()\n",
    "    plt.show()"
   ]
  },
  {
   "cell_type": "code",
   "execution_count": 188,
   "metadata": {},
   "outputs": [],
   "source": [
    "def dict_creator(lr, tp, vp, tacc, vacc): \n",
    "    return {\n",
    "        'model': lr,\n",
    "        'predictions': {\n",
    "            'train': tp,\n",
    "            'validation': vp\n",
    "        },\n",
    "        'accuracy': {\n",
    "            'train': tacc,\n",
    "            'validation': vacc\n",
    "        }\n",
    "    }"
   ]
  },
  {
   "cell_type": "code",
   "execution_count": 189,
   "metadata": {},
   "outputs": [],
   "source": [
    "c_params = [0.01, 0.05, 0.25, 0.5, 1, 10, 100, 1000, 10000]\n",
    "\n",
    "def grid_executor(c_params, solvers, max_iter, X_train, y_train, X_val, y_val):\n",
    "\n",
    "    res = []\n",
    "    for c in c_params:\n",
    "        for solver in solvers:\n",
    "            print(f'Evaluating model with C={c}, solver={solver}, max_iter={max_iter}')\n",
    "            lr = LogisticRegression(C=c, solver=solver, max_iter=max_iter)\n",
    "            lr.fit(X_train_, y_train)\n",
    "\n",
    "            train_predict = lr.predict(X_train_)\n",
    "            validation_predict = lr.predict(X_validation_)\n",
    "            \n",
    "            train_acc = accuracy_score(y_train, train_predict)\n",
    "            validation_acc = accuracy_score(y_val, validation_predict)\n",
    "\n",
    "            print (f\"Accuracy train: {train_acc}, val: {validation_acc}\")\n",
    "            \n",
    "            res.append(dict_creator(lr, train_predict, validation_predict, train_acc, validation_acc))\n",
    "    return res"
   ]
  },
  {
   "cell_type": "code",
   "execution_count": 242,
   "metadata": {},
   "outputs": [],
   "source": [
    "def plot_accuracy_evolution(grid):\n",
    "    train_acc = []\n",
    "    val_acc = []\n",
    "    for aux in grid:\n",
    "        train,val = aux.get('accuracy').values()\n",
    "        train_acc.append(train)\n",
    "        val_acc.append(val)\n",
    "\n",
    "    values = [\n",
    "        {'label': 'train', 'value': train_acc},\n",
    "        {'label': 'validation', 'value': val_acc}\n",
    "    ]\n",
    "\n",
    "    optimal_model_idx = np.argmax(val_acc)\n",
    "\n",
    "    plot_values(values, optimal_model_idx, c_params)\n",
    "    \n",
    "    return optimal_model_idx"
   ]
  },
  {
   "cell_type": "code",
   "execution_count": 190,
   "metadata": {
    "scrolled": true
   },
   "outputs": [
    {
     "name": "stdout",
     "output_type": "stream",
     "text": [
      "Evaluating model with C=0.01, solver=lbfgs, max_iter=500\n",
      "Accuracy train: 0.8325855891120412, val: 0.8325855891120412\n",
      "Evaluating model with C=0.05, solver=lbfgs, max_iter=500\n",
      "Accuracy train: 0.8399124787971857, val: 0.8397518894342236\n",
      "Evaluating model with C=0.25, solver=lbfgs, max_iter=500\n",
      "Accuracy train: 0.8650848614414902, val: 0.8605281382674415\n",
      "Evaluating model with C=0.5, solver=lbfgs, max_iter=500\n",
      "Accuracy train: 0.8730842190840384, val: 0.8670320074674054\n",
      "Evaluating model with C=1, solver=lbfgs, max_iter=500\n",
      "Accuracy train: 0.8772495056858671, val: 0.8706753786396073\n",
      "Evaluating model with C=10, solver=lbfgs, max_iter=500\n",
      "Accuracy train: 0.8806620296488111, val: 0.8713076992562705\n",
      "Evaluating model with C=100, solver=lbfgs, max_iter=500\n",
      "Accuracy train: 0.8813244607710297, val: 0.8707355996507181\n",
      "Evaluating model with C=1000, solver=lbfgs, max_iter=500\n",
      "Accuracy train: 0.881424829122881, val: 0.8707355996507181\n",
      "Evaluating model with C=10000, solver=lbfgs, max_iter=500\n",
      "Accuracy train: 0.8813846817821405, val: 0.8707054891451628\n"
     ]
    }
   ],
   "source": [
    "\n",
    "\n",
    "c_params = [0.01, 0.05, 0.25, 0.5, 1, 10, 100, 1000, 10000]\n",
    "solvers  = ['lbfgs']\n",
    "max_iter = 500\n",
    "\n",
    "grid = grid_executor(c_params, solvers, max_iter, X_train_, y_train, X_validation_, y_validation)\n"
   ]
  },
  {
   "cell_type": "code",
   "execution_count": 243,
   "metadata": {
    "scrolled": false
   },
   "outputs": [
    {
     "data": {
      "image/png": "[encoded data removed]",
      "text/plain": [
       "<Figure size 864x576 with 1 Axes>"
      ]
     },
     "metadata": {
      "needs_background": "light"
     },
     "output_type": "display_data"
    }
   ],
   "source": [
    "optimal_model_idx = plot_accuracy_evolution(grid)"
   ]
  },
  {
   "cell_type": "code",
   "execution_count": 194,
   "metadata": {},
   "outputs": [
    {
     "name": "stdout",
     "output_type": "stream",
     "text": [
      "Confussion matrix:\n",
      "[[ 3215  4199]\n",
      " [ 1563 35305]]\n",
      "\n",
      "Classification report:\n",
      "              precision    recall  f1-score   support\n",
      "\n",
      "         neg       0.67      0.43      0.53      7414\n",
      "         pos       0.89      0.96      0.92     36868\n",
      "\n",
      "    accuracy                           0.87     44282\n",
      "   macro avg       0.78      0.70      0.73     44282\n",
      "weighted avg       0.86      0.87      0.86     44282\n",
      "\n",
      "Accuracy score:0.869879409240775\n"
     ]
    }
   ],
   "source": [
    "evaluation(grid[optimal_model_idx].get('model'), X_test, y_test)"
   ]
  },
  {
   "cell_type": "markdown",
   "metadata": {},
   "source": [
    "## Comprobamos nuestro modelo"
   ]
  },
  {
   "cell_type": "code",
   "execution_count": 217,
   "metadata": {},
   "outputs": [],
   "source": [
    "CRED = '\\033[41m'\n",
    "CGREEN = '\\033[42m'\n",
    "CEND = '\\033[0m'"
   ]
  },
  {
   "cell_type": "code",
   "execution_count": 220,
   "metadata": {},
   "outputs": [],
   "source": [
    "def predict_review_sentiment(cv, reviews, labels, num_samples):\n",
    "    for i in range(num_samples):\n",
    "        index = random.choice(X_test.index)\n",
    "        r = reviews[index]\n",
    "        \n",
    "        prediction = lr.predict(cv.transform([r]))[0]\n",
    "        \n",
    "        color = (CRED, CGREEN)[labels[index] == prediction]\n",
    "        print(f\"Comprobando review {index}\")\n",
    "        print(f\"{color}Sentimiento {labels[index]} - {prediction}{CEND}\")"
   ]
  },
  {
   "cell_type": "code",
   "execution_count": 221,
   "metadata": {},
   "outputs": [
    {
     "name": "stdout",
     "output_type": "stream",
     "text": [
      "Comprobando review 172126\n",
      "\u001b[42mSentimiento pos - pos\u001b[0m\n",
      "Comprobando review 159051\n",
      "\u001b[41mSentimiento neg - pos\u001b[0m\n",
      "Comprobando review 130369\n",
      "\u001b[42mSentimiento pos - pos\u001b[0m\n",
      "Comprobando review 156616\n",
      "\u001b[42mSentimiento pos - pos\u001b[0m\n",
      "Comprobando review 100066\n",
      "\u001b[42mSentimiento pos - pos\u001b[0m\n",
      "Comprobando review 175680\n",
      "\u001b[42mSentimiento pos - pos\u001b[0m\n",
      "Comprobando review 6876\n",
      "\u001b[42mSentimiento pos - pos\u001b[0m\n",
      "Comprobando review 81807\n",
      "\u001b[42mSentimiento pos - pos\u001b[0m\n",
      "Comprobando review 56846\n",
      "\u001b[42mSentimiento pos - pos\u001b[0m\n",
      "Comprobando review 55521\n",
      "\u001b[42mSentimiento pos - pos\u001b[0m\n"
     ]
    }
   ],
   "source": [
    "predict_review_sentiment(cv, X_test, y_test, 10)"
   ]
  },
  {
   "cell_type": "markdown",
   "metadata": {},
   "source": [
    "Como vemos la moyoria de preducciones con correctas, el menos podemos afirmar eso para unas etiquetas binarias, vamos a probar ahora con 3 'sentimientos'"
   ]
  },
  {
   "cell_type": "markdown",
   "metadata": {},
   "source": [
    "## Vamos a probar ahora con VADER"
   ]
  },
  {
   "cell_type": "code",
   "execution_count": 249,
   "metadata": {},
   "outputs": [],
   "source": [
    "from vaderSentiment.vaderSentiment import SentimentIntensityAnalyzer\n",
    "analyser = SentimentIntensityAnalyzer()"
   ]
  },
  {
   "cell_type": "code",
   "execution_count": 251,
   "metadata": {},
   "outputs": [],
   "source": [
    "def sentiment_analyzer_scores(sentence):\n",
    "    score = analyser.polarity_scores(sentence)\n",
    "    print(\"{:-<40} {}\".format(sentence, str(score)))"
   ]
  },
  {
   "cell_type": "code",
   "execution_count": 252,
   "metadata": {},
   "outputs": [
    {
     "name": "stdout",
     "output_type": "stream",
     "text": [
      "The phone is super cool.---------------- {'neg': 0.0, 'neu': 0.326, 'pos': 0.674, 'compound': 0.7351}\n"
     ]
    }
   ],
   "source": [
    "sentiment_analyzer_scores(\"The phone is super cool.\")"
   ]
  },
  {
   "cell_type": "code",
   "execution_count": null,
   "metadata": {},
   "outputs": [],
   "source": []
  },
  {
   "cell_type": "code",
   "execution_count": null,
   "metadata": {},
   "outputs": [],
   "source": []
  },
  {
   "cell_type": "code",
   "execution_count": null,
   "metadata": {},
   "outputs": [],
   "source": []
  },
  {
   "cell_type": "markdown",
   "metadata": {},
   "source": [
    "## Evaluacion para 3 etiquetas"
   ]
  },
  {
   "cell_type": "code",
   "execution_count": 271,
   "metadata": {},
   "outputs": [
    {
     "name": "stdout",
     "output_type": "stream",
     "text": [
      "Spliting...\n",
      "Spliting...\n"
     ]
    }
   ],
   "source": [
    "X_train, X_test, y_train, y_test = train_test_splt(df['review'], df['rating_triary_label'])\n",
    "X_train, X_validation, y_train, y_validation= train_test_splt(X_train, y_train)"
   ]
  },
  {
   "cell_type": "code",
   "execution_count": 278,
   "metadata": {},
   "outputs": [],
   "source": [
    "from sklearn.preprocessing import LabelBinarizer\n",
    "\n",
    "encoder = LabelBinarizer()\n",
    "\n",
    "y_train = encoder.fit_transform(y_train)\n",
    "y_validation = encoder.transform(y_validation)\n",
    "y_test = encoder.transform(y_test)"
   ]
  },
  {
   "cell_type": "code",
   "execution_count": 273,
   "metadata": {},
   "outputs": [],
   "source": [
    "cv = TfidfVectorizer(\n",
    "    max_df=0.95,\n",
    "    min_df=5,\n",
    "    max_features=2500,\n",
    "    strip_accents='ascii',\n",
    "    ngram_range=(1,1)\n",
    ")\n",
    "cv.fit(X_train)\n",
    "\n",
    "X_train_ = cv.transform(X_train)\n",
    "X_validation_ = cv.transform(X_validation)\n",
    "X_test_ = cv.transform(X_test)"
   ]
  },
  {
   "cell_type": "code",
   "execution_count": 274,
   "metadata": {
    "scrolled": false
   },
   "outputs": [
    {
     "data": {
      "image/png": "[encoded data removed]",
      "text/plain": [
       "<Figure size 864x576 with 1 Axes>"
      ]
     },
     "metadata": {
      "needs_background": "light"
     },
     "output_type": "display_data"
    }
   ],
   "source": [
    "plot_chi_square(X_train_, y_train, 15)"
   ]
  },
  {
   "cell_type": "code",
   "execution_count": 280,
   "metadata": {
    "scrolled": false
   },
   "outputs": [
    {
     "ename": "ValueError",
     "evalue": "bad input shape (99633, 3)",
     "output_type": "error",
     "traceback": [
      "\u001b[0;31m---------------------------------------------------------------------------\u001b[0m",
      "\u001b[0;31mValueError\u001b[0m                                Traceback (most recent call last)",
      "\u001b[0;32m<ipython-input-280-56940b99e867>\u001b[0m in \u001b[0;36m<module>\u001b[0;34m\u001b[0m\n\u001b[1;32m      1\u001b[0m \u001b[0mlr\u001b[0m \u001b[0;34m=\u001b[0m \u001b[0mLogisticRegression\u001b[0m\u001b[0;34m(\u001b[0m\u001b[0mC\u001b[0m\u001b[0;34m=\u001b[0m\u001b[0;36m1\u001b[0m\u001b[0;34m,\u001b[0m \u001b[0msolver\u001b[0m\u001b[0;34m=\u001b[0m\u001b[0;34m'saga'\u001b[0m\u001b[0;34m,\u001b[0m \u001b[0mmax_iter\u001b[0m\u001b[0;34m=\u001b[0m\u001b[0;36m500\u001b[0m\u001b[0;34m)\u001b[0m\u001b[0;34m\u001b[0m\u001b[0;34m\u001b[0m\u001b[0m\n\u001b[0;32m----> 2\u001b[0;31m \u001b[0mlr\u001b[0m\u001b[0;34m.\u001b[0m\u001b[0mfit\u001b[0m\u001b[0;34m(\u001b[0m\u001b[0mX_train_\u001b[0m\u001b[0;34m,\u001b[0m \u001b[0my_train\u001b[0m\u001b[0;34m)\u001b[0m\u001b[0;34m\u001b[0m\u001b[0;34m\u001b[0m\u001b[0m\n\u001b[0m",
      "\u001b[0;32m~/anaconda3/lib/python3.7/site-packages/sklearn/linear_model/_logistic.py\u001b[0m in \u001b[0;36mfit\u001b[0;34m(self, X, y, sample_weight)\u001b[0m\n\u001b[1;32m   1525\u001b[0m \u001b[0;34m\u001b[0m\u001b[0m\n\u001b[1;32m   1526\u001b[0m         X, y = check_X_y(X, y, accept_sparse='csr', dtype=_dtype, order=\"C\",\n\u001b[0;32m-> 1527\u001b[0;31m                          accept_large_sparse=solver != 'liblinear')\n\u001b[0m\u001b[1;32m   1528\u001b[0m         \u001b[0mcheck_classification_targets\u001b[0m\u001b[0;34m(\u001b[0m\u001b[0my\u001b[0m\u001b[0;34m)\u001b[0m\u001b[0;34m\u001b[0m\u001b[0;34m\u001b[0m\u001b[0m\n\u001b[1;32m   1529\u001b[0m         \u001b[0mself\u001b[0m\u001b[0;34m.\u001b[0m\u001b[0mclasses_\u001b[0m \u001b[0;34m=\u001b[0m \u001b[0mnp\u001b[0m\u001b[0;34m.\u001b[0m\u001b[0munique\u001b[0m\u001b[0;34m(\u001b[0m\u001b[0my\u001b[0m\u001b[0;34m)\u001b[0m\u001b[0;34m\u001b[0m\u001b[0;34m\u001b[0m\u001b[0m\n",
      "\u001b[0;32m~/anaconda3/lib/python3.7/site-packages/sklearn/utils/validation.py\u001b[0m in \u001b[0;36mcheck_X_y\u001b[0;34m(X, y, accept_sparse, accept_large_sparse, dtype, order, copy, force_all_finite, ensure_2d, allow_nd, multi_output, ensure_min_samples, ensure_min_features, y_numeric, warn_on_dtype, estimator)\u001b[0m\n\u001b[1;32m    758\u001b[0m                         dtype=None)\n\u001b[1;32m    759\u001b[0m     \u001b[0;32melse\u001b[0m\u001b[0;34m:\u001b[0m\u001b[0;34m\u001b[0m\u001b[0;34m\u001b[0m\u001b[0m\n\u001b[0;32m--> 760\u001b[0;31m         \u001b[0my\u001b[0m \u001b[0;34m=\u001b[0m \u001b[0mcolumn_or_1d\u001b[0m\u001b[0;34m(\u001b[0m\u001b[0my\u001b[0m\u001b[0;34m,\u001b[0m \u001b[0mwarn\u001b[0m\u001b[0;34m=\u001b[0m\u001b[0;32mTrue\u001b[0m\u001b[0;34m)\u001b[0m\u001b[0;34m\u001b[0m\u001b[0;34m\u001b[0m\u001b[0m\n\u001b[0m\u001b[1;32m    761\u001b[0m         \u001b[0m_assert_all_finite\u001b[0m\u001b[0;34m(\u001b[0m\u001b[0my\u001b[0m\u001b[0;34m)\u001b[0m\u001b[0;34m\u001b[0m\u001b[0;34m\u001b[0m\u001b[0m\n\u001b[1;32m    762\u001b[0m     \u001b[0;32mif\u001b[0m \u001b[0my_numeric\u001b[0m \u001b[0;32mand\u001b[0m \u001b[0my\u001b[0m\u001b[0;34m.\u001b[0m\u001b[0mdtype\u001b[0m\u001b[0;34m.\u001b[0m\u001b[0mkind\u001b[0m \u001b[0;34m==\u001b[0m \u001b[0;34m'O'\u001b[0m\u001b[0;34m:\u001b[0m\u001b[0;34m\u001b[0m\u001b[0;34m\u001b[0m\u001b[0m\n",
      "\u001b[0;32m~/anaconda3/lib/python3.7/site-packages/sklearn/utils/validation.py\u001b[0m in \u001b[0;36mcolumn_or_1d\u001b[0;34m(y, warn)\u001b[0m\n\u001b[1;32m    795\u001b[0m         \u001b[0;32mreturn\u001b[0m \u001b[0mnp\u001b[0m\u001b[0;34m.\u001b[0m\u001b[0mravel\u001b[0m\u001b[0;34m(\u001b[0m\u001b[0my\u001b[0m\u001b[0;34m)\u001b[0m\u001b[0;34m\u001b[0m\u001b[0;34m\u001b[0m\u001b[0m\n\u001b[1;32m    796\u001b[0m \u001b[0;34m\u001b[0m\u001b[0m\n\u001b[0;32m--> 797\u001b[0;31m     \u001b[0;32mraise\u001b[0m \u001b[0mValueError\u001b[0m\u001b[0;34m(\u001b[0m\u001b[0;34m\"bad input shape {0}\"\u001b[0m\u001b[0;34m.\u001b[0m\u001b[0mformat\u001b[0m\u001b[0;34m(\u001b[0m\u001b[0mshape\u001b[0m\u001b[0;34m)\u001b[0m\u001b[0;34m)\u001b[0m\u001b[0;34m\u001b[0m\u001b[0;34m\u001b[0m\u001b[0m\n\u001b[0m\u001b[1;32m    798\u001b[0m \u001b[0;34m\u001b[0m\u001b[0m\n\u001b[1;32m    799\u001b[0m \u001b[0;34m\u001b[0m\u001b[0m\n",
      "\u001b[0;31mValueError\u001b[0m: bad input shape (99633, 3)"
     ]
    }
   ],
   "source": [
    "lr = LogisticRegression(C=1, solver='saga', max_iter=500)\n",
    "lr.fit(X_train_, y_train)"
   ]
  },
  {
   "cell_type": "code",
   "execution_count": 283,
   "metadata": {},
   "outputs": [],
   "source": [
    "from tensorflow.keras.models import Sequential\n",
    "from tensorflow.keras.layers import BatchNormalization\n",
    "from tensorflow.keras.layers import Conv2D\n",
    "from tensorflow.keras.layers import MaxPooling2D\n",
    "from tensorflow.keras.layers import Activation\n",
    "from tensorflow.keras.layers import Dropout\n",
    "from tensorflow.keras.layers import Dense\n",
    "from tensorflow.keras.layers import Flatten\n",
    "from tensorflow.keras.layers import Input\n",
    "from tensorflow.keras.models import Model\n",
    "from tensorflow.keras.optimizers import Adam\n",
    "from tensorflow.keras.utils import to_categorical\n",
    "from tensorflow.keras.callbacks import LearningRateScheduler"
   ]
  },
  {
   "cell_type": "code",
   "execution_count": 292,
   "metadata": {},
   "outputs": [],
   "source": [
    "def create_mlp(dim, epochs=200,lr = 1e-2, n_classes=4, regress=False):\n",
    "  # Creamos nuestra red\n",
    "  model = Sequential()\n",
    "  model.add(Dense(8, input_dim=dim, activation=\"relu\", name='mlp_dense_1'))\n",
    "  model.add(Dense(n_classes, activation=\"softmax\", name='mlp_classification_output'))\n",
    "  # Comprobar si es un problema de regresion\n",
    "  if regress:\n",
    "    model.add(Dense(1, activation=\"linear\", name='mlp_regression_output'))\n",
    "\n",
    "  # Creamos el optimizador \n",
    "  opt = Adam(lr=lr)\n",
    "  # Compilamos nuestro modelo\n",
    "  loss_function = ('categorical_crossentropy', 'mean_squared_error')[regress]\n",
    "  # Seleccionamos las metricas que querramos\n",
    "  metrics = (['accuracy'],[])[regress]\n",
    "\n",
    "  model.compile(loss=loss_function, optimizer=opt, metrics=metrics)\n",
    "  # return our model\n",
    "  return model"
   ]
  },
  {
   "cell_type": "code",
   "execution_count": 300,
   "metadata": {},
   "outputs": [],
   "source": [
    "# Valores por defecto para las variables\n",
    "epochs = 50\n",
    "n_classes = 3\n",
    "regress = False\n",
    "lr = 1e-2"
   ]
  },
  {
   "cell_type": "code",
   "execution_count": 301,
   "metadata": {},
   "outputs": [],
   "source": [
    "def scheduler(epoch,lr): \n",
    "    return (lr, lr * np.exp(-0.1*lr))[epoch % 5 == 0]"
   ]
  },
  {
   "cell_type": "code",
   "execution_count": 302,
   "metadata": {
    "scrolled": true
   },
   "outputs": [
    {
     "name": "stdout",
     "output_type": "stream",
     "text": [
      "Train on 99633 samples, validate on 33211 samples\n",
      "\n",
      "Epoch 00001: LearningRateScheduler reducing learning rate to 0.009990004775263031.\n",
      "Epoch 1/50\n",
      "99633/99633 [==============================] - 15s 151us/sample - loss: 0.4303 - acc: 0.8452 - val_loss: 0.4018 - val_acc: 0.8515\n",
      "\n",
      "Epoch 00002: LearningRateScheduler reducing learning rate to 0.009990004822611809.\n",
      "Epoch 2/50\n",
      "99633/99633 [==============================] - 13s 135us/sample - loss: 0.3834 - acc: 0.8601 - val_loss: 0.3926 - val_acc: 0.8587\n",
      "\n",
      "Epoch 00003: LearningRateScheduler reducing learning rate to 0.009990004822611809.\n",
      "Epoch 3/50\n",
      "99633/99633 [==============================] - 13s 135us/sample - loss: 0.3608 - acc: 0.8677 - val_loss: 0.3871 - val_acc: 0.8610\n",
      "\n",
      "Epoch 00004: LearningRateScheduler reducing learning rate to 0.009990004822611809.\n",
      "Epoch 4/50\n",
      "99633/99633 [==============================] - 14s 138us/sample - loss: 0.3434 - acc: 0.8725 - val_loss: 0.3889 - val_acc: 0.8634\n",
      "\n",
      "Epoch 00005: LearningRateScheduler reducing learning rate to 0.009990004822611809.\n",
      "Epoch 5/50\n",
      "99633/99633 [==============================] - 14s 137us/sample - loss: 0.3303 - acc: 0.8791 - val_loss: 0.3931 - val_acc: 0.8637\n",
      "\n",
      "Epoch 00006: LearningRateScheduler reducing learning rate to 0.009980029786338844.\n",
      "Epoch 6/50\n",
      "99633/99633 [==============================] - 16s 164us/sample - loss: 0.3207 - acc: 0.8818 - val_loss: 0.4098 - val_acc: 0.8645\n",
      "\n",
      "Epoch 00007: LearningRateScheduler reducing learning rate to 0.009980029426515102.\n",
      "Epoch 7/50\n",
      "99633/99633 [==============================] - 15s 148us/sample - loss: 0.3125 - acc: 0.8848 - val_loss: 0.4036 - val_acc: 0.8648\n",
      "\n",
      "Epoch 00008: LearningRateScheduler reducing learning rate to 0.009980029426515102.\n",
      "Epoch 8/50\n",
      "99633/99633 [==============================] - 15s 148us/sample - loss: 0.3053 - acc: 0.8882 - val_loss: 0.3941 - val_acc: 0.8666\n",
      "\n",
      "Epoch 00009: LearningRateScheduler reducing learning rate to 0.009980029426515102.\n",
      "Epoch 9/50\n",
      "99633/99633 [==============================] - 15s 152us/sample - loss: 0.2993 - acc: 0.8901 - val_loss: 0.4362 - val_acc: 0.8585\n",
      "\n",
      "Epoch 00010: LearningRateScheduler reducing learning rate to 0.009980029426515102.\n",
      "Epoch 10/50\n",
      "99633/99633 [==============================] - 16s 163us/sample - loss: 0.2946 - acc: 0.8919 - val_loss: 0.4185 - val_acc: 0.8679\n",
      "\n",
      "Epoch 00011: LearningRateScheduler reducing learning rate to 0.009970074296230634.\n",
      "Epoch 11/50\n",
      "99633/99633 [==============================] - 15s 148us/sample - loss: 0.2902 - acc: 0.8935 - val_loss: 0.4255 - val_acc: 0.8687\n",
      "\n",
      "Epoch 00012: LearningRateScheduler reducing learning rate to 0.009970074519515038.\n",
      "Epoch 12/50\n",
      "99633/99633 [==============================] - 14s 142us/sample - loss: 0.2874 - acc: 0.8942 - val_loss: 0.4296 - val_acc: 0.8663\n",
      "\n",
      "Epoch 00013: LearningRateScheduler reducing learning rate to 0.009970074519515038.\n",
      "Epoch 13/50\n",
      "99633/99633 [==============================] - 15s 147us/sample - loss: 0.2834 - acc: 0.8959 - val_loss: 0.4301 - val_acc: 0.8679\n",
      "\n",
      "Epoch 00014: LearningRateScheduler reducing learning rate to 0.009970074519515038.\n",
      "Epoch 14/50\n",
      "99633/99633 [==============================] - 15s 146us/sample - loss: 0.2807 - acc: 0.8974 - val_loss: 0.4415 - val_acc: 0.8693\n",
      "\n",
      "Epoch 00015: LearningRateScheduler reducing learning rate to 0.009970074519515038.\n",
      "Epoch 15/50\n",
      "99633/99633 [==============================] - 14s 138us/sample - loss: 0.2783 - acc: 0.8978 - val_loss: 0.4482 - val_acc: 0.8611\n",
      "\n",
      "Epoch 00016: LearningRateScheduler reducing learning rate to 0.00996013923452215.\n",
      "Epoch 16/50\n",
      "99633/99633 [==============================] - 14s 143us/sample - loss: 0.2755 - acc: 0.8989 - val_loss: 0.4447 - val_acc: 0.8708\n",
      "\n",
      "Epoch 00017: LearningRateScheduler reducing learning rate to 0.00996013917028904.\n",
      "Epoch 17/50\n",
      "99633/99633 [==============================] - 14s 138us/sample - loss: 0.2740 - acc: 0.9000 - val_loss: 0.4514 - val_acc: 0.8666\n",
      "\n",
      "Epoch 00018: LearningRateScheduler reducing learning rate to 0.00996013917028904.\n",
      "Epoch 18/50\n",
      "99633/99633 [==============================] - 14s 138us/sample - loss: 0.2715 - acc: 0.9005 - val_loss: 0.4687 - val_acc: 0.8680\n",
      "\n",
      "Epoch 00019: LearningRateScheduler reducing learning rate to 0.00996013917028904.\n",
      "Epoch 19/50\n",
      "99633/99633 [==============================] - 14s 145us/sample - loss: 0.2707 - acc: 0.9013 - val_loss: 0.4601 - val_acc: 0.8684\n",
      "\n",
      "Epoch 00020: LearningRateScheduler reducing learning rate to 0.00996013917028904.\n",
      "Epoch 20/50\n",
      "99633/99633 [==============================] - 14s 138us/sample - loss: 0.2688 - acc: 0.9020 - val_loss: 0.4720 - val_acc: 0.8702\n",
      "\n",
      "Epoch 00021: LearningRateScheduler reducing learning rate to 0.009950223671866815.\n",
      "Epoch 21/50\n",
      "99633/99633 [==============================] - 14s 144us/sample - loss: 0.2675 - acc: 0.9020 - val_loss: 0.4636 - val_acc: 0.8695\n",
      "\n",
      "Epoch 00022: LearningRateScheduler reducing learning rate to 0.009950223378837109.\n",
      "Epoch 22/50\n",
      "99633/99633 [==============================] - 15s 149us/sample - loss: 0.2657 - acc: 0.9030 - val_loss: 0.4823 - val_acc: 0.8665\n",
      "\n",
      "Epoch 00023: LearningRateScheduler reducing learning rate to 0.009950223378837109.\n",
      "Epoch 23/50\n",
      "99633/99633 [==============================] - 14s 141us/sample - loss: 0.2656 - acc: 0.9035 - val_loss: 0.4794 - val_acc: 0.8696\n",
      "\n",
      "Epoch 00024: LearningRateScheduler reducing learning rate to 0.009950223378837109.\n",
      "Epoch 24/50\n",
      "99633/99633 [==============================] - 14s 143us/sample - loss: 0.2628 - acc: 0.9046 - val_loss: 0.4775 - val_acc: 0.8687\n",
      "\n",
      "Epoch 00025: LearningRateScheduler reducing learning rate to 0.009950223378837109.\n",
      "Epoch 25/50\n",
      "99633/99633 [==============================] - 15s 150us/sample - loss: 0.2630 - acc: 0.9042 - val_loss: 0.4851 - val_acc: 0.8703\n",
      "\n",
      "Epoch 00026: LearningRateScheduler reducing learning rate to 0.009940327608381018.\n",
      "Epoch 26/50\n",
      "99633/99633 [==============================] - 14s 140us/sample - loss: 0.2620 - acc: 0.9046 - val_loss: 0.4959 - val_acc: 0.8657\n",
      "\n",
      "Epoch 00027: LearningRateScheduler reducing learning rate to 0.009940327145159245.\n",
      "Epoch 27/50\n",
      "99633/99633 [==============================] - 16s 159us/sample - loss: 0.2613 - acc: 0.9053 - val_loss: 0.4872 - val_acc: 0.8700\n",
      "\n",
      "Epoch 00028: LearningRateScheduler reducing learning rate to 0.009940327145159245.\n",
      "Epoch 28/50\n",
      "99633/99633 [==============================] - 14s 144us/sample - loss: 0.2603 - acc: 0.9059 - val_loss: 0.4973 - val_acc: 0.8694\n",
      "\n",
      "Epoch 00029: LearningRateScheduler reducing learning rate to 0.009940327145159245.\n",
      "Epoch 29/50\n",
      "99633/99633 [==============================] - 15s 152us/sample - loss: 0.2600 - acc: 0.9052 - val_loss: 0.4955 - val_acc: 0.8685\n",
      "\n",
      "Epoch 00030: LearningRateScheduler reducing learning rate to 0.009940327145159245.\n",
      "Epoch 30/50\n",
      "99633/99633 [==============================] - 15s 146us/sample - loss: 0.2586 - acc: 0.9069 - val_loss: 0.4983 - val_acc: 0.8693\n",
      "\n",
      "Epoch 00031: LearningRateScheduler reducing learning rate to 0.009930451044180912.\n",
      "Epoch 31/50\n",
      "99633/99633 [==============================] - 14s 145us/sample - loss: 0.2582 - acc: 0.9066 - val_loss: 0.5032 - val_acc: 0.8671\n",
      "\n",
      "Epoch 00032: LearningRateScheduler reducing learning rate to 0.009930451400578022.\n",
      "Epoch 32/50\n",
      "99633/99633 [==============================] - 15s 149us/sample - loss: 0.2573 - acc: 0.9073 - val_loss: 0.5067 - val_acc: 0.8681\n",
      "\n",
      "Epoch 00033: LearningRateScheduler reducing learning rate to 0.009930451400578022.\n",
      "Epoch 33/50\n",
      "99633/99633 [==============================] - 14s 144us/sample - loss: 0.2569 - acc: 0.9080 - val_loss: 0.5023 - val_acc: 0.8686\n",
      "\n",
      "Epoch 00034: LearningRateScheduler reducing learning rate to 0.009930451400578022.\n",
      "Epoch 34/50\n",
      "99633/99633 [==============================] - 15s 146us/sample - loss: 0.2564 - acc: 0.9086 - val_loss: 0.5087 - val_acc: 0.8681\n",
      "\n",
      "Epoch 00035: LearningRateScheduler reducing learning rate to 0.009930451400578022.\n",
      "Epoch 35/50\n",
      "99633/99633 [==============================] - 15s 146us/sample - loss: 0.2562 - acc: 0.9084 - val_loss: 0.5354 - val_acc: 0.8580\n",
      "\n",
      "Epoch 00036: LearningRateScheduler reducing learning rate to 0.009920594908856687.\n",
      "Epoch 36/50\n",
      "99633/99633 [==============================] - 14s 141us/sample - loss: 0.2552 - acc: 0.9089 - val_loss: 0.5149 - val_acc: 0.8637\n",
      "\n",
      "Epoch 00037: LearningRateScheduler reducing learning rate to 0.009920595213770866.\n",
      "Epoch 37/50\n"
     ]
    },
    {
     "name": "stdout",
     "output_type": "stream",
     "text": [
      "99633/99633 [==============================] - 14s 142us/sample - loss: 0.2541 - acc: 0.9088 - val_loss: 0.5611 - val_acc: 0.8510\n",
      "\n",
      "Epoch 00038: LearningRateScheduler reducing learning rate to 0.009920595213770866.\n",
      "Epoch 38/50\n",
      "99633/99633 [==============================] - 13s 135us/sample - loss: 0.2540 - acc: 0.9092 - val_loss: 0.5339 - val_acc: 0.8630\n",
      "\n",
      "Epoch 00039: LearningRateScheduler reducing learning rate to 0.009920595213770866.\n",
      "Epoch 39/50\n",
      "99633/99633 [==============================] - 14s 142us/sample - loss: 0.2535 - acc: 0.9100 - val_loss: 0.5068 - val_acc: 0.8703\n",
      "\n",
      "Epoch 00040: LearningRateScheduler reducing learning rate to 0.009920595213770866.\n",
      "Epoch 40/50\n",
      "99633/99633 [==============================] - 14s 140us/sample - loss: 0.2532 - acc: 0.9100 - val_loss: 0.5241 - val_acc: 0.8679\n",
      "\n",
      "Epoch 00041: LearningRateScheduler reducing learning rate to 0.009910758273053445.\n",
      "Epoch 41/50\n",
      "99633/99633 [==============================] - 15s 153us/sample - loss: 0.2516 - acc: 0.9110 - val_loss: 0.5339 - val_acc: 0.8680\n",
      "\n",
      "Epoch 00042: LearningRateScheduler reducing learning rate to 0.009910758584737778.\n",
      "Epoch 42/50\n",
      "99633/99633 [==============================] - 15s 150us/sample - loss: 0.2519 - acc: 0.9104 - val_loss: 0.5233 - val_acc: 0.8683\n",
      "\n",
      "Epoch 00043: LearningRateScheduler reducing learning rate to 0.009910758584737778.\n",
      "Epoch 43/50\n",
      "99633/99633 [==============================] - 17s 166us/sample - loss: 0.2519 - acc: 0.9107 - val_loss: 0.5290 - val_acc: 0.8698\n",
      "\n",
      "Epoch 00044: LearningRateScheduler reducing learning rate to 0.009910758584737778.\n",
      "Epoch 44/50\n",
      "99633/99633 [==============================] - 14s 142us/sample - loss: 0.2498 - acc: 0.9111 - val_loss: 0.5569 - val_acc: 0.8604\n",
      "\n",
      "Epoch 00045: LearningRateScheduler reducing learning rate to 0.009910758584737778.\n",
      "Epoch 45/50\n",
      "99633/99633 [==============================] - 15s 147us/sample - loss: 0.2506 - acc: 0.9113 - val_loss: 0.5358 - val_acc: 0.8720\n",
      "\n",
      "Epoch 00046: LearningRateScheduler reducing learning rate to 0.009900941136886644.\n",
      "Epoch 46/50\n",
      "99633/99633 [==============================] - 14s 142us/sample - loss: 0.2506 - acc: 0.9113 - val_loss: 0.5302 - val_acc: 0.8694\n",
      "\n",
      "Epoch 00047: LearningRateScheduler reducing learning rate to 0.009900941513478756.\n",
      "Epoch 47/50\n",
      "99633/99633 [==============================] - 14s 143us/sample - loss: 0.2491 - acc: 0.9119 - val_loss: 0.5391 - val_acc: 0.8709\n",
      "\n",
      "Epoch 00048: LearningRateScheduler reducing learning rate to 0.009900941513478756.\n",
      "Epoch 48/50\n",
      "99633/99633 [==============================] - 13s 134us/sample - loss: 0.2495 - acc: 0.9119 - val_loss: 0.5522 - val_acc: 0.8668\n",
      "\n",
      "Epoch 00049: LearningRateScheduler reducing learning rate to 0.009900941513478756.\n",
      "Epoch 49/50\n",
      "99633/99633 [==============================] - 14s 140us/sample - loss: 0.2504 - acc: 0.9114 - val_loss: 0.5509 - val_acc: 0.8690\n",
      "\n",
      "Epoch 00050: LearningRateScheduler reducing learning rate to 0.009900941513478756.\n",
      "Epoch 50/50\n",
      "99633/99633 [==============================] - 14s 145us/sample - loss: 0.2498 - acc: 0.9118 - val_loss: 0.5257 - val_acc: 0.8694\n"
     ]
    }
   ],
   "source": [
    "# Creamos y entrenamos nuestro modelo\n",
    "model = create_mlp(X_train_.shape[1], epochs=epochs, n_classes=n_classes, lr=lr, regress=regress)\n",
    "\n",
    "scheduler_callback = LearningRateScheduler(scheduler, verbose=1)\n",
    "\n",
    "costs = model.fit(X_train_, y_train,\n",
    "    epochs=epochs, \n",
    "    batch_size=8, \n",
    "    validation_data=(X_validation_, y_validation),\n",
    "    callbacks=[scheduler_callback]\n",
    ")"
   ]
  },
  {
   "cell_type": "code",
   "execution_count": 304,
   "metadata": {
    "scrolled": true
   },
   "outputs": [
    {
     "name": "stdout",
     "output_type": "stream",
     "text": [
      "44282/44282 [==============================] - 1s 19us/sample - loss: 0.5325 - acc: 0.8703\n",
      " Loss: 0.5325119616167234 | Accuracy: 0.8702858686447144\n"
     ]
    }
   ],
   "source": [
    "scores = model.evaluate(X_test_, y_test)\n",
    "print(f' Loss: {scores[0]} | Accuracy: {scores[1]}')"
   ]
  },
  {
   "cell_type": "code",
   "execution_count": 315,
   "metadata": {},
   "outputs": [
    {
     "data": {
      "text/plain": [
       "array([[0, 0, 1],\n",
       "       [0, 0, 1],\n",
       "       [0, 1, 0],\n",
       "       ...,\n",
       "       [0, 0, 1],\n",
       "       [0, 0, 1],\n",
       "       [0, 0, 1]])"
      ]
     },
     "execution_count": 315,
     "metadata": {},
     "output_type": "execute_result"
    }
   ],
   "source": [
    "y_test"
   ]
  },
  {
   "cell_type": "code",
   "execution_count": 309,
   "metadata": {},
   "outputs": [
    {
     "data": {
      "text/plain": [
       "array([[3.8827890e-01, 2.1359749e-01, 3.9812359e-01],\n",
       "       [0.0000000e+00, 0.0000000e+00, 1.0000000e+00],\n",
       "       [0.0000000e+00, 6.0845287e-35, 1.0000000e+00],\n",
       "       ...,\n",
       "       [6.6661546e-03, 1.5729709e-04, 9.9317652e-01],\n",
       "       [2.5866161e-08, 9.5184885e-07, 9.9999905e-01],\n",
       "       [4.2542116e-08, 5.2743059e-07, 9.9999940e-01]], dtype=float32)"
      ]
     },
     "execution_count": 309,
     "metadata": {},
     "output_type": "execute_result"
    }
   ],
   "source": [
    "model.predict(X_test_)"
   ]
  },
  {
   "cell_type": "code",
   "execution_count": 314,
   "metadata": {},
   "outputs": [
    {
     "ename": "ValueError",
     "evalue": "Classification metrics can't handle a mix of multilabel-indicator and binary targets",
     "output_type": "error",
     "traceback": [
      "\u001b[0;31m---------------------------------------------------------------------------\u001b[0m",
      "\u001b[0;31mValueError\u001b[0m                                Traceback (most recent call last)",
      "\u001b[0;32m<ipython-input-314-4ad98875e459>\u001b[0m in \u001b[0;36m<module>\u001b[0;34m\u001b[0m\n\u001b[1;32m      1\u001b[0m \u001b[0;31m# print('Confussion matrix:\\n{}'.format(confusion_matrix(y_test, test_predict)))\u001b[0m\u001b[0;34m\u001b[0m\u001b[0;34m\u001b[0m\u001b[0;34m\u001b[0m\u001b[0m\n\u001b[1;32m      2\u001b[0m \u001b[0;31m# print('\\nClassification report:\\n{}'.format(classification_report(y_test, test_predict)))\u001b[0m\u001b[0;34m\u001b[0m\u001b[0;34m\u001b[0m\u001b[0;34m\u001b[0m\u001b[0m\n\u001b[0;32m----> 3\u001b[0;31m \u001b[0mprint\u001b[0m\u001b[0;34m(\u001b[0m\u001b[0;34m'Accuracy score:{}'\u001b[0m\u001b[0;34m.\u001b[0m\u001b[0mformat\u001b[0m\u001b[0;34m(\u001b[0m\u001b[0maccuracy_score\u001b[0m\u001b[0;34m(\u001b[0m\u001b[0my_test\u001b[0m\u001b[0;34m,\u001b[0m \u001b[0mtest_predict\u001b[0m\u001b[0;34m)\u001b[0m\u001b[0;34m)\u001b[0m\u001b[0;34m)\u001b[0m\u001b[0;34m\u001b[0m\u001b[0;34m\u001b[0m\u001b[0m\n\u001b[0m",
      "\u001b[0;32m~/anaconda3/lib/python3.7/site-packages/sklearn/metrics/_classification.py\u001b[0m in \u001b[0;36maccuracy_score\u001b[0;34m(y_true, y_pred, normalize, sample_weight)\u001b[0m\n\u001b[1;32m    183\u001b[0m \u001b[0;34m\u001b[0m\u001b[0m\n\u001b[1;32m    184\u001b[0m     \u001b[0;31m# Compute accuracy for each possible representation\u001b[0m\u001b[0;34m\u001b[0m\u001b[0;34m\u001b[0m\u001b[0;34m\u001b[0m\u001b[0m\n\u001b[0;32m--> 185\u001b[0;31m     \u001b[0my_type\u001b[0m\u001b[0;34m,\u001b[0m \u001b[0my_true\u001b[0m\u001b[0;34m,\u001b[0m \u001b[0my_pred\u001b[0m \u001b[0;34m=\u001b[0m \u001b[0m_check_targets\u001b[0m\u001b[0;34m(\u001b[0m\u001b[0my_true\u001b[0m\u001b[0;34m,\u001b[0m \u001b[0my_pred\u001b[0m\u001b[0;34m)\u001b[0m\u001b[0;34m\u001b[0m\u001b[0;34m\u001b[0m\u001b[0m\n\u001b[0m\u001b[1;32m    186\u001b[0m     \u001b[0mcheck_consistent_length\u001b[0m\u001b[0;34m(\u001b[0m\u001b[0my_true\u001b[0m\u001b[0;34m,\u001b[0m \u001b[0my_pred\u001b[0m\u001b[0;34m,\u001b[0m \u001b[0msample_weight\u001b[0m\u001b[0;34m)\u001b[0m\u001b[0;34m\u001b[0m\u001b[0;34m\u001b[0m\u001b[0m\n\u001b[1;32m    187\u001b[0m     \u001b[0;32mif\u001b[0m \u001b[0my_type\u001b[0m\u001b[0;34m.\u001b[0m\u001b[0mstartswith\u001b[0m\u001b[0;34m(\u001b[0m\u001b[0;34m'multilabel'\u001b[0m\u001b[0;34m)\u001b[0m\u001b[0;34m:\u001b[0m\u001b[0;34m\u001b[0m\u001b[0;34m\u001b[0m\u001b[0m\n",
      "\u001b[0;32m~/anaconda3/lib/python3.7/site-packages/sklearn/metrics/_classification.py\u001b[0m in \u001b[0;36m_check_targets\u001b[0;34m(y_true, y_pred)\u001b[0m\n\u001b[1;32m     88\u001b[0m     \u001b[0;32mif\u001b[0m \u001b[0mlen\u001b[0m\u001b[0;34m(\u001b[0m\u001b[0my_type\u001b[0m\u001b[0;34m)\u001b[0m \u001b[0;34m>\u001b[0m \u001b[0;36m1\u001b[0m\u001b[0;34m:\u001b[0m\u001b[0;34m\u001b[0m\u001b[0;34m\u001b[0m\u001b[0m\n\u001b[1;32m     89\u001b[0m         raise ValueError(\"Classification metrics can't handle a mix of {0} \"\n\u001b[0;32m---> 90\u001b[0;31m                          \"and {1} targets\".format(type_true, type_pred))\n\u001b[0m\u001b[1;32m     91\u001b[0m \u001b[0;34m\u001b[0m\u001b[0m\n\u001b[1;32m     92\u001b[0m     \u001b[0;31m# We can't have more than one value on y_type => The set is no more needed\u001b[0m\u001b[0;34m\u001b[0m\u001b[0;34m\u001b[0m\u001b[0;34m\u001b[0m\u001b[0m\n",
      "\u001b[0;31mValueError\u001b[0m: Classification metrics can't handle a mix of multilabel-indicator and binary targets"
     ]
    }
   ],
   "source": [
    "# print('Confussion matrix:\\n{}'.format(confusion_matrix(y_test, test_predict)))\n",
    "# print('\\nClassification report:\\n{}'.format(classification_report(y_test, test_predict)))\n",
    "print('Accuracy score:{}'.format(accuracy_score(y_test, test_predict)))"
   ]
  },
  {
   "cell_type": "code",
   "execution_count": 311,
   "metadata": {},
   "outputs": [
    {
     "ename": "ValueError",
     "evalue": "Classification metrics can't handle a mix of multilabel-indicator and continuous-multioutput targets",
     "output_type": "error",
     "traceback": [
      "\u001b[0;31m---------------------------------------------------------------------------\u001b[0m",
      "\u001b[0;31mValueError\u001b[0m                                Traceback (most recent call last)",
      "\u001b[0;32m<ipython-input-311-58932d935fbb>\u001b[0m in \u001b[0;36m<module>\u001b[0;34m\u001b[0m\n\u001b[0;32m----> 1\u001b[0;31m \u001b[0mevaluation\u001b[0m\u001b[0;34m(\u001b[0m\u001b[0mmodel\u001b[0m\u001b[0;34m,\u001b[0m \u001b[0mX_test_\u001b[0m\u001b[0;34m,\u001b[0m \u001b[0my_test\u001b[0m\u001b[0;34m)\u001b[0m\u001b[0;34m\u001b[0m\u001b[0;34m\u001b[0m\u001b[0m\n\u001b[0m",
      "\u001b[0;32m<ipython-input-310-bd8f194ed09a>\u001b[0m in \u001b[0;36mevaluation\u001b[0;34m(model, values, labels)\u001b[0m\n\u001b[1;32m      1\u001b[0m \u001b[0;32mdef\u001b[0m \u001b[0mevaluation\u001b[0m\u001b[0;34m(\u001b[0m\u001b[0mmodel\u001b[0m\u001b[0;34m,\u001b[0m \u001b[0mvalues\u001b[0m\u001b[0;34m,\u001b[0m \u001b[0mlabels\u001b[0m\u001b[0;34m)\u001b[0m\u001b[0;34m:\u001b[0m\u001b[0;34m\u001b[0m\u001b[0;34m\u001b[0m\u001b[0m\n\u001b[1;32m      2\u001b[0m     \u001b[0mtest_predict\u001b[0m \u001b[0;34m=\u001b[0m \u001b[0mmodel\u001b[0m\u001b[0;34m.\u001b[0m\u001b[0mpredict\u001b[0m\u001b[0;34m(\u001b[0m\u001b[0mvalues\u001b[0m\u001b[0;34m)\u001b[0m\u001b[0;34m\u001b[0m\u001b[0;34m\u001b[0m\u001b[0m\n\u001b[0;32m----> 3\u001b[0;31m     \u001b[0mprint\u001b[0m\u001b[0;34m(\u001b[0m\u001b[0;34m'Confussion matrix:\\n{}'\u001b[0m\u001b[0;34m.\u001b[0m\u001b[0mformat\u001b[0m\u001b[0;34m(\u001b[0m\u001b[0mconfusion_matrix\u001b[0m\u001b[0;34m(\u001b[0m\u001b[0my_test\u001b[0m\u001b[0;34m,\u001b[0m \u001b[0mtest_predict\u001b[0m\u001b[0;34m)\u001b[0m\u001b[0;34m)\u001b[0m\u001b[0;34m)\u001b[0m\u001b[0;34m\u001b[0m\u001b[0;34m\u001b[0m\u001b[0m\n\u001b[0m\u001b[1;32m      4\u001b[0m     \u001b[0mprint\u001b[0m\u001b[0;34m(\u001b[0m\u001b[0;34m'\\nClassification report:\\n{}'\u001b[0m\u001b[0;34m.\u001b[0m\u001b[0mformat\u001b[0m\u001b[0;34m(\u001b[0m\u001b[0mclassification_report\u001b[0m\u001b[0;34m(\u001b[0m\u001b[0my_test\u001b[0m\u001b[0;34m,\u001b[0m \u001b[0mtest_predict\u001b[0m\u001b[0;34m)\u001b[0m\u001b[0;34m)\u001b[0m\u001b[0;34m)\u001b[0m\u001b[0;34m\u001b[0m\u001b[0;34m\u001b[0m\u001b[0m\n\u001b[1;32m      5\u001b[0m     \u001b[0mprint\u001b[0m\u001b[0;34m(\u001b[0m\u001b[0;34m'Accuracy score:{}'\u001b[0m\u001b[0;34m.\u001b[0m\u001b[0mformat\u001b[0m\u001b[0;34m(\u001b[0m\u001b[0maccuracy_score\u001b[0m\u001b[0;34m(\u001b[0m\u001b[0my_test\u001b[0m\u001b[0;34m,\u001b[0m \u001b[0mtest_predict\u001b[0m\u001b[0;34m)\u001b[0m\u001b[0;34m)\u001b[0m\u001b[0;34m)\u001b[0m\u001b[0;34m\u001b[0m\u001b[0;34m\u001b[0m\u001b[0m\n",
      "\u001b[0;32m~/anaconda3/lib/python3.7/site-packages/sklearn/metrics/_classification.py\u001b[0m in \u001b[0;36mconfusion_matrix\u001b[0;34m(y_true, y_pred, labels, sample_weight, normalize)\u001b[0m\n\u001b[1;32m    266\u001b[0m \u001b[0;34m\u001b[0m\u001b[0m\n\u001b[1;32m    267\u001b[0m     \"\"\"\n\u001b[0;32m--> 268\u001b[0;31m     \u001b[0my_type\u001b[0m\u001b[0;34m,\u001b[0m \u001b[0my_true\u001b[0m\u001b[0;34m,\u001b[0m \u001b[0my_pred\u001b[0m \u001b[0;34m=\u001b[0m \u001b[0m_check_targets\u001b[0m\u001b[0;34m(\u001b[0m\u001b[0my_true\u001b[0m\u001b[0;34m,\u001b[0m \u001b[0my_pred\u001b[0m\u001b[0;34m)\u001b[0m\u001b[0;34m\u001b[0m\u001b[0;34m\u001b[0m\u001b[0m\n\u001b[0m\u001b[1;32m    269\u001b[0m     \u001b[0;32mif\u001b[0m \u001b[0my_type\u001b[0m \u001b[0;32mnot\u001b[0m \u001b[0;32min\u001b[0m \u001b[0;34m(\u001b[0m\u001b[0;34m\"binary\"\u001b[0m\u001b[0;34m,\u001b[0m \u001b[0;34m\"multiclass\"\u001b[0m\u001b[0;34m)\u001b[0m\u001b[0;34m:\u001b[0m\u001b[0;34m\u001b[0m\u001b[0;34m\u001b[0m\u001b[0m\n\u001b[1;32m    270\u001b[0m         \u001b[0;32mraise\u001b[0m \u001b[0mValueError\u001b[0m\u001b[0;34m(\u001b[0m\u001b[0;34m\"%s is not supported\"\u001b[0m \u001b[0;34m%\u001b[0m \u001b[0my_type\u001b[0m\u001b[0;34m)\u001b[0m\u001b[0;34m\u001b[0m\u001b[0;34m\u001b[0m\u001b[0m\n",
      "\u001b[0;32m~/anaconda3/lib/python3.7/site-packages/sklearn/metrics/_classification.py\u001b[0m in \u001b[0;36m_check_targets\u001b[0;34m(y_true, y_pred)\u001b[0m\n\u001b[1;32m     88\u001b[0m     \u001b[0;32mif\u001b[0m \u001b[0mlen\u001b[0m\u001b[0;34m(\u001b[0m\u001b[0my_type\u001b[0m\u001b[0;34m)\u001b[0m \u001b[0;34m>\u001b[0m \u001b[0;36m1\u001b[0m\u001b[0;34m:\u001b[0m\u001b[0;34m\u001b[0m\u001b[0;34m\u001b[0m\u001b[0m\n\u001b[1;32m     89\u001b[0m         raise ValueError(\"Classification metrics can't handle a mix of {0} \"\n\u001b[0;32m---> 90\u001b[0;31m                          \"and {1} targets\".format(type_true, type_pred))\n\u001b[0m\u001b[1;32m     91\u001b[0m \u001b[0;34m\u001b[0m\u001b[0m\n\u001b[1;32m     92\u001b[0m     \u001b[0;31m# We can't have more than one value on y_type => The set is no more needed\u001b[0m\u001b[0;34m\u001b[0m\u001b[0;34m\u001b[0m\u001b[0;34m\u001b[0m\u001b[0m\n",
      "\u001b[0;31mValueError\u001b[0m: Classification metrics can't handle a mix of multilabel-indicator and continuous-multioutput targets"
     ]
    }
   ],
   "source": [
    "evaluation(model, X_test_, y_test)"
   ]
  },
  {
   "cell_type": "code",
   "execution_count": null,
   "metadata": {},
   "outputs": [],
   "source": []
  },
  {
   "cell_type": "code",
   "execution_count": null,
   "metadata": {},
   "outputs": [],
   "source": []
  },
  {
   "cell_type": "code",
   "execution_count": null,
   "metadata": {},
   "outputs": [],
   "source": []
  },
  {
   "cell_type": "code",
   "execution_count": 267,
   "metadata": {},
   "outputs": [
    {
     "name": "stdout",
     "output_type": "stream",
     "text": [
      "Evaluating model with C=0.01, solver=lbfgs, max_iter=1000\n"
     ]
    },
    {
     "ename": "ValueError",
     "evalue": "bad input shape (99633, 3)",
     "output_type": "error",
     "traceback": [
      "\u001b[0;31m---------------------------------------------------------------------------\u001b[0m",
      "\u001b[0;31mValueError\u001b[0m                                Traceback (most recent call last)",
      "\u001b[0;32m<ipython-input-267-f955550e34c3>\u001b[0m in \u001b[0;36m<module>\u001b[0;34m\u001b[0m\n\u001b[1;32m      3\u001b[0m \u001b[0mmax_iter\u001b[0m \u001b[0;34m=\u001b[0m \u001b[0;36m1000\u001b[0m\u001b[0;34m\u001b[0m\u001b[0;34m\u001b[0m\u001b[0m\n\u001b[1;32m      4\u001b[0m \u001b[0;34m\u001b[0m\u001b[0m\n\u001b[0;32m----> 5\u001b[0;31m \u001b[0mgrid\u001b[0m \u001b[0;34m=\u001b[0m \u001b[0mgrid_executor\u001b[0m\u001b[0;34m(\u001b[0m\u001b[0mc_params\u001b[0m\u001b[0;34m,\u001b[0m \u001b[0msolvers\u001b[0m\u001b[0;34m,\u001b[0m \u001b[0mmax_iter\u001b[0m\u001b[0;34m,\u001b[0m \u001b[0mX_train_\u001b[0m\u001b[0;34m,\u001b[0m \u001b[0my_train\u001b[0m\u001b[0;34m,\u001b[0m \u001b[0mX_validation_\u001b[0m\u001b[0;34m,\u001b[0m \u001b[0my_validation\u001b[0m\u001b[0;34m)\u001b[0m\u001b[0;34m\u001b[0m\u001b[0;34m\u001b[0m\u001b[0m\n\u001b[0m",
      "\u001b[0;32m<ipython-input-189-23f39ca12129>\u001b[0m in \u001b[0;36mgrid_executor\u001b[0;34m(c_params, solvers, max_iter, X_train, y_train, X_val, y_val)\u001b[0m\n\u001b[1;32m      8\u001b[0m             \u001b[0mprint\u001b[0m\u001b[0;34m(\u001b[0m\u001b[0;34mf'Evaluating model with C={c}, solver={solver}, max_iter={max_iter}'\u001b[0m\u001b[0;34m)\u001b[0m\u001b[0;34m\u001b[0m\u001b[0;34m\u001b[0m\u001b[0m\n\u001b[1;32m      9\u001b[0m             \u001b[0mlr\u001b[0m \u001b[0;34m=\u001b[0m \u001b[0mLogisticRegression\u001b[0m\u001b[0;34m(\u001b[0m\u001b[0mC\u001b[0m\u001b[0;34m=\u001b[0m\u001b[0mc\u001b[0m\u001b[0;34m,\u001b[0m \u001b[0msolver\u001b[0m\u001b[0;34m=\u001b[0m\u001b[0msolver\u001b[0m\u001b[0;34m,\u001b[0m \u001b[0mmax_iter\u001b[0m\u001b[0;34m=\u001b[0m\u001b[0mmax_iter\u001b[0m\u001b[0;34m)\u001b[0m\u001b[0;34m\u001b[0m\u001b[0;34m\u001b[0m\u001b[0m\n\u001b[0;32m---> 10\u001b[0;31m             \u001b[0mlr\u001b[0m\u001b[0;34m.\u001b[0m\u001b[0mfit\u001b[0m\u001b[0;34m(\u001b[0m\u001b[0mX_train_\u001b[0m\u001b[0;34m,\u001b[0m \u001b[0my_train\u001b[0m\u001b[0;34m)\u001b[0m\u001b[0;34m\u001b[0m\u001b[0;34m\u001b[0m\u001b[0m\n\u001b[0m\u001b[1;32m     11\u001b[0m \u001b[0;34m\u001b[0m\u001b[0m\n\u001b[1;32m     12\u001b[0m             \u001b[0mtrain_predict\u001b[0m \u001b[0;34m=\u001b[0m \u001b[0mlr\u001b[0m\u001b[0;34m.\u001b[0m\u001b[0mpredict\u001b[0m\u001b[0;34m(\u001b[0m\u001b[0mX_train_\u001b[0m\u001b[0;34m)\u001b[0m\u001b[0;34m\u001b[0m\u001b[0;34m\u001b[0m\u001b[0m\n",
      "\u001b[0;32m~/anaconda3/lib/python3.7/site-packages/sklearn/linear_model/_logistic.py\u001b[0m in \u001b[0;36mfit\u001b[0;34m(self, X, y, sample_weight)\u001b[0m\n\u001b[1;32m   1525\u001b[0m \u001b[0;34m\u001b[0m\u001b[0m\n\u001b[1;32m   1526\u001b[0m         X, y = check_X_y(X, y, accept_sparse='csr', dtype=_dtype, order=\"C\",\n\u001b[0;32m-> 1527\u001b[0;31m                          accept_large_sparse=solver != 'liblinear')\n\u001b[0m\u001b[1;32m   1528\u001b[0m         \u001b[0mcheck_classification_targets\u001b[0m\u001b[0;34m(\u001b[0m\u001b[0my\u001b[0m\u001b[0;34m)\u001b[0m\u001b[0;34m\u001b[0m\u001b[0;34m\u001b[0m\u001b[0m\n\u001b[1;32m   1529\u001b[0m         \u001b[0mself\u001b[0m\u001b[0;34m.\u001b[0m\u001b[0mclasses_\u001b[0m \u001b[0;34m=\u001b[0m \u001b[0mnp\u001b[0m\u001b[0;34m.\u001b[0m\u001b[0munique\u001b[0m\u001b[0;34m(\u001b[0m\u001b[0my\u001b[0m\u001b[0;34m)\u001b[0m\u001b[0;34m\u001b[0m\u001b[0;34m\u001b[0m\u001b[0m\n",
      "\u001b[0;32m~/anaconda3/lib/python3.7/site-packages/sklearn/utils/validation.py\u001b[0m in \u001b[0;36mcheck_X_y\u001b[0;34m(X, y, accept_sparse, accept_large_sparse, dtype, order, copy, force_all_finite, ensure_2d, allow_nd, multi_output, ensure_min_samples, ensure_min_features, y_numeric, warn_on_dtype, estimator)\u001b[0m\n\u001b[1;32m    758\u001b[0m                         dtype=None)\n\u001b[1;32m    759\u001b[0m     \u001b[0;32melse\u001b[0m\u001b[0;34m:\u001b[0m\u001b[0;34m\u001b[0m\u001b[0;34m\u001b[0m\u001b[0m\n\u001b[0;32m--> 760\u001b[0;31m         \u001b[0my\u001b[0m \u001b[0;34m=\u001b[0m \u001b[0mcolumn_or_1d\u001b[0m\u001b[0;34m(\u001b[0m\u001b[0my\u001b[0m\u001b[0;34m,\u001b[0m \u001b[0mwarn\u001b[0m\u001b[0;34m=\u001b[0m\u001b[0;32mTrue\u001b[0m\u001b[0;34m)\u001b[0m\u001b[0;34m\u001b[0m\u001b[0;34m\u001b[0m\u001b[0m\n\u001b[0m\u001b[1;32m    761\u001b[0m         \u001b[0m_assert_all_finite\u001b[0m\u001b[0;34m(\u001b[0m\u001b[0my\u001b[0m\u001b[0;34m)\u001b[0m\u001b[0;34m\u001b[0m\u001b[0;34m\u001b[0m\u001b[0m\n\u001b[1;32m    762\u001b[0m     \u001b[0;32mif\u001b[0m \u001b[0my_numeric\u001b[0m \u001b[0;32mand\u001b[0m \u001b[0my\u001b[0m\u001b[0;34m.\u001b[0m\u001b[0mdtype\u001b[0m\u001b[0;34m.\u001b[0m\u001b[0mkind\u001b[0m \u001b[0;34m==\u001b[0m \u001b[0;34m'O'\u001b[0m\u001b[0;34m:\u001b[0m\u001b[0;34m\u001b[0m\u001b[0;34m\u001b[0m\u001b[0m\n",
      "\u001b[0;32m~/anaconda3/lib/python3.7/site-packages/sklearn/utils/validation.py\u001b[0m in \u001b[0;36mcolumn_or_1d\u001b[0;34m(y, warn)\u001b[0m\n\u001b[1;32m    795\u001b[0m         \u001b[0;32mreturn\u001b[0m \u001b[0mnp\u001b[0m\u001b[0;34m.\u001b[0m\u001b[0mravel\u001b[0m\u001b[0;34m(\u001b[0m\u001b[0my\u001b[0m\u001b[0;34m)\u001b[0m\u001b[0;34m\u001b[0m\u001b[0;34m\u001b[0m\u001b[0m\n\u001b[1;32m    796\u001b[0m \u001b[0;34m\u001b[0m\u001b[0m\n\u001b[0;32m--> 797\u001b[0;31m     \u001b[0;32mraise\u001b[0m \u001b[0mValueError\u001b[0m\u001b[0;34m(\u001b[0m\u001b[0;34m\"bad input shape {0}\"\u001b[0m\u001b[0;34m.\u001b[0m\u001b[0mformat\u001b[0m\u001b[0;34m(\u001b[0m\u001b[0mshape\u001b[0m\u001b[0;34m)\u001b[0m\u001b[0;34m)\u001b[0m\u001b[0;34m\u001b[0m\u001b[0;34m\u001b[0m\u001b[0m\n\u001b[0m\u001b[1;32m    798\u001b[0m \u001b[0;34m\u001b[0m\u001b[0m\n\u001b[1;32m    799\u001b[0m \u001b[0;34m\u001b[0m\u001b[0m\n",
      "\u001b[0;31mValueError\u001b[0m: bad input shape (99633, 3)"
     ]
    }
   ],
   "source": [
    "\n",
    "c_params = [0.01, 0.05, 0.25, 0.5, 1, 10, 100]\n",
    "solvers  = ['lbfgs']\n",
    "max_iter = 1000\n",
    "\n",
    "grid = grid_executor(c_params, solvers, max_iter, X_train_, y_train, X_validation_, y_validation)\n"
   ]
  },
  {
   "cell_type": "code",
   "execution_count": 245,
   "metadata": {},
   "outputs": [
    {
     "data": {
      "image/png": "[encoded data removed]",
      "text/plain": [
       "<Figure size 864x576 with 1 Axes>"
      ]
     },
     "metadata": {
      "needs_background": "light"
     },
     "output_type": "display_data"
    }
   ],
   "source": [
    "optimal_model_idx = plot_accuracy_evolution(grid)"
   ]
  },
  {
   "cell_type": "code",
   "execution_count": 246,
   "metadata": {},
   "outputs": [
    {
     "name": "stdout",
     "output_type": "stream",
     "text": [
      "Confussion matrix:\n",
      "[[  367     0  2897]\n",
      " [  443     0  3706]\n",
      " [ 3968     0 32901]]\n"
     ]
    },
    {
     "name": "stderr",
     "output_type": "stream",
     "text": [
      "/home/alberto/anaconda3/lib/python3.7/site-packages/sklearn/metrics/_classification.py:1272: UndefinedMetricWarning: Precision and F-score are ill-defined and being set to 0.0 in labels with no predicted samples. Use `zero_division` parameter to control this behavior.\n",
      "  _warn_prf(average, modifier, msg_start, len(result))\n"
     ]
    },
    {
     "name": "stdout",
     "output_type": "stream",
     "text": [
      "\n",
      "Classification report:\n",
      "              precision    recall  f1-score   support\n",
      "\n",
      "         neg       0.08      0.11      0.09      3264\n",
      "         neu       0.00      0.00      0.00      4149\n",
      "         pos       0.83      0.89      0.86     36869\n",
      "\n",
      "    accuracy                           0.75     44282\n",
      "   macro avg       0.30      0.33      0.32     44282\n",
      "weighted avg       0.70      0.75      0.72     44282\n",
      "\n",
      "Accuracy score:0.7512759134637098\n"
     ]
    }
   ],
   "source": [
    "evaluation(grid[optimal_model_idx].get('model'), X_test, y_test)"
   ]
  },
  {
   "cell_type": "code",
   "execution_count": 248,
   "metadata": {},
   "outputs": [
    {
     "name": "stdout",
     "output_type": "stream",
     "text": [
      "Comprobando review 163555\n",
      "\u001b[42mSentimiento pos - pos\u001b[0m\n",
      "Comprobando review 85212\n",
      "\u001b[42mSentimiento pos - pos\u001b[0m\n",
      "Comprobando review 79119\n",
      "\u001b[42mSentimiento pos - pos\u001b[0m\n",
      "Comprobando review 141666\n",
      "\u001b[41mSentimiento neu - neg\u001b[0m\n",
      "Comprobando review 116760\n",
      "\u001b[42mSentimiento pos - pos\u001b[0m\n",
      "Comprobando review 62054\n",
      "\u001b[42mSentimiento pos - pos\u001b[0m\n",
      "Comprobando review 111047\n",
      "\u001b[41mSentimiento pos - neg\u001b[0m\n",
      "Comprobando review 96298\n",
      "\u001b[42mSentimiento pos - pos\u001b[0m\n",
      "Comprobando review 118343\n",
      "\u001b[42mSentimiento pos - pos\u001b[0m\n",
      "Comprobando review 55800\n",
      "\u001b[41mSentimiento pos - neg\u001b[0m\n",
      "Comprobando review 174531\n",
      "\u001b[42mSentimiento pos - pos\u001b[0m\n",
      "Comprobando review 15324\n",
      "\u001b[42mSentimiento pos - pos\u001b[0m\n",
      "Comprobando review 8822\n",
      "\u001b[41mSentimiento neu - pos\u001b[0m\n",
      "Comprobando review 66014\n",
      "\u001b[42mSentimiento pos - pos\u001b[0m\n",
      "Comprobando review 48484\n",
      "\u001b[42mSentimiento neg - neg\u001b[0m\n",
      "Comprobando review 48512\n",
      "\u001b[42mSentimiento pos - pos\u001b[0m\n",
      "Comprobando review 168424\n",
      "\u001b[42mSentimiento pos - pos\u001b[0m\n",
      "Comprobando review 131149\n",
      "\u001b[42mSentimiento neg - neg\u001b[0m\n",
      "Comprobando review 110794\n",
      "\u001b[42mSentimiento pos - pos\u001b[0m\n",
      "Comprobando review 162192\n",
      "\u001b[42mSentimiento pos - pos\u001b[0m\n"
     ]
    }
   ],
   "source": [
    "predict_review_sentiment(cv, X_test, y_test, 20)"
   ]
  },
  {
   "cell_type": "code",
   "execution_count": null,
   "metadata": {},
   "outputs": [],
   "source": []
  }
 ],
 "metadata": {
  "kernelspec": {
   "display_name": "Python 3",
   "language": "python",
   "name": "python3"
  },
  "language_info": {
   "codemirror_mode": {
    "name": "ipython",
    "version": 3
   },
   "file_extension": ".py",
   "mimetype": "text/x-python",
   "name": "python",
   "nbconvert_exporter": "python",
   "pygments_lexer": "ipython3",
   "version": "3.7.6"
  }
 },
 "nbformat": 4,
 "nbformat_minor": 4
}
