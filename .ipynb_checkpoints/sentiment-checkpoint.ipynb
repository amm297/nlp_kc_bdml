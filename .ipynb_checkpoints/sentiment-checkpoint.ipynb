{
 "cells": [
  {
   "cell_type": "markdown",
   "metadata": {},
   "source": [
    "## 2. Análisis de Sentimiento\n",
    "\n",
    "Implementación y evaluación de un modelo de análisis de sentimiento.\n",
    "\n",
    "El objetivo principal es el de realizar un **modelo de clasificación binaria**. Se valorará positivamente comparar la variación en los resultados al usar **diferentes modelos**, al **modificar algún paso en la etapa de preprocesado** (stemming vs no stemming, p.ej.), así como la comparación de resultados utilizando o bien **modelos pre-entrenados** o modelos más simples (como VADER).\n",
    "\n",
    "Se utilizará alguno de los datasets disponibles de **reviews de Amazon**.\n",
    "\n",
    "Soluciones más avanzadas como por ejemplo modelos de clasificación multi-clase o basados en embeddings serán valorables."
   ]
  },
  {
   "cell_type": "code",
   "execution_count": 31,
   "metadata": {},
   "outputs": [],
   "source": [
    "# Importamos lo que vayamos a necesitar\n",
    "import pandas as pd\n",
    "import numpy as np\n",
    "import string\n",
    "import random\n",
    "\n",
    "import gensim\n",
    "from gensim.corpora import Dictionary\n",
    "from gensim.models import LdaModel, CoherenceModel\n",
    "\n",
    "import pyLDAvis\n",
    "import pyLDAvis.gensim\n",
    "\n",
    "from collections import Counter\n",
    "import matplotlib.pyplot as plt\n",
    "from stop_words import get_stop_words\n",
    "from nltk.stem.snowball import EnglishStemmer\n",
    "\n",
    "# Nuestras funciones del archivo utils, para el procesado del texto\n",
    "from utils import file_to_dict, process_text\n",
    "\n",
    "from sklearn.model_selection import train_test_split\n",
    "from sklearn.feature_extraction.text import CountVectorizer, TfidfVectorizer\n",
    "from sklearn.feature_selection import chi2\n",
    "from sklearn.linear_model import LogisticRegression\n",
    "from sklearn.multioutput import MultiOutputRegressor\n",
    "from sklearn.metrics import accuracy_score, confusion_matrix, classification_report, roc_curve\n",
    "from sklearn.preprocessing import OneHotEncoder\n",
    "\n",
    "\n",
    "from multiprocessing.pool import Pool\n",
    "from functools import partial\n",
    "from os import cpu_count"
   ]
  },
  {
   "cell_type": "markdown",
   "metadata": {},
   "source": [
    "### 1. Importamos y procesamos nuestros datos"
   ]
  },
  {
   "cell_type": "code",
   "execution_count": 2,
   "metadata": {},
   "outputs": [],
   "source": [
    "data = pd.read_csv('./datasets/reviews.csv')"
   ]
  },
  {
   "cell_type": "code",
   "execution_count": 3,
   "metadata": {},
   "outputs": [],
   "source": [
    "data['rating_binary_label'] = data['rating'].apply(lambda it: 'pos' if it > 3 else 'neg')"
   ]
  },
  {
   "cell_type": "code",
   "execution_count": 4,
   "metadata": {},
   "outputs": [],
   "source": [
    "data['rating_triary_label'] = data['rating'].apply(lambda it: 'pos' if it > 3 else ('neu' if it == 3 else 'neg'))"
   ]
  },
  {
   "cell_type": "code",
   "execution_count": 5,
   "metadata": {
    "scrolled": true
   },
   "outputs": [
    {
     "data": {
      "text/html": [
       "<div>\n",
       "<style scoped>\n",
       "    .dataframe tbody tr th:only-of-type {\n",
       "        vertical-align: middle;\n",
       "    }\n",
       "\n",
       "    .dataframe tbody tr th {\n",
       "        vertical-align: top;\n",
       "    }\n",
       "\n",
       "    .dataframe thead th {\n",
       "        text-align: right;\n",
       "    }\n",
       "</style>\n",
       "<table border=\"1\" class=\"dataframe\">\n",
       "  <thead>\n",
       "    <tr style=\"text-align: right;\">\n",
       "      <th></th>\n",
       "      <th>review</th>\n",
       "      <th>rating</th>\n",
       "      <th>helpful</th>\n",
       "      <th>category</th>\n",
       "      <th>rating_binary_label</th>\n",
       "      <th>rating_triary_label</th>\n",
       "    </tr>\n",
       "  </thead>\n",
       "  <tbody>\n",
       "    <tr>\n",
       "      <th>0</th>\n",
       "      <td>A fun way to bling up your desk and make sure ...</td>\n",
       "      <td>4</td>\n",
       "      <td>1.0</td>\n",
       "      <td>Office products</td>\n",
       "      <td>pos</td>\n",
       "      <td>pos</td>\n",
       "    </tr>\n",
       "    <tr>\n",
       "      <th>1</th>\n",
       "      <td>I continue to love this show. Raylan and the r...</td>\n",
       "      <td>5</td>\n",
       "      <td>0.0</td>\n",
       "      <td>Amazon instant videos</td>\n",
       "      <td>pos</td>\n",
       "      <td>pos</td>\n",
       "    </tr>\n",
       "    <tr>\n",
       "      <th>2</th>\n",
       "      <td>Arrived in super flash time.  Like another rev...</td>\n",
       "      <td>5</td>\n",
       "      <td>0.0</td>\n",
       "      <td>Patio lawn/garden</td>\n",
       "      <td>pos</td>\n",
       "      <td>pos</td>\n",
       "    </tr>\n",
       "    <tr>\n",
       "      <th>3</th>\n",
       "      <td>This treat ball works as expected. I used Temp...</td>\n",
       "      <td>4</td>\n",
       "      <td>0.5</td>\n",
       "      <td>Pet supplies</td>\n",
       "      <td>pos</td>\n",
       "      <td>pos</td>\n",
       "    </tr>\n",
       "    <tr>\n",
       "      <th>4</th>\n",
       "      <td>I know it's extrange but it works! It is easy ...</td>\n",
       "      <td>4</td>\n",
       "      <td>0.0</td>\n",
       "      <td>Baby</td>\n",
       "      <td>pos</td>\n",
       "      <td>pos</td>\n",
       "    </tr>\n",
       "  </tbody>\n",
       "</table>\n",
       "</div>"
      ],
      "text/plain": [
       "                                              review  rating  helpful  \\\n",
       "0  A fun way to bling up your desk and make sure ...       4      1.0   \n",
       "1  I continue to love this show. Raylan and the r...       5      0.0   \n",
       "2  Arrived in super flash time.  Like another rev...       5      0.0   \n",
       "3  This treat ball works as expected. I used Temp...       4      0.5   \n",
       "4  I know it's extrange but it works! It is easy ...       4      0.0   \n",
       "\n",
       "                category rating_binary_label rating_triary_label  \n",
       "0        Office products                 pos                 pos  \n",
       "1  Amazon instant videos                 pos                 pos  \n",
       "2      Patio lawn/garden                 pos                 pos  \n",
       "3           Pet supplies                 pos                 pos  \n",
       "4                   Baby                 pos                 pos  "
      ]
     },
     "execution_count": 5,
     "metadata": {},
     "output_type": "execute_result"
    }
   ],
   "source": [
    "# Vemos que ha creado nuestra neuva columna\n",
    "data.head()"
   ]
  },
  {
   "cell_type": "code",
   "execution_count": 6,
   "metadata": {},
   "outputs": [],
   "source": [
    "# Constants\n",
    "lemas = file_to_dict('./datasets/lemmatization-en.txt')\n",
    "min_length = 50\n",
    "en_stop_words = gensim.parsing.preprocessing.STOPWORDS\n",
    "translate_table = dict((ord(char), None) for char in string.punctuation)  \n",
    "lang='en'\n",
    "stemmer = EnglishStemmer(ignore_stopwords=True)"
   ]
  },
  {
   "cell_type": "code",
   "execution_count": 54,
   "metadata": {},
   "outputs": [],
   "source": [
    "def process_row(row):    \n",
    "    if type(row['review']) is str:    \n",
    "        aux = process_text(min_length, lemas, translate_table, en_stop_words, 'en', stemmer, row['review'])\n",
    "        if aux:\n",
    "            return {\n",
    "                'review': ' '.join(aux),\n",
    "                'review_processed': aux,\n",
    "                'category': row['category'],\n",
    "                'rating_binary_label': row['rating_binary_label'],\n",
    "                'rating_triary_label': row['rating_triary_label']\n",
    "            }"
   ]
  },
  {
   "cell_type": "code",
   "execution_count": 55,
   "metadata": {},
   "outputs": [],
   "source": [
    "pool = Pool(cpu_count())\n",
    "df = [it for it in pool.map(process_row, [row for index, row in data.iterrows()]) if it]\n",
    "pool.close()\n",
    "df = pd.DataFrame(list(df))\n",
    "df.dropna(inplace=True)"
   ]
  },
  {
   "cell_type": "code",
   "execution_count": 56,
   "metadata": {},
   "outputs": [
    {
     "data": {
      "text/html": [
       "<div>\n",
       "<style scoped>\n",
       "    .dataframe tbody tr th:only-of-type {\n",
       "        vertical-align: middle;\n",
       "    }\n",
       "\n",
       "    .dataframe tbody tr th {\n",
       "        vertical-align: top;\n",
       "    }\n",
       "\n",
       "    .dataframe thead th {\n",
       "        text-align: right;\n",
       "    }\n",
       "</style>\n",
       "<table border=\"1\" class=\"dataframe\">\n",
       "  <thead>\n",
       "    <tr style=\"text-align: right;\">\n",
       "      <th></th>\n",
       "      <th>review</th>\n",
       "      <th>review_processed</th>\n",
       "      <th>category</th>\n",
       "      <th>rating_binary_label</th>\n",
       "      <th>rating_triary_label</th>\n",
       "    </tr>\n",
       "  </thead>\n",
       "  <tbody>\n",
       "    <tr>\n",
       "      <th>0</th>\n",
       "      <td>bling desk surest want stolen stapler return i...</td>\n",
       "      <td>[bling, desk, surest, want, stolen, stapler, r...</td>\n",
       "      <td>Office products</td>\n",
       "      <td>pos</td>\n",
       "      <td>pos</td>\n",
       "    </tr>\n",
       "    <tr>\n",
       "      <th>1</th>\n",
       "      <td>continu love raylan rest charact southern atmo...</td>\n",
       "      <td>[continu, love, raylan, rest, charact, souther...</td>\n",
       "      <td>Amazon instant videos</td>\n",
       "      <td>pos</td>\n",
       "      <td>pos</td>\n",
       "    </tr>\n",
       "    <tr>\n",
       "      <th>2</th>\n",
       "      <td>arriv super flash time like anoth review hard ...</td>\n",
       "      <td>[arriv, super, flash, time, like, anoth, revie...</td>\n",
       "      <td>Patio lawn/garden</td>\n",
       "      <td>pos</td>\n",
       "      <td>pos</td>\n",
       "    </tr>\n",
       "    <tr>\n",
       "      <th>3</th>\n",
       "      <td>treat ball work expect tempat treat dispens fi...</td>\n",
       "      <td>[treat, ball, work, expect, tempat, treat, dis...</td>\n",
       "      <td>Pet supplies</td>\n",
       "      <td>pos</td>\n",
       "      <td>pos</td>\n",
       "    </tr>\n",
       "    <tr>\n",
       "      <th>4</th>\n",
       "      <td>know extrang works easiest clean eighth month ...</td>\n",
       "      <td>[know, extrang, works, easiest, clean, eighth,...</td>\n",
       "      <td>Baby</td>\n",
       "      <td>pos</td>\n",
       "      <td>pos</td>\n",
       "    </tr>\n",
       "    <tr>\n",
       "      <th>...</th>\n",
       "      <td>...</td>\n",
       "      <td>...</td>\n",
       "      <td>...</td>\n",
       "      <td>...</td>\n",
       "      <td>...</td>\n",
       "    </tr>\n",
       "    <tr>\n",
       "      <th>177120</th>\n",
       "      <td>second year happiest strap lock great product</td>\n",
       "      <td>[second, year, happiest, strap, lock, great, p...</td>\n",
       "      <td>Musical instruments</td>\n",
       "      <td>pos</td>\n",
       "      <td>pos</td>\n",
       "    </tr>\n",
       "    <tr>\n",
       "      <th>177121</th>\n",
       "      <td>unit everyth friend dodg intrepid told exact w...</td>\n",
       "      <td>[unit, everyth, friend, dodg, intrepid, told, ...</td>\n",
       "      <td>Automotive</td>\n",
       "      <td>pos</td>\n",
       "      <td>pos</td>\n",
       "    </tr>\n",
       "    <tr>\n",
       "      <th>177122</th>\n",
       "      <td>year smead hang folder plastic remov rarest oc...</td>\n",
       "      <td>[year, smead, hang, folder, plastic, remov, ra...</td>\n",
       "      <td>Office products</td>\n",
       "      <td>pos</td>\n",
       "      <td>pos</td>\n",
       "    </tr>\n",
       "    <tr>\n",
       "      <th>177123</th>\n",
       "      <td>pros need touch dead look cons silver scary ha...</td>\n",
       "      <td>[pros, need, touch, dead, look, cons, silver, ...</td>\n",
       "      <td>Patio lawn/garden</td>\n",
       "      <td>neg</td>\n",
       "      <td>neu</td>\n",
       "    </tr>\n",
       "    <tr>\n",
       "      <th>177124</th>\n",
       "      <td>bought went two thousand and twelve wrangler u...</td>\n",
       "      <td>[bought, went, two thousand and twelve, wrangl...</td>\n",
       "      <td>Automotive</td>\n",
       "      <td>pos</td>\n",
       "      <td>pos</td>\n",
       "    </tr>\n",
       "  </tbody>\n",
       "</table>\n",
       "<p>177125 rows × 5 columns</p>\n",
       "</div>"
      ],
      "text/plain": [
       "                                                   review  \\\n",
       "0       bling desk surest want stolen stapler return i...   \n",
       "1       continu love raylan rest charact southern atmo...   \n",
       "2       arriv super flash time like anoth review hard ...   \n",
       "3       treat ball work expect tempat treat dispens fi...   \n",
       "4       know extrang works easiest clean eighth month ...   \n",
       "...                                                   ...   \n",
       "177120      second year happiest strap lock great product   \n",
       "177121  unit everyth friend dodg intrepid told exact w...   \n",
       "177122  year smead hang folder plastic remov rarest oc...   \n",
       "177123  pros need touch dead look cons silver scary ha...   \n",
       "177124  bought went two thousand and twelve wrangler u...   \n",
       "\n",
       "                                         review_processed  \\\n",
       "0       [bling, desk, surest, want, stolen, stapler, r...   \n",
       "1       [continu, love, raylan, rest, charact, souther...   \n",
       "2       [arriv, super, flash, time, like, anoth, revie...   \n",
       "3       [treat, ball, work, expect, tempat, treat, dis...   \n",
       "4       [know, extrang, works, easiest, clean, eighth,...   \n",
       "...                                                   ...   \n",
       "177120  [second, year, happiest, strap, lock, great, p...   \n",
       "177121  [unit, everyth, friend, dodg, intrepid, told, ...   \n",
       "177122  [year, smead, hang, folder, plastic, remov, ra...   \n",
       "177123  [pros, need, touch, dead, look, cons, silver, ...   \n",
       "177124  [bought, went, two thousand and twelve, wrangl...   \n",
       "\n",
       "                     category rating_binary_label rating_triary_label  \n",
       "0             Office products                 pos                 pos  \n",
       "1       Amazon instant videos                 pos                 pos  \n",
       "2           Patio lawn/garden                 pos                 pos  \n",
       "3                Pet supplies                 pos                 pos  \n",
       "4                        Baby                 pos                 pos  \n",
       "...                       ...                 ...                 ...  \n",
       "177120    Musical instruments                 pos                 pos  \n",
       "177121             Automotive                 pos                 pos  \n",
       "177122        Office products                 pos                 pos  \n",
       "177123      Patio lawn/garden                 neg                 neu  \n",
       "177124             Automotive                 pos                 pos  \n",
       "\n",
       "[177125 rows x 5 columns]"
      ]
     },
     "execution_count": 56,
     "metadata": {},
     "output_type": "execute_result"
    }
   ],
   "source": [
    "df"
   ]
  },
  {
   "cell_type": "markdown",
   "metadata": {},
   "source": [
    "## Separamos en train test"
   ]
  },
  {
   "cell_type": "code",
   "execution_count": 57,
   "metadata": {},
   "outputs": [],
   "source": [
    "def train_test_splt(values, labels):\n",
    "    print('Spliting...')\n",
    "    return train_test_split(\n",
    "        values,\n",
    "        labels,\n",
    "        train_size=0.75,\n",
    "        test_size=0.25,\n",
    "        random_state=42,\n",
    "        shuffle=True,\n",
    "        stratify=labels\n",
    "    )"
   ]
  },
  {
   "cell_type": "code",
   "execution_count": 58,
   "metadata": {},
   "outputs": [
    {
     "name": "stdout",
     "output_type": "stream",
     "text": [
      "Spliting...\n",
      "Spliting...\n"
     ]
    }
   ],
   "source": [
    "X_train, X_test, y_train, y_test = train_test_splt(df['review'], df['rating_binary_label'])\n",
    "X_train, X_validation, y_train, y_validation= train_test_splt(X_train, y_train)"
   ]
  },
  {
   "cell_type": "markdown",
   "metadata": {},
   "source": [
    "## Extraccion de caracteristicas"
   ]
  },
  {
   "cell_type": "code",
   "execution_count": 16,
   "metadata": {},
   "outputs": [],
   "source": [
    "def plot_chi_square(values, labels, words_to_show=10): \n",
    "    # Compute the chi-squared score for each word in the training set and show the values\n",
    "    chi2score = chi2(values, labels)[0]\n",
    "    scores = list(zip(cv.get_feature_names(), chi2score))\n",
    "    sorted_scores = sorted(scores, key=lambda x:x[1])\n",
    "    topchi2 = list(zip(*sorted_scores[-words_to_show:]))\n",
    "    x = range(len(topchi2[1]))\n",
    "    labels = topchi2[0]\n",
    "\n",
    "    plt.figure(figsize=(12, 8))\n",
    "    plt.barh(x,topchi2[1], align='center', alpha=0.5)\n",
    "    plt.plot(topchi2[1], x, '-o', markersize=5, alpha=0.8)\n",
    "    plt.yticks(x, labels, fontsize=12)\n",
    "    plt.xlabel(r'$\\chi^2$', fontsize=26)\n",
    "    plt.ylabel('word', fontsize=16)\n",
    "    plt.title(r'Top {} $\\chi^2$ score for each word in the training set'.format(words_to_show), fontsize=20)\n",
    "    plt.grid()\n",
    "    plt.tight_layout()\n",
    "    plt.show();"
   ]
  },
  {
   "cell_type": "code",
   "execution_count": 59,
   "metadata": {
    "scrolled": true
   },
   "outputs": [],
   "source": [
    "cv = TfidfVectorizer(\n",
    "    max_df=0.95,\n",
    "    min_df=5,\n",
    "    max_features=2500,\n",
    "    strip_accents='ascii',\n",
    "    ngram_range=(1,1)\n",
    ")\n",
    "cv.fit(X_train)\n",
    "\n",
    "X_train_ = cv.transform(X_train)\n",
    "X_validation_ = cv.transform(X_validation)\n",
    "X_test_ = cv.transform(X_test)"
   ]
  },
  {
   "cell_type": "markdown",
   "metadata": {},
   "source": [
    "TODO ver que hacer con esto"
   ]
  },
  {
   "cell_type": "code",
   "execution_count": null,
   "metadata": {},
   "outputs": [],
   "source": [
    "print(list(cv.vocabulary_.items())[:20])"
   ]
  },
  {
   "cell_type": "code",
   "execution_count": null,
   "metadata": {},
   "outputs": [],
   "source": [
    "words_example = [\n",
    "    'this',\n",
    "    'like',\n",
    "    'good',\n",
    "    'great',\n",
    "    'dont',\n",
    "]"
   ]
  },
  {
   "cell_type": "code",
   "execution_count": null,
   "metadata": {},
   "outputs": [],
   "source": [
    "vocab_idf = dict(zip(cv.get_feature_names(), cv.idf_))\n",
    "\n",
    "print('{0:20}{1:20}'.format('Palabra', 'IDF'))\n",
    "for word in words_example:\n",
    "    if word not in vocab_idf:\n",
    "        print('{0:20}{1:20}'.format(word, 'OOV'))\n",
    "    else:\n",
    "        print('{0:20}{1:2.3f}'.format(word, vocab_idf[word]))"
   ]
  },
  {
   "cell_type": "code",
   "execution_count": null,
   "metadata": {},
   "outputs": [],
   "source": [
    "import random\n",
    "i = random.randint(0, len(X_train))\n",
    "print('ID: {}'.format(i))\n",
    "print('Sentiment: {}'.format(y_train.iloc[i]))\n",
    "print('Review: {}'.format(X_train.iloc[i]))"
   ]
  },
  {
   "cell_type": "code",
   "execution_count": null,
   "metadata": {},
   "outputs": [],
   "source": [
    "doc_vector = X_train_[i]\n",
    "df_tfidf = pd.DataFrame(doc_vector.T.todense(), index=cv.get_feature_names(), columns=['tfidf'])\n",
    "df_tfidf = df_tfidf[df_tfidf['tfidf'] > 0]\n",
    "\n",
    "top_n = 10\n",
    "print('Top {} words with highest TF_IDF in the review {}:\\n{}'.format(top_n, i, df_tfidf.sort_values(by=[\"tfidf\"],ascending=False)[:top_n]))\n",
    "print('\\nTop {} words with lowest TF_IDF in the review {}:\\n{}'.format(top_n, i, df_tfidf.sort_values(by=[\"tfidf\"],ascending=False)[-top_n:]))"
   ]
  },
  {
   "cell_type": "markdown",
   "metadata": {},
   "source": [
    "TODO ver que hacer con esto"
   ]
  },
  {
   "cell_type": "code",
   "execution_count": 60,
   "metadata": {},
   "outputs": [
    {
     "data": {
      "image/png": "[encoded data removed]",
      "text/plain": [
       "<Figure size 864x576 with 1 Axes>"
      ]
     },
     "metadata": {
      "needs_background": "light"
     },
     "output_type": "display_data"
    }
   ],
   "source": [
    "plot_chi_square(X_train_, y_train, 15)"
   ]
  },
  {
   "cell_type": "markdown",
   "metadata": {},
   "source": [
    "## Evaluacion del modelo"
   ]
  },
  {
   "cell_type": "code",
   "execution_count": 18,
   "metadata": {},
   "outputs": [],
   "source": [
    "def evaluation(model, values, labels):\n",
    "    test_predict = model.predict(values)\n",
    "    print('Confussion matrix:\\n{}'.format(confusion_matrix(y_test, test_predict)))\n",
    "    print('\\nClassification report:\\n{}'.format(classification_report(y_test, test_predict)))\n",
    "    print('Accuracy score:{}'.format(accuracy_score(y_test, test_predict)))"
   ]
  },
  {
   "cell_type": "code",
   "execution_count": 19,
   "metadata": {},
   "outputs": [],
   "source": [
    "def plot_values(values, max_idx, labels):\n",
    "    plt.figure(figsize=(12, 8))\n",
    "    for d in values:\n",
    "        plt.plot(d.get('value'), label=d.get('label'))\n",
    "    plt.axvline(max_idx, c='g', ls='--', alpha=0.8)\n",
    "    plt.title('Accuracy evolution for different C values')\n",
    "    plt.xlabel('C')\n",
    "    plt.ylabel('Accuracy')\n",
    "    plt.legend()\n",
    "    plt.grid()\n",
    "    plt.xticks(list(range(len(labels))), labels)\n",
    "    plt.tight_layout()\n",
    "    plt.show()"
   ]
  },
  {
   "cell_type": "code",
   "execution_count": 20,
   "metadata": {},
   "outputs": [],
   "source": [
    "def dict_creator(model, tp, vp, tacc, vacc): \n",
    "    return {\n",
    "        'model': model,\n",
    "        'predictions': {\n",
    "            'train': tp,\n",
    "            'validation': vp\n",
    "        },\n",
    "        'accuracy': {\n",
    "            'train': tacc,\n",
    "            'validation': vacc\n",
    "        }\n",
    "    }"
   ]
  },
  {
   "cell_type": "code",
   "execution_count": 21,
   "metadata": {},
   "outputs": [],
   "source": [
    "c_params = [0.01, 0.05, 0.25, 0.5, 1, 10, 100, 1000, 10000]\n",
    "\n",
    "def grid_executor(c_params, solvers, max_iter, X_train, y_train, X_val, y_val, multiple_label=False):\n",
    "\n",
    "    res = []\n",
    "    for solver in solvers:\n",
    "        for c in c_params:        \n",
    "            print(f'Evaluating model with C={c}, solver={solver}, max_iter={max_iter}')\n",
    "            model = LogisticRegression(C=c, solver=solver, max_iter=max_iter)\n",
    "            \n",
    "            if multiple_label:\n",
    "                model = MultiOutputRegressor(model)\n",
    "            \n",
    "            model.fit(X_train_, y_train)\n",
    "\n",
    "            train_predict = model.predict(X_train_)\n",
    "            validation_predict = model.predict(X_validation_)\n",
    "            \n",
    "            train_acc = accuracy_score(y_train, train_predict)\n",
    "            validation_acc = accuracy_score(y_val, validation_predict)\n",
    "\n",
    "            print (f\"Accuracy train: {train_acc}, val: {validation_acc}\")\n",
    "            \n",
    "            res.append(dict_creator(model, train_predict, validation_predict, train_acc, validation_acc))\n",
    "    return res"
   ]
  },
  {
   "cell_type": "code",
   "execution_count": 22,
   "metadata": {},
   "outputs": [],
   "source": [
    "def plot_accuracy_evolution(grid):\n",
    "    train_acc = []\n",
    "    val_acc = []\n",
    "    for aux in grid:\n",
    "        train,val = aux.get('accuracy').values()\n",
    "        train_acc.append(train)\n",
    "        val_acc.append(val)\n",
    "\n",
    "    values = [\n",
    "        {'label': 'train', 'value': train_acc},\n",
    "        {'label': 'validation', 'value': val_acc}\n",
    "    ]\n",
    "\n",
    "    optimal_model_idx = np.argmax(val_acc)\n",
    "\n",
    "    plot_values(values, optimal_model_idx, c_params)\n",
    "    \n",
    "    return optimal_model_idx"
   ]
  },
  {
   "cell_type": "code",
   "execution_count": 61,
   "metadata": {
    "scrolled": true
   },
   "outputs": [
    {
     "name": "stdout",
     "output_type": "stream",
     "text": [
      "Evaluating model with C=0.01, solver=lbfgs, max_iter=500\n",
      "Accuracy train: 0.8325839087843263, val: 0.8325855891120412\n",
      "Evaluating model with C=0.05, solver=lbfgs, max_iter=500\n",
      "Accuracy train: 0.8397703549060542, val: 0.8393002318508928\n",
      "Evaluating model with C=0.25, solver=lbfgs, max_iter=500\n",
      "Accuracy train: 0.8640296290348483, val: 0.8588419499563398\n",
      "Evaluating model with C=0.5, solver=lbfgs, max_iter=500\n",
      "Accuracy train: 0.8699514212301269, val: 0.8637198518563126\n",
      "Evaluating model with C=1, solver=lbfgs, max_iter=500\n",
      "Accuracy train: 0.8735145334832183, val: 0.8663996868507422\n",
      "Evaluating model with C=10, solver=lbfgs, max_iter=500\n",
      "Accuracy train: 0.8779207483539425, val: 0.8663695763451869\n",
      "Evaluating model with C=100, solver=lbfgs, max_iter=500\n",
      "Accuracy train: 0.8777400835073069, val: 0.8657974767396345\n",
      "Evaluating model with C=1000, solver=lbfgs, max_iter=500\n",
      "Accuracy train: 0.8775393447888229, val: 0.8656770347174129\n",
      "Evaluating model with C=10000, solver=lbfgs, max_iter=500\n",
      "Accuracy train: 0.8775694555965955, val: 0.8656469242118575\n"
     ]
    }
   ],
   "source": [
    "\n",
    "\n",
    "c_params = [0.01, 0.05, 0.25, 0.5, 1, 10, 100, 1000, 10000]\n",
    "solvers  = ['lbfgs']\n",
    "max_iter = 500\n",
    "\n",
    "grid = grid_executor(c_params, solvers, max_iter, X_train_, y_train, X_validation_, y_validation)\n"
   ]
  },
  {
   "cell_type": "code",
   "execution_count": 62,
   "metadata": {
    "scrolled": false
   },
   "outputs": [
    {
     "data": {
      "image/png": "[encoded data removed]",
      "text/plain": [
       "<Figure size 864x576 with 1 Axes>"
      ]
     },
     "metadata": {
      "needs_background": "light"
     },
     "output_type": "display_data"
    }
   ],
   "source": [
    "optimal_model_idx = plot_accuracy_evolution(grid)"
   ]
  },
  {
   "cell_type": "code",
   "execution_count": 63,
   "metadata": {},
   "outputs": [
    {
     "name": "stdout",
     "output_type": "stream",
     "text": [
      "Confussion matrix:\n",
      "[[ 2504  4910]\n",
      " [  998 35870]]\n",
      "\n",
      "Classification report:\n",
      "              precision    recall  f1-score   support\n",
      "\n",
      "         neg       0.72      0.34      0.46      7414\n",
      "         pos       0.88      0.97      0.92     36868\n",
      "\n",
      "    accuracy                           0.87     44282\n",
      "   macro avg       0.80      0.66      0.69     44282\n",
      "weighted avg       0.85      0.87      0.85     44282\n",
      "\n",
      "Accuracy score:0.866582358520392\n"
     ]
    }
   ],
   "source": [
    "evaluation(grid[optimal_model_idx].get('model'), X_test_, y_test)"
   ]
  },
  {
   "cell_type": "markdown",
   "metadata": {},
   "source": [
    "## Comprobamos nuestro modelo"
   ]
  },
  {
   "cell_type": "code",
   "execution_count": 27,
   "metadata": {},
   "outputs": [],
   "source": [
    "CRED = '\\033[41m'\n",
    "CGREEN = '\\033[42m'\n",
    "CEND = '\\033[0m'"
   ]
  },
  {
   "cell_type": "code",
   "execution_count": 42,
   "metadata": {},
   "outputs": [],
   "source": [
    "def predict_review_sentiment(model, cv, reviews, labels, num_samples):\n",
    "    predictions = []\n",
    "    lbls = []\n",
    "    for i in range(num_samples):\n",
    "        index = random.choice(X_test.index)\n",
    "        r = reviews[index]\n",
    "        \n",
    "        prediction = model.predict(cv.transform([r]))[0]\n",
    "        \n",
    "        predictions.append(prediction)\n",
    "        lbls.append(labels[index])\n",
    "        \n",
    "        color = (CRED, CGREEN)[labels[index] == prediction]\n",
    "        print(f\"Comprobando review {index}\")\n",
    "        print(f\"{color}Sentimiento {labels[index]} - {prediction}{CEND}\")\n",
    "    print('Accuracy scorede los elementos de prueba: {}'.format(accuracy_score(lbls, predictions)))"
   ]
  },
  {
   "cell_type": "code",
   "execution_count": 64,
   "metadata": {},
   "outputs": [
    {
     "name": "stdout",
     "output_type": "stream",
     "text": [
      "Comprobando review 64721\n",
      "\u001b[42mSentimiento pos - pos\u001b[0m\n",
      "Comprobando review 175779\n",
      "\u001b[42mSentimiento pos - pos\u001b[0m\n",
      "Comprobando review 115627\n",
      "\u001b[42mSentimiento pos - pos\u001b[0m\n",
      "Comprobando review 173168\n",
      "\u001b[42mSentimiento pos - pos\u001b[0m\n",
      "Comprobando review 29807\n",
      "\u001b[42mSentimiento pos - pos\u001b[0m\n",
      "Comprobando review 135533\n",
      "\u001b[41mSentimiento neg - pos\u001b[0m\n",
      "Comprobando review 17391\n",
      "\u001b[42mSentimiento pos - pos\u001b[0m\n",
      "Comprobando review 49860\n",
      "\u001b[42mSentimiento pos - pos\u001b[0m\n",
      "Comprobando review 103556\n",
      "\u001b[42mSentimiento pos - pos\u001b[0m\n",
      "Comprobando review 44806\n",
      "\u001b[42mSentimiento pos - pos\u001b[0m\n",
      "Accuracy scorede los elementos de prueba: 0.9\n"
     ]
    }
   ],
   "source": [
    "predict_review_sentiment(grid[optimal_model_idx].get('model'), cv, X_test, y_test, 10)"
   ]
  },
  {
   "cell_type": "markdown",
   "metadata": {},
   "source": [
    "Como vemos la moyoria de preducciones con correctas, el menos podemos afirmar eso para unas etiquetas binarias, vamos a probar ahora con 3 'sentimientos'"
   ]
  },
  {
   "cell_type": "markdown",
   "metadata": {},
   "source": [
    "## Vamos a probar ahora con VADER"
   ]
  },
  {
   "cell_type": "code",
   "execution_count": null,
   "metadata": {},
   "outputs": [],
   "source": [
    "from vaderSentiment.vaderSentiment import SentimentIntensityAnalyzer\n",
    "analyser = SentimentIntensityAnalyzer()"
   ]
  },
  {
   "cell_type": "code",
   "execution_count": null,
   "metadata": {},
   "outputs": [],
   "source": [
    "def sentiment_analyzer_scores(sentence):\n",
    "    score = analyser.polarity_scores(sentence)\n",
    "    print(\"{:-<40} {}\".format(sentence, str(score)))"
   ]
  },
  {
   "cell_type": "code",
   "execution_count": null,
   "metadata": {},
   "outputs": [],
   "source": [
    "sentiment_analyzer_scores(\"The phone is super cool.\")"
   ]
  },
  {
   "cell_type": "code",
   "execution_count": null,
   "metadata": {},
   "outputs": [],
   "source": []
  },
  {
   "cell_type": "code",
   "execution_count": null,
   "metadata": {},
   "outputs": [],
   "source": []
  },
  {
   "cell_type": "code",
   "execution_count": null,
   "metadata": {},
   "outputs": [],
   "source": []
  },
  {
   "cell_type": "markdown",
   "metadata": {},
   "source": [
    "## Evaluacion para 3 etiquetas"
   ]
  },
  {
   "cell_type": "code",
   "execution_count": 65,
   "metadata": {},
   "outputs": [
    {
     "name": "stdout",
     "output_type": "stream",
     "text": [
      "Spliting...\n",
      "Spliting...\n"
     ]
    }
   ],
   "source": [
    "X_train, X_test, y_train, y_test = train_test_splt(df['review'], df['rating_triary_label'])\n",
    "X_train, X_validation, y_train, y_validation= train_test_splt(X_train, y_train)"
   ]
  },
  {
   "cell_type": "code",
   "execution_count": 66,
   "metadata": {},
   "outputs": [],
   "source": [
    "from sklearn.preprocessing import LabelBinarizer\n",
    "\n",
    "encoder = LabelBinarizer()\n",
    "\n",
    "y_train = encoder.fit_transform(y_train)\n",
    "y_validation = encoder.transform(y_validation)\n",
    "y_test = encoder.transform(y_test)"
   ]
  },
  {
   "cell_type": "code",
   "execution_count": 67,
   "metadata": {},
   "outputs": [],
   "source": [
    "cv = TfidfVectorizer(\n",
    "    max_df=0.95,\n",
    "    min_df=5,\n",
    "    max_features=2500,\n",
    "    strip_accents='ascii',\n",
    "    ngram_range=(1,1)\n",
    ")\n",
    "cv.fit(X_train)\n",
    "\n",
    "X_train_ = cv.transform(X_train)\n",
    "X_validation_ = cv.transform(X_validation)\n",
    "X_test_ = cv.transform(X_test)"
   ]
  },
  {
   "cell_type": "code",
   "execution_count": 68,
   "metadata": {
    "scrolled": false
   },
   "outputs": [
    {
     "data": {
      "image/png": "[encoded data removed]",
      "text/plain": [
       "<Figure size 864x576 with 1 Axes>"
      ]
     },
     "metadata": {
      "needs_background": "light"
     },
     "output_type": "display_data"
    }
   ],
   "source": [
    "plot_chi_square(X_train_, y_train, 15)"
   ]
  },
  {
   "cell_type": "code",
   "execution_count": 90,
   "metadata": {
    "scrolled": true
   },
   "outputs": [
    {
     "name": "stdout",
     "output_type": "stream",
     "text": [
      "Evaluating model with C=0.01, solver=lbfgs, max_iter=500\n",
      "Accuracy train: 0.8325738718484021, val: 0.8325855891120412\n",
      "Evaluating model with C=0.05, solver=lbfgs, max_iter=500\n",
      "Accuracy train: 0.8311586638830898, val: 0.8305982957453856\n",
      "Evaluating model with C=0.25, solver=lbfgs, max_iter=500\n",
      "Accuracy train: 0.8296731973663081, val: 0.8268645930565174\n",
      "Evaluating model with C=0.5, solver=lbfgs, max_iter=500\n",
      "Accuracy train: 0.8313895134093464, val: 0.8274366926620698\n",
      "Evaluating model with C=1, solver=lbfgs, max_iter=500\n",
      "Accuracy train: 0.8328147583105829, val: 0.8266538195176297\n",
      "Evaluating model with C=10, solver=lbfgs, max_iter=500\n",
      "Accuracy train: 0.8354243616508752, val: 0.825359067778748\n",
      "Evaluating model with C=100, solver=lbfgs, max_iter=500\n",
      "Accuracy train: 0.8353842139071784, val: 0.8233717744120924\n"
     ]
    }
   ],
   "source": [
    "\n",
    "c_params = [0.01, 0.05, 0.25, 0.5, 1, 10, 100]\n",
    "solvers  = ['lbfgs']\n",
    "max_iter = 500\n",
    "\n",
    "grid = grid_executor(c_params, solvers, max_iter, X_train_, y_train, X_validation_, y_validation, True)\n"
   ]
  },
  {
   "cell_type": "code",
   "execution_count": 91,
   "metadata": {
    "scrolled": false
   },
   "outputs": [
    {
     "data": {
      "image/png": "[encoded data removed]",
      "text/plain": [
       "<Figure size 864x576 with 1 Axes>"
      ]
     },
     "metadata": {
      "needs_background": "light"
     },
     "output_type": "display_data"
    }
   ],
   "source": [
    "optimal_model_idx = plot_accuracy_evolution(grid)"
   ]
  },
  {
   "cell_type": "code",
   "execution_count": 73,
   "metadata": {
    "scrolled": true
   },
   "outputs": [
    {
     "data": {
      "text/plain": [
       "MultiOutputRegressor(estimator=LogisticRegression(C=0.01, class_weight=None,\n",
       "                                                  dual=False,\n",
       "                                                  fit_intercept=True,\n",
       "                                                  intercept_scaling=1,\n",
       "                                                  l1_ratio=None, max_iter=500,\n",
       "                                                  multi_class='auto',\n",
       "                                                  n_jobs=None, penalty='l2',\n",
       "                                                  random_state=None,\n",
       "                                                  solver='lbfgs', tol=0.0001,\n",
       "                                                  verbose=0, warm_start=False),\n",
       "                     n_jobs=None)"
      ]
     },
     "execution_count": 73,
     "metadata": {},
     "output_type": "execute_result"
    }
   ],
   "source": [
    "grid[optimal_model_idx].get('model')"
   ]
  },
  {
   "cell_type": "code",
   "execution_count": 92,
   "metadata": {},
   "outputs": [
    {
     "name": "stdout",
     "output_type": "stream",
     "text": [
      "Confussion matrix:\n",
      "[[    0     0  3264]\n",
      " [    0     0  4149]\n",
      " [    0     0 36869]]\n",
      "\n",
      "Classification report:\n",
      "              precision    recall  f1-score   support\n",
      "\n",
      "         neg       0.00      0.00      0.00      3264\n",
      "         neu       0.00      0.00      0.00      4149\n",
      "         pos       0.83      1.00      0.91     36869\n",
      "\n",
      "    accuracy                           0.83     44282\n",
      "   macro avg       0.28      0.33      0.30     44282\n",
      "weighted avg       0.69      0.83      0.76     44282\n",
      "\n",
      "Accuracy score:0.8325956370534303\n"
     ]
    },
    {
     "name": "stderr",
     "output_type": "stream",
     "text": [
      "/home/alberto/anaconda3/lib/python3.7/site-packages/sklearn/metrics/_classification.py:1272: UndefinedMetricWarning: Precision and F-score are ill-defined and being set to 0.0 in labels with no predicted samples. Use `zero_division` parameter to control this behavior.\n",
      "  _warn_prf(average, modifier, msg_start, len(result))\n"
     ]
    }
   ],
   "source": [
    "test_predict = grid[optimal_model_idx].get('model').predict(X_test_)\n",
    "aux1 = encoder.inverse_transform(y_test)\n",
    "aux2 = encoder.inverse_transform(test_predict)\n",
    "print('Confussion matrix:\\n{}'.format(confusion_matrix(aux1, aux2)))\n",
    "print('\\nClassification report:\\n{}'.format(classification_report(aux1, aux2)))\n",
    "print('Accuracy score:{}'.format(accuracy_score(aux1, aux2)))"
   ]
  },
  {
   "cell_type": "code",
   "execution_count": 82,
   "metadata": {},
   "outputs": [
    {
     "name": "stdout",
     "output_type": "stream",
     "text": [
      "Confussion matrix:\n",
      "[[    0     0  3264]\n",
      " [    0     0  4149]\n",
      " [    0     0 36869]]\n"
     ]
    }
   ],
   "source": [
    "print('Confussion matrix:\\n{}'.format(confusion_matrix(encoder.inverse_transform(y_test), encoder.inverse_transform(test_predict))))"
   ]
  },
  {
   "cell_type": "code",
   "execution_count": 79,
   "metadata": {},
   "outputs": [],
   "source": [
    "test_predict = grid[optimal_model_idx].get('model').predict(X_test_)"
   ]
  },
  {
   "cell_type": "code",
   "execution_count": 81,
   "metadata": {},
   "outputs": [
    {
     "data": {
      "text/plain": [
       "array(['pos', 'pos', 'pos', ..., 'pos', 'pos', 'pos'], dtype='<U3')"
      ]
     },
     "execution_count": 81,
     "metadata": {},
     "output_type": "execute_result"
    }
   ],
   "source": [
    "encoder.inverse_transform(test_predict)"
   ]
  },
  {
   "cell_type": "code",
   "execution_count": 77,
   "metadata": {},
   "outputs": [
    {
     "ename": "ValueError",
     "evalue": "multilabel-indicator is not supported",
     "output_type": "error",
     "traceback": [
      "\u001b[0;31m---------------------------------------------------------------------------\u001b[0m",
      "\u001b[0;31mValueError\u001b[0m                                Traceback (most recent call last)",
      "\u001b[0;32m<ipython-input-77-7e90dbc293e9>\u001b[0m in \u001b[0;36m<module>\u001b[0;34m\u001b[0m\n\u001b[0;32m----> 1\u001b[0;31m \u001b[0mevaluation\u001b[0m\u001b[0;34m(\u001b[0m\u001b[0mgrid\u001b[0m\u001b[0;34m[\u001b[0m\u001b[0moptimal_model_idx\u001b[0m\u001b[0;34m]\u001b[0m\u001b[0;34m.\u001b[0m\u001b[0mget\u001b[0m\u001b[0;34m(\u001b[0m\u001b[0;34m'model'\u001b[0m\u001b[0;34m)\u001b[0m\u001b[0;34m,\u001b[0m \u001b[0mX_test_\u001b[0m\u001b[0;34m,\u001b[0m \u001b[0mencoder\u001b[0m\u001b[0;34m.\u001b[0m\u001b[0minverse_transform\u001b[0m\u001b[0;34m(\u001b[0m\u001b[0my_test\u001b[0m\u001b[0;34m)\u001b[0m\u001b[0;34m)\u001b[0m\u001b[0;34m\u001b[0m\u001b[0;34m\u001b[0m\u001b[0m\n\u001b[0m",
      "\u001b[0;32m<ipython-input-18-bd8f194ed09a>\u001b[0m in \u001b[0;36mevaluation\u001b[0;34m(model, values, labels)\u001b[0m\n\u001b[1;32m      1\u001b[0m \u001b[0;32mdef\u001b[0m \u001b[0mevaluation\u001b[0m\u001b[0;34m(\u001b[0m\u001b[0mmodel\u001b[0m\u001b[0;34m,\u001b[0m \u001b[0mvalues\u001b[0m\u001b[0;34m,\u001b[0m \u001b[0mlabels\u001b[0m\u001b[0;34m)\u001b[0m\u001b[0;34m:\u001b[0m\u001b[0;34m\u001b[0m\u001b[0;34m\u001b[0m\u001b[0m\n\u001b[1;32m      2\u001b[0m     \u001b[0mtest_predict\u001b[0m \u001b[0;34m=\u001b[0m \u001b[0mmodel\u001b[0m\u001b[0;34m.\u001b[0m\u001b[0mpredict\u001b[0m\u001b[0;34m(\u001b[0m\u001b[0mvalues\u001b[0m\u001b[0;34m)\u001b[0m\u001b[0;34m\u001b[0m\u001b[0;34m\u001b[0m\u001b[0m\n\u001b[0;32m----> 3\u001b[0;31m     \u001b[0mprint\u001b[0m\u001b[0;34m(\u001b[0m\u001b[0;34m'Confussion matrix:\\n{}'\u001b[0m\u001b[0;34m.\u001b[0m\u001b[0mformat\u001b[0m\u001b[0;34m(\u001b[0m\u001b[0mconfusion_matrix\u001b[0m\u001b[0;34m(\u001b[0m\u001b[0my_test\u001b[0m\u001b[0;34m,\u001b[0m \u001b[0mtest_predict\u001b[0m\u001b[0;34m)\u001b[0m\u001b[0;34m)\u001b[0m\u001b[0;34m)\u001b[0m\u001b[0;34m\u001b[0m\u001b[0;34m\u001b[0m\u001b[0m\n\u001b[0m\u001b[1;32m      4\u001b[0m     \u001b[0mprint\u001b[0m\u001b[0;34m(\u001b[0m\u001b[0;34m'\\nClassification report:\\n{}'\u001b[0m\u001b[0;34m.\u001b[0m\u001b[0mformat\u001b[0m\u001b[0;34m(\u001b[0m\u001b[0mclassification_report\u001b[0m\u001b[0;34m(\u001b[0m\u001b[0my_test\u001b[0m\u001b[0;34m,\u001b[0m \u001b[0mtest_predict\u001b[0m\u001b[0;34m)\u001b[0m\u001b[0;34m)\u001b[0m\u001b[0;34m)\u001b[0m\u001b[0;34m\u001b[0m\u001b[0;34m\u001b[0m\u001b[0m\n\u001b[1;32m      5\u001b[0m     \u001b[0mprint\u001b[0m\u001b[0;34m(\u001b[0m\u001b[0;34m'Accuracy score:{}'\u001b[0m\u001b[0;34m.\u001b[0m\u001b[0mformat\u001b[0m\u001b[0;34m(\u001b[0m\u001b[0maccuracy_score\u001b[0m\u001b[0;34m(\u001b[0m\u001b[0my_test\u001b[0m\u001b[0;34m,\u001b[0m \u001b[0mtest_predict\u001b[0m\u001b[0;34m)\u001b[0m\u001b[0;34m)\u001b[0m\u001b[0;34m)\u001b[0m\u001b[0;34m\u001b[0m\u001b[0;34m\u001b[0m\u001b[0m\n",
      "\u001b[0;32m~/anaconda3/lib/python3.7/site-packages/sklearn/metrics/_classification.py\u001b[0m in \u001b[0;36mconfusion_matrix\u001b[0;34m(y_true, y_pred, labels, sample_weight, normalize)\u001b[0m\n\u001b[1;32m    268\u001b[0m     \u001b[0my_type\u001b[0m\u001b[0;34m,\u001b[0m \u001b[0my_true\u001b[0m\u001b[0;34m,\u001b[0m \u001b[0my_pred\u001b[0m \u001b[0;34m=\u001b[0m \u001b[0m_check_targets\u001b[0m\u001b[0;34m(\u001b[0m\u001b[0my_true\u001b[0m\u001b[0;34m,\u001b[0m \u001b[0my_pred\u001b[0m\u001b[0;34m)\u001b[0m\u001b[0;34m\u001b[0m\u001b[0;34m\u001b[0m\u001b[0m\n\u001b[1;32m    269\u001b[0m     \u001b[0;32mif\u001b[0m \u001b[0my_type\u001b[0m \u001b[0;32mnot\u001b[0m \u001b[0;32min\u001b[0m \u001b[0;34m(\u001b[0m\u001b[0;34m\"binary\"\u001b[0m\u001b[0;34m,\u001b[0m \u001b[0;34m\"multiclass\"\u001b[0m\u001b[0;34m)\u001b[0m\u001b[0;34m:\u001b[0m\u001b[0;34m\u001b[0m\u001b[0;34m\u001b[0m\u001b[0m\n\u001b[0;32m--> 270\u001b[0;31m         \u001b[0;32mraise\u001b[0m \u001b[0mValueError\u001b[0m\u001b[0;34m(\u001b[0m\u001b[0;34m\"%s is not supported\"\u001b[0m \u001b[0;34m%\u001b[0m \u001b[0my_type\u001b[0m\u001b[0;34m)\u001b[0m\u001b[0;34m\u001b[0m\u001b[0;34m\u001b[0m\u001b[0m\n\u001b[0m\u001b[1;32m    271\u001b[0m \u001b[0;34m\u001b[0m\u001b[0m\n\u001b[1;32m    272\u001b[0m     \u001b[0;32mif\u001b[0m \u001b[0mlabels\u001b[0m \u001b[0;32mis\u001b[0m \u001b[0;32mNone\u001b[0m\u001b[0;34m:\u001b[0m\u001b[0;34m\u001b[0m\u001b[0;34m\u001b[0m\u001b[0m\n",
      "\u001b[0;31mValueError\u001b[0m: multilabel-indicator is not supported"
     ]
    }
   ],
   "source": [
    "evaluation(grid[optimal_model_idx].get('model'), X_test_, encoder.inverse_transform(y_test))"
   ]
  },
  {
   "cell_type": "code",
   "execution_count": null,
   "metadata": {},
   "outputs": [],
   "source": [
    "predict_review_sentiment(cv, X_test, y_test, 20)"
   ]
  },
  {
   "cell_type": "code",
   "execution_count": null,
   "metadata": {},
   "outputs": [],
   "source": []
  }
 ],
 "metadata": {
  "kernelspec": {
   "display_name": "Python 3",
   "language": "python",
   "name": "python3"
  },
  "language_info": {
   "codemirror_mode": {
    "name": "ipython",
    "version": 3
   },
   "file_extension": ".py",
   "mimetype": "text/x-python",
   "name": "python",
   "nbconvert_exporter": "python",
   "pygments_lexer": "ipython3",
   "version": "3.7.6"
  }
 },
 "nbformat": 4,
 "nbformat_minor": 4
}
