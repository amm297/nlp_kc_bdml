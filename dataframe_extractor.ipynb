{
 "cells": [
  {
   "cell_type": "markdown",
   "metadata": {},
   "source": [
    "### 1. Construcción del dataset que usaremos\n",
    "\n",
    "En este notebook vamos a combinar los distintos daraframes de review de amazon originales en uno nuevo que contenga diversas categorias"
   ]
  },
  {
   "cell_type": "code",
   "execution_count": 1,
   "metadata": {},
   "outputs": [],
   "source": [
    "# Importamos lo que vayamos a necesitar\n",
    "import pandas as pd\n",
    "import cudf\n",
    "import numpy as np"
   ]
  },
  {
   "cell_type": "code",
   "execution_count": 17,
   "metadata": {},
   "outputs": [],
   "source": [
    "# Esta funcion mezclara todo el df que se le pase para tener los datos mas repartidos\n",
    "def shuffle_df(data, limit = None):\n",
    "    index_list = np.array(data.index)\n",
    "    np.random.shuffle(np.reshape(index_list, (-1, 1)))    \n",
    "    data = data.loc[index_list[:limit], :] if limit else data.loc[index_list[:], :]\n",
    "    data.reset_index()\n",
    "    return data"
   ]
  },
  {
   "cell_type": "code",
   "execution_count": 10,
   "metadata": {},
   "outputs": [],
   "source": [
    "# Con esta function extraeremos el df:\n",
    "#     - file_name: Nombre del archivo\n",
    "#     - main_category: Categoria principal para la clasificacion\n",
    "#     - limit: numero maximo de filas que tendra nuesto df\n",
    "def extract_df(file_name, main_category, limit = 10000):\n",
    "    data = pd.read_json(file_name, lines=True)\n",
    "    data = data [['reviewText', 'overall' , 'helpful']]  \n",
    "    data.rename(columns={\"reviewText\": \"review\", \"overall\": \"rating\"}, inplace=True)\n",
    "    data['category'] = main_category\n",
    "\n",
    "    # Procesamos el atributo helpful para que sea un valor numerico normalizado\n",
    "    aux = np.zeros(len(data))\n",
    "    for i, it in enumerate(data['helpful']):\n",
    "        try:\n",
    "            aux[i] = (0 if it[1] == 0 else it[0] / it[1])\n",
    "        except:\n",
    "            print(it)\n",
    "            aux[i] = 0\n",
    "    data['helpful'] = aux\n",
    "    \n",
    "    return shuffle_df(data, limit)"
   ]
  },
  {
   "cell_type": "code",
   "execution_count": 11,
   "metadata": {
    "scrolled": false
   },
   "outputs": [],
   "source": [
    "#  Definimos una lista con los archivos que queremos importar\n",
    "files_to_read = [\n",
    "    { 'file_name': './datasets/reviews_Amazon_Instant_Video_5.json.gz', 'main_category': 'Amazon instant videos'},\n",
    "    { 'file_name': './datasets/reviews_Musical_Instruments_5.json.gz', 'main_category': 'Musical instruments'},\n",
    "    { 'file_name': './datasets/reviews_Patio_Lawn_and_Garden_5.json.gz', 'main_category': 'Patio lawn/garden'},\n",
    "    { 'file_name': './datasets/reviews_Automotive_5.json.gz', 'main_category': 'Automotive'},\n",
    "    { 'file_name': './datasets/reviews_Digital_Music_5.json.gz', 'main_category': 'Digital music'},\n",
    "    { 'file_name': './datasets/reviews_Office_Products_5.json.gz', 'main_category': 'Office products'},\n",
    "    { 'file_name': './datasets/reviews_Pet_Supplies_5.json.gz', 'main_category': 'Pet supplies'},\n",
    "    { 'file_name': './datasets/reviews_Baby_5.json.gz', 'main_category': 'Baby'}\n",
    "]"
   ]
  },
  {
   "cell_type": "code",
   "execution_count": 12,
   "metadata": {},
   "outputs": [],
   "source": [
    "# Vamos a leemos todos los arvchivos y los concatenamos\n",
    "frames = [ extract_df(**f) for f in files_to_read ]\n",
    "result = pd.concat(frames)"
   ]
  },
  {
   "cell_type": "code",
   "execution_count": 15,
   "metadata": {},
   "outputs": [],
   "source": [
    "# Mezclamos el df\n",
    "result = shuffle_df(result)"
   ]
  },
  {
   "cell_type": "code",
   "execution_count": 16,
   "metadata": {},
   "outputs": [
    {
     "data": {
      "text/html": [
       "<div>\n",
       "<style scoped>\n",
       "    .dataframe tbody tr th:only-of-type {\n",
       "        vertical-align: middle;\n",
       "    }\n",
       "\n",
       "    .dataframe tbody tr th {\n",
       "        vertical-align: top;\n",
       "    }\n",
       "\n",
       "    .dataframe thead th {\n",
       "        text-align: right;\n",
       "    }\n",
       "</style>\n",
       "<table border=\"1\" class=\"dataframe\">\n",
       "  <thead>\n",
       "    <tr style=\"text-align: right;\">\n",
       "      <th></th>\n",
       "      <th>review</th>\n",
       "      <th>rating</th>\n",
       "      <th>helpful</th>\n",
       "      <th>category</th>\n",
       "    </tr>\n",
       "  </thead>\n",
       "  <tbody>\n",
       "    <tr>\n",
       "      <th>49813</th>\n",
       "      <td>A fun way to bling up your desk and make sure ...</td>\n",
       "      <td>4</td>\n",
       "      <td>1.0</td>\n",
       "      <td>Office products</td>\n",
       "    </tr>\n",
       "    <tr>\n",
       "      <th>12226</th>\n",
       "      <td>I continue to love this show. Raylan and the r...</td>\n",
       "      <td>5</td>\n",
       "      <td>0.0</td>\n",
       "      <td>Amazon instant videos</td>\n",
       "    </tr>\n",
       "    <tr>\n",
       "      <th>12226</th>\n",
       "      <td>Arrived in super flash time.  Like another rev...</td>\n",
       "      <td>5</td>\n",
       "      <td>0.0</td>\n",
       "      <td>Patio lawn/garden</td>\n",
       "    </tr>\n",
       "    <tr>\n",
       "      <th>100386</th>\n",
       "      <td>This treat ball works as expected. I used Temp...</td>\n",
       "      <td>4</td>\n",
       "      <td>0.5</td>\n",
       "      <td>Pet supplies</td>\n",
       "    </tr>\n",
       "    <tr>\n",
       "      <th>89572</th>\n",
       "      <td>I know it's extrange but it works! It is easy ...</td>\n",
       "      <td>4</td>\n",
       "      <td>0.0</td>\n",
       "      <td>Baby</td>\n",
       "    </tr>\n",
       "    <tr>\n",
       "      <th>...</th>\n",
       "      <td>...</td>\n",
       "      <td>...</td>\n",
       "      <td>...</td>\n",
       "      <td>...</td>\n",
       "    </tr>\n",
       "    <tr>\n",
       "      <th>3861</th>\n",
       "      <td>I have been using these for about 2 years now;...</td>\n",
       "      <td>5</td>\n",
       "      <td>0.0</td>\n",
       "      <td>Musical instruments</td>\n",
       "    </tr>\n",
       "    <tr>\n",
       "      <th>11965</th>\n",
       "      <td>This unit does everything it says it does. I e...</td>\n",
       "      <td>5</td>\n",
       "      <td>0.0</td>\n",
       "      <td>Automotive</td>\n",
       "    </tr>\n",
       "    <tr>\n",
       "      <th>11965</th>\n",
       "      <td>For years, I had been using Smead hanging fold...</td>\n",
       "      <td>4</td>\n",
       "      <td>0.0</td>\n",
       "      <td>Office products</td>\n",
       "    </tr>\n",
       "    <tr>\n",
       "      <th>11824</th>\n",
       "      <td>Pros:- You don't need to touch the dead rat- L...</td>\n",
       "      <td>3</td>\n",
       "      <td>0.0</td>\n",
       "      <td>Patio lawn/garden</td>\n",
       "    </tr>\n",
       "    <tr>\n",
       "      <th>11824</th>\n",
       "      <td>I bought these to go in a 2012 Wrangler Unlimi...</td>\n",
       "      <td>4</td>\n",
       "      <td>0.0</td>\n",
       "      <td>Automotive</td>\n",
       "    </tr>\n",
       "  </tbody>\n",
       "</table>\n",
       "<p>177892 rows × 4 columns</p>\n",
       "</div>"
      ],
      "text/plain": [
       "                                                   review  rating  helpful  \\\n",
       "49813   A fun way to bling up your desk and make sure ...       4      1.0   \n",
       "12226   I continue to love this show. Raylan and the r...       5      0.0   \n",
       "12226   Arrived in super flash time.  Like another rev...       5      0.0   \n",
       "100386  This treat ball works as expected. I used Temp...       4      0.5   \n",
       "89572   I know it's extrange but it works! It is easy ...       4      0.0   \n",
       "...                                                   ...     ...      ...   \n",
       "3861    I have been using these for about 2 years now;...       5      0.0   \n",
       "11965   This unit does everything it says it does. I e...       5      0.0   \n",
       "11965   For years, I had been using Smead hanging fold...       4      0.0   \n",
       "11824   Pros:- You don't need to touch the dead rat- L...       3      0.0   \n",
       "11824   I bought these to go in a 2012 Wrangler Unlimi...       4      0.0   \n",
       "\n",
       "                     category  \n",
       "49813         Office products  \n",
       "12226   Amazon instant videos  \n",
       "12226       Patio lawn/garden  \n",
       "100386           Pet supplies  \n",
       "89572                    Baby  \n",
       "...                       ...  \n",
       "3861      Musical instruments  \n",
       "11965              Automotive  \n",
       "11965         Office products  \n",
       "11824       Patio lawn/garden  \n",
       "11824              Automotive  \n",
       "\n",
       "[177892 rows x 4 columns]"
      ]
     },
     "execution_count": 16,
     "metadata": {},
     "output_type": "execute_result"
    }
   ],
   "source": [
    "# Comprobamos que se ha mezclado bien, al vomprobar que las categorias estan mezcladas.\n",
    "result"
   ]
  },
  {
   "cell_type": "code",
   "execution_count": 20,
   "metadata": {},
   "outputs": [],
   "source": [
    "# Exportamos el modelo a un csv para su posterior utilizacion\n",
    "result.to_csv('./datasets/reviews.csv', index=False)"
   ]
  },
  {
   "cell_type": "code",
   "execution_count": null,
   "metadata": {},
   "outputs": [],
   "source": []
  }
 ],
 "metadata": {
  "kernelspec": {
   "display_name": "Python 3",
   "language": "python",
   "name": "python3"
  },
  "language_info": {
   "codemirror_mode": {
    "name": "ipython",
    "version": 3
   },
   "file_extension": ".py",
   "mimetype": "text/x-python",
   "name": "python",
   "nbconvert_exporter": "python",
   "pygments_lexer": "ipython3",
   "version": "3.7.6"
  }
 },
 "nbformat": 4,
 "nbformat_minor": 4
}
