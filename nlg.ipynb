{
  "nbformat": 4,
  "nbformat_minor": 0,
  "metadata": {
    "kernelspec": {
      "display_name": "Python 3",
      "language": "python",
      "name": "python3"
    },
    "language_info": {
      "codemirror_mode": {
        "name": "ipython",
        "version": 3
      },
      "file_extension": ".py",
      "mimetype": "text/x-python",
      "name": "python",
      "nbconvert_exporter": "python",
      "pygments_lexer": "ipython3",
      "version": "3.7.6"
    },
    "colab": {
      "name": "nlg.ipynb",
      "provenance": [],
      "collapsed_sections": []
    },
    "accelerator": "GPU"
  },
  "cells": [
    {
      "cell_type": "markdown",
      "metadata": {
        "id": "6KhuSEkcomzC",
        "colab_type": "text"
      },
      "source": [
        "### 3. Generación de Lenguaje Natural\n",
        "Implementación de un modelo de generación de lenguaje utilizando algún dataset de los propuestos de Twitter.\n",
        "\n",
        "El objetivo es el de simular la creación de un bot que escriba tweets de manera similar al del autor utilizado para el entrenamiento.\n",
        "\n",
        "Se valorará principalmente la argumentación de los pasos realizados y las conclusiones al analizar los resultados y limitaciones encontradas.\n",
        "\n",
        "Esta práctica se ha realizado en colab por lo que hay algunas celdas que no funcionaran el jupyeter o algunas rutas que no se corresponden una estructura de un sistema normal\n"
      ]
    },
    {
      "cell_type": "code",
      "metadata": {
        "id": "Sigzrp4domzQ",
        "colab_type": "code",
        "colab": {
          "base_uri": "https://localhost:8080/",
          "height": 34
        },
        "outputId": "6a33bbfc-cc17-4fec-9097-02950ec1772f"
      },
      "source": [
        "# Importamos a lo que vayamos a necesitar\n",
        "\n",
        "import numpy as np\n",
        "import pandas as pd\n",
        "import re\n",
        "import random\n",
        "from copy import deepcopy\n",
        "import matplotlib.pyplot as plt\n",
        "from matplotlib import cm\n",
        "\n",
        "from keras.models import Sequential\n",
        "from keras.layers import Dense\n",
        "from keras.layers import Dropout\n",
        "from keras.layers import LSTM\n",
        "from keras.utils import np_utils"
      ],
      "execution_count": 1,
      "outputs": [
        {
          "output_type": "stream",
          "text": [
            "Using TensorFlow backend.\n"
          ],
          "name": "stderr"
        }
      ]
    },
    {
      "cell_type": "code",
      "metadata": {
        "id": "1d066Ua1pdwx",
        "colab_type": "code",
        "colab": {
          "base_uri": "https://localhost:8080/",
          "height": 122
        },
        "outputId": "034aed62-646a-4971-ab09-d011c4a6b4ea"
      },
      "source": [
        "#  connectamos con drive\n",
        "from google.colab import drive\n",
        "drive.mount('/content/drive')"
      ],
      "execution_count": 2,
      "outputs": [
        {
          "output_type": "stream",
          "text": [
            "Go to this URL in a browser: https://accounts.google.com/o/oauth2/auth?client_id=947318989803-6bn6qk8qdgf4n4g3pfee6491hc0brc4i.apps.googleusercontent.com&redirect_uri=urn%3aietf%3awg%3aoauth%3a2.0%3aoob&response_type=code&scope=email%20https%3a%2f%2fwww.googleapis.com%2fauth%2fdocs.test%20https%3a%2f%2fwww.googleapis.com%2fauth%2fdrive%20https%3a%2f%2fwww.googleapis.com%2fauth%2fdrive.photos.readonly%20https%3a%2f%2fwww.googleapis.com%2fauth%2fpeopleapi.readonly\n",
            "\n",
            "Enter your authorization code:\n",
            "··········\n",
            "Mounted at /content/drive\n"
          ],
          "name": "stdout"
        }
      ]
    },
    {
      "cell_type": "markdown",
      "metadata": {
        "id": "TJESdQ05omzX",
        "colab_type": "text"
      },
      "source": [
        "### Cargamos los datos"
      ]
    },
    {
      "cell_type": "code",
      "metadata": {
        "id": "cGHTWiwsomzX",
        "colab_type": "code",
        "colab": {}
      },
      "source": [
        "data = pd.read_csv('/content/drive/My Drive/Colab Notebooks/NLP/KimKardashianTweets.csv')"
      ],
      "execution_count": 30,
      "outputs": []
    },
    {
      "cell_type": "code",
      "metadata": {
        "id": "g9KVMKUDomzZ",
        "colab_type": "code",
        "colab": {
          "base_uri": "https://localhost:8080/",
          "height": 326
        },
        "outputId": "474c1fee-ea8f-4a2b-c021-8eea8a8f14b7"
      },
      "source": [
        "data.head()"
      ],
      "execution_count": 31,
      "outputs": [
        {
          "output_type": "execute_result",
          "data": {
            "text/html": [
              "<div>\n",
              "<style scoped>\n",
              "    .dataframe tbody tr th:only-of-type {\n",
              "        vertical-align: middle;\n",
              "    }\n",
              "\n",
              "    .dataframe tbody tr th {\n",
              "        vertical-align: top;\n",
              "    }\n",
              "\n",
              "    .dataframe thead th {\n",
              "        text-align: right;\n",
              "    }\n",
              "</style>\n",
              "<table border=\"1\" class=\"dataframe\">\n",
              "  <thead>\n",
              "    <tr style=\"text-align: right;\">\n",
              "      <th></th>\n",
              "      <th>Unnamed: 0</th>\n",
              "      <th>date</th>\n",
              "      <th>id</th>\n",
              "      <th>link</th>\n",
              "      <th>retweet</th>\n",
              "      <th>text</th>\n",
              "      <th>author</th>\n",
              "    </tr>\n",
              "  </thead>\n",
              "  <tbody>\n",
              "    <tr>\n",
              "      <th>0</th>\n",
              "      <td>0</td>\n",
              "      <td>Oct 2</td>\n",
              "      <td>782694393216110592</td>\n",
              "      <td>/KimKardashian/status/782694393216110592</td>\n",
              "      <td>False</td>\n",
              "      <td>Hey guys! Meet my #KimKardashianGame character...</td>\n",
              "      <td>KimKardashian</td>\n",
              "    </tr>\n",
              "    <tr>\n",
              "      <th>1</th>\n",
              "      <td>1</td>\n",
              "      <td>Oct 2</td>\n",
              "      <td>782632831780618240</td>\n",
              "      <td>/KimKardashian/status/782632831780618240</td>\n",
              "      <td>False</td>\n",
              "      <td>This guy is always in my shot!pic.twitter.com/...</td>\n",
              "      <td>KimKardashian</td>\n",
              "    </tr>\n",
              "    <tr>\n",
              "      <th>2</th>\n",
              "      <td>2</td>\n",
              "      <td>Oct 2</td>\n",
              "      <td>782559825205071872</td>\n",
              "      <td>/KimKardashian/status/782559825205071872</td>\n",
              "      <td>False</td>\n",
              "      <td>Balenciaga. No make up today.pic.twitter.com/l...</td>\n",
              "      <td>KimKardashian</td>\n",
              "    </tr>\n",
              "    <tr>\n",
              "      <th>3</th>\n",
              "      <td>3</td>\n",
              "      <td>Oct 1</td>\n",
              "      <td>782260907900567552</td>\n",
              "      <td>/KimKardashian/status/782260907900567552</td>\n",
              "      <td>False</td>\n",
              "      <td>Kourtney and Kim Take Parispic.twitter.com/VXw...</td>\n",
              "      <td>KimKardashian</td>\n",
              "    </tr>\n",
              "    <tr>\n",
              "      <th>4</th>\n",
              "      <td>4</td>\n",
              "      <td>Oct 1</td>\n",
              "      <td>782259209459101696</td>\n",
              "      <td>/KimKardashian/status/782259209459101697</td>\n",
              "      <td>False</td>\n",
              "      <td>GIVENCHY COUTUREpic.twitter.com/jHxTIuHzzo</td>\n",
              "      <td>KimKardashian</td>\n",
              "    </tr>\n",
              "  </tbody>\n",
              "</table>\n",
              "</div>"
            ],
            "text/plain": [
              "   Unnamed: 0  ...         author\n",
              "0           0  ...  KimKardashian\n",
              "1           1  ...  KimKardashian\n",
              "2           2  ...  KimKardashian\n",
              "3           3  ...  KimKardashian\n",
              "4           4  ...  KimKardashian\n",
              "\n",
              "[5 rows x 7 columns]"
            ]
          },
          "metadata": {
            "tags": []
          },
          "execution_count": 31
        }
      ]
    },
    {
      "cell_type": "code",
      "metadata": {
        "id": "qrnHMWT_omzc",
        "colab_type": "code",
        "colab": {}
      },
      "source": [
        "data = data[['retweet', 'text', 'author']]"
      ],
      "execution_count": 32,
      "outputs": []
    },
    {
      "cell_type": "code",
      "metadata": {
        "id": "r_arLauoomze",
        "colab_type": "code",
        "colab": {
          "base_uri": "https://localhost:8080/",
          "height": 204
        },
        "outputId": "24197fbf-5db0-44bf-91ea-fe1cce5d5aef"
      },
      "source": [
        "data.head()"
      ],
      "execution_count": 33,
      "outputs": [
        {
          "output_type": "execute_result",
          "data": {
            "text/html": [
              "<div>\n",
              "<style scoped>\n",
              "    .dataframe tbody tr th:only-of-type {\n",
              "        vertical-align: middle;\n",
              "    }\n",
              "\n",
              "    .dataframe tbody tr th {\n",
              "        vertical-align: top;\n",
              "    }\n",
              "\n",
              "    .dataframe thead th {\n",
              "        text-align: right;\n",
              "    }\n",
              "</style>\n",
              "<table border=\"1\" class=\"dataframe\">\n",
              "  <thead>\n",
              "    <tr style=\"text-align: right;\">\n",
              "      <th></th>\n",
              "      <th>retweet</th>\n",
              "      <th>text</th>\n",
              "      <th>author</th>\n",
              "    </tr>\n",
              "  </thead>\n",
              "  <tbody>\n",
              "    <tr>\n",
              "      <th>0</th>\n",
              "      <td>False</td>\n",
              "      <td>Hey guys! Meet my #KimKardashianGame character...</td>\n",
              "      <td>KimKardashian</td>\n",
              "    </tr>\n",
              "    <tr>\n",
              "      <th>1</th>\n",
              "      <td>False</td>\n",
              "      <td>This guy is always in my shot!pic.twitter.com/...</td>\n",
              "      <td>KimKardashian</td>\n",
              "    </tr>\n",
              "    <tr>\n",
              "      <th>2</th>\n",
              "      <td>False</td>\n",
              "      <td>Balenciaga. No make up today.pic.twitter.com/l...</td>\n",
              "      <td>KimKardashian</td>\n",
              "    </tr>\n",
              "    <tr>\n",
              "      <th>3</th>\n",
              "      <td>False</td>\n",
              "      <td>Kourtney and Kim Take Parispic.twitter.com/VXw...</td>\n",
              "      <td>KimKardashian</td>\n",
              "    </tr>\n",
              "    <tr>\n",
              "      <th>4</th>\n",
              "      <td>False</td>\n",
              "      <td>GIVENCHY COUTUREpic.twitter.com/jHxTIuHzzo</td>\n",
              "      <td>KimKardashian</td>\n",
              "    </tr>\n",
              "  </tbody>\n",
              "</table>\n",
              "</div>"
            ],
            "text/plain": [
              "   retweet                                               text         author\n",
              "0    False  Hey guys! Meet my #KimKardashianGame character...  KimKardashian\n",
              "1    False  This guy is always in my shot!pic.twitter.com/...  KimKardashian\n",
              "2    False  Balenciaga. No make up today.pic.twitter.com/l...  KimKardashian\n",
              "3    False  Kourtney and Kim Take Parispic.twitter.com/VXw...  KimKardashian\n",
              "4    False         GIVENCHY COUTUREpic.twitter.com/jHxTIuHzzo  KimKardashian"
            ]
          },
          "metadata": {
            "tags": []
          },
          "execution_count": 33
        }
      ]
    },
    {
      "cell_type": "markdown",
      "metadata": {
        "id": "ji9-C9eTomzm",
        "colab_type": "text"
      },
      "source": [
        "### Preprocesado"
      ]
    },
    {
      "cell_type": "code",
      "metadata": {
        "id": "QrPRj9tnomzo",
        "colab_type": "code",
        "colab": {}
      },
      "source": [
        "# Definimos unas regex que emplearemos para eliminar los siguientes campos:\n",
        "#  - Usuarios/Menciones\n",
        "#  - Hashtag\n",
        "#  - Urls\n",
        "#  - Imagenes\n",
        "\n",
        "user_regex = re.compile('@\\w+| @\\w+ ')\n",
        "hashtag_regex = re.compile('#\\w+| #\\w+ ')\n",
        "url_regex = re.compile('http[s]?://(?:[a-zA-Z]|[0-9]|[$-_@.&+]|[!*\\(\\),]|(?:%[0-9a-fA-F][0-9a-fA-F]))+')\n",
        "pics_regex = re.compile('pic?.\\w+.\\w+\\/\\w+')"
      ],
      "execution_count": 34,
      "outputs": []
    },
    {
      "cell_type": "code",
      "metadata": {
        "id": "otoDCyVDomzx",
        "colab_type": "code",
        "colab": {}
      },
      "source": [
        "users = []\n",
        "hashtags = []\n",
        "urls = []\n",
        "pics = []\n",
        "\n",
        "\n",
        "texts = []\n",
        "for text in data['text']:\n",
        "    \n",
        "    users.extend([it.strip()for it in user_regex.findall(text)])\n",
        "    hashtags.extend([it.strip()for it in hashtag_regex.findall(text)])\n",
        "    urls.extend([it.strip()for it in url_regex.findall(text)])\n",
        "    pics.extend([it.strip()for it in pics_regex.findall(text)])\n",
        "    \n",
        "    aux = text\n",
        "    aux = re.sub(pics_regex, '', aux)\n",
        "    aux = re.sub(url_regex, '', aux) \n",
        "    aux = re.sub(user_regex.pattern, ' ', aux)\n",
        "    aux = re.sub(hashtag_regex.pattern, ' ', aux)\n",
        "\n",
        "    # aux = re.sub('¢|ä|é|ö|ú|ī|–|‘|’|“|”|=|<|>', '', aux)\n",
        "    \n",
        "    aux = aux.strip()\n",
        "\n",
        "    texts.append(aux)"
      ],
      "execution_count": 35,
      "outputs": []
    },
    {
      "cell_type": "code",
      "metadata": {
        "id": "BoyHs6mQSpPK",
        "colab_type": "code",
        "colab": {
          "base_uri": "https://localhost:8080/",
          "height": 34
        },
        "outputId": "647ba2ec-2247-4e90-b4a9-1f6c4b927a93"
      },
      "source": [
        "# Vemos como se ha quedado nuestro texto procesado\n",
        "len(texts)"
      ],
      "execution_count": 36,
      "outputs": [
        {
          "output_type": "execute_result",
          "data": {
            "text/plain": [
              "10688"
            ]
          },
          "metadata": {
            "tags": []
          },
          "execution_count": 36
        }
      ]
    },
    {
      "cell_type": "code",
      "metadata": {
        "id": "5UOuDMFlomz1",
        "colab_type": "code",
        "colab": {}
      },
      "source": [
        "# Combinamos los textos en una unica lista\n",
        "text = r' '.join(texts)"
      ],
      "execution_count": 37,
      "outputs": []
    },
    {
      "cell_type": "code",
      "metadata": {
        "id": "Y4iUToYvomz5",
        "colab_type": "code",
        "colab": {
          "base_uri": "https://localhost:8080/",
          "height": 34
        },
        "outputId": "413c762c-c6a9-4850-bda9-35f6c48a7a05"
      },
      "source": [
        "#  Sacamos los caracteres que componen nuestro corpus\n",
        "characters = sorted(list(set(text)))\n",
        "n_to_char = {n:char for n, char in enumerate(characters)}\n",
        "char_to_n = {char:n for n, char in enumerate(characters)}\n",
        "\n",
        "print('Unique chars: {}'.format(len(characters)))"
      ],
      "execution_count": 38,
      "outputs": [
        {
          "output_type": "stream",
          "text": [
            "Unique chars: 123\n"
          ],
          "name": "stdout"
        }
      ]
    },
    {
      "cell_type": "code",
      "metadata": {
        "id": "46EU5l01omz7",
        "colab_type": "code",
        "colab": {
          "base_uri": "https://localhost:8080/",
          "height": 54
        },
        "outputId": "7008b5ed-e24b-4a1a-c432-9304bcaf2998"
      },
      "source": [
        "print(characters)"
      ],
      "execution_count": 39,
      "outputs": [
        {
          "output_type": "stream",
          "text": [
            "['\\t', '\\n', ' ', '!', '\"', '#', '$', '%', '&', \"'\", '(', ')', '*', '+', ',', '-', '.', '/', '0', '1', '2', '3', '4', '5', '6', '7', '8', '9', ':', ';', '<', '=', '>', '?', '@', 'A', 'B', 'C', 'D', 'E', 'F', 'G', 'H', 'I', 'J', 'K', 'L', 'M', 'N', 'O', 'P', 'Q', 'R', 'S', 'T', 'U', 'V', 'W', 'X', 'Y', 'Z', '[', ']', '_', 'a', 'b', 'c', 'd', 'e', 'f', 'g', 'h', 'i', 'j', 'k', 'l', 'm', 'n', 'o', 'p', 'q', 'r', 's', 't', 'u', 'v', 'w', 'x', 'y', 'z', '{', '|', '}', '~', '\\xa0', '\\xad', '´', '¹', 'É', 'á', 'ã', 'é', 'ô', '\\u200b', '\\u200e', '\\u200f', '–', '—', '‘', '’', '“', '”', '•', '…', '™', '♡', '♫', '\\ue411', '\\ue6b7', '\\ue6b9', '\\ue6e2', '\\ue6e3', '\\ue6eb']\n"
          ],
          "name": "stdout"
        }
      ]
    },
    {
      "cell_type": "markdown",
      "metadata": {
        "id": "eWqyLjV32tXO",
        "colab_type": "text"
      },
      "source": [
        "###'Traducimos' nuestros datos a numero"
      ]
    },
    {
      "cell_type": "code",
      "metadata": {
        "id": "LA2qKz8r283C",
        "colab_type": "code",
        "colab": {}
      },
      "source": [
        "# Definimos las constantes\n",
        "window = 10\n",
        "\n",
        "text = ' '.join(texts)"
      ],
      "execution_count": 40,
      "outputs": []
    },
    {
      "cell_type": "code",
      "metadata": {
        "id": "lTCJgklbomz_",
        "colab_type": "code",
        "colab": {}
      },
      "source": [
        "def text_conversion(text, ctn_dict, window=5, step=1):\n",
        "\n",
        "    l = len(text) - window\n",
        "\n",
        "    X = np.ndarray(shape=(l, window), dtype=int)\n",
        "    \n",
        "    Y = np.zeros(l, dtype=int)\n",
        "    \n",
        "    for i in range(0, l, step):\n",
        "        sequence = text[i: i + window]\n",
        "        label = text[i + window]\n",
        "        \n",
        "        X[i] =  np.asarray([ctn_dict[c] for c in sequence])\n",
        "        Y[i] = ctn_dict[label]\n",
        "        \n",
        "    return X,Y"
      ],
      "execution_count": 41,
      "outputs": []
    },
    {
      "cell_type": "code",
      "metadata": {
        "id": "xwaz3rAE21mn",
        "colab_type": "code",
        "colab": {}
      },
      "source": [
        "X, Y = text_conversion(text, char_to_n, window=window)"
      ],
      "execution_count": 42,
      "outputs": []
    },
    {
      "cell_type": "code",
      "metadata": {
        "id": "2buCJcNFom0B",
        "colab_type": "code",
        "colab": {}
      },
      "source": [
        "X_modified = np.reshape(X, (len(X), window, 1))\n",
        "X_modified = X_modified / float(len(characters))\n",
        "Y_modified = np_utils.to_categorical(Y)"
      ],
      "execution_count": 43,
      "outputs": []
    },
    {
      "cell_type": "code",
      "metadata": {
        "id": "JOZpddGbLew1",
        "colab_type": "code",
        "colab": {
          "base_uri": "https://localhost:8080/",
          "height": 34
        },
        "outputId": "5b4c721d-622e-4e02-a289-3e5de88b9010"
      },
      "source": [
        "Y_modified.shape"
      ],
      "execution_count": 44,
      "outputs": [
        {
          "output_type": "execute_result",
          "data": {
            "text/plain": [
              "(696335, 123)"
            ]
          },
          "metadata": {
            "tags": []
          },
          "execution_count": 44
        }
      ]
    },
    {
      "cell_type": "markdown",
      "metadata": {
        "id": "OP8o7v0d3GwP",
        "colab_type": "text"
      },
      "source": [
        "### Comenzamos con nuestro modelo"
      ]
    },
    {
      "cell_type": "code",
      "metadata": {
        "id": "BuqrNCH3M6Lj",
        "colab_type": "code",
        "colab": {}
      },
      "source": [
        "def plot_values(title, values, marker=None, plt=plt):\n",
        "  cmap = cm.get_cmap('tab10', len(values))\n",
        "  for i, (tit, vals) in enumerate(values):\n",
        "    if marker:\n",
        "      plt.plot(np.arange(0, len(vals)), vals, marker, color=cmap(i), label=tit)\n",
        "    else: \n",
        "      plt.plot(np.arange(0, len(vals)), vals, color=cmap(i), label=tit)\n",
        "\n",
        "  if hasattr(plt, 'xlabel'):\n",
        "    plt.xlabel('Values #')\n",
        "  else:\n",
        "    plt.set_xlabel(\"Values #\")\n",
        "\n",
        "  if hasattr(plt, 'ylabel'):\n",
        "    plt.ylabel(f\"{title}\")\n",
        "  else:\n",
        "    plt.set_ylabel(f\"{title}\")\n",
        "  plt.legend()"
      ],
      "execution_count": 45,
      "outputs": []
    },
    {
      "cell_type": "code",
      "metadata": {
        "id": "L0gYuYwcF6AW",
        "colab_type": "code",
        "colab": {}
      },
      "source": [
        "def create_nlp_network(shape, otputs):\n",
        "\n",
        "  model = Sequential()\n",
        "\n",
        "  model.add(LSTM(700, input_shape=shape, return_sequences=True))\n",
        "  model.add(Dropout(0.2))\n",
        "  \n",
        "  model.add(LSTM(700))\n",
        "  model.add(Dropout(0.2))\n",
        "\n",
        "  model.add(Dense(Y_modified.shape[1], activation='softmax'))\n",
        "\n",
        "  model.compile(loss='categorical_crossentropy', optimizer='adam')\n",
        "\n",
        "  return model\n"
      ],
      "execution_count": 46,
      "outputs": []
    },
    {
      "cell_type": "code",
      "metadata": {
        "id": "LtYFuMbxLwPm",
        "colab_type": "code",
        "colab": {
          "base_uri": "https://localhost:8080/",
          "height": 323
        },
        "outputId": "770f7b7f-3bec-48ba-d0bc-c05039e16463"
      },
      "source": [
        "model = create_nlp_network(X_modified.shape[1:], Y_modified.shape[1])\n",
        "\n",
        "model.summary()"
      ],
      "execution_count": 47,
      "outputs": [
        {
          "output_type": "stream",
          "text": [
            "Model: \"sequential_2\"\n",
            "_________________________________________________________________\n",
            "Layer (type)                 Output Shape              Param #   \n",
            "=================================================================\n",
            "lstm_3 (LSTM)                (None, 10, 700)           1965600   \n",
            "_________________________________________________________________\n",
            "dropout_3 (Dropout)          (None, 10, 700)           0         \n",
            "_________________________________________________________________\n",
            "lstm_4 (LSTM)                (None, 700)               3922800   \n",
            "_________________________________________________________________\n",
            "dropout_4 (Dropout)          (None, 700)               0         \n",
            "_________________________________________________________________\n",
            "dense_2 (Dense)              (None, 123)               86223     \n",
            "=================================================================\n",
            "Total params: 5,974,623\n",
            "Trainable params: 5,974,623\n",
            "Non-trainable params: 0\n",
            "_________________________________________________________________\n"
          ],
          "name": "stdout"
        }
      ]
    },
    {
      "cell_type": "code",
      "metadata": {
        "id": "8b57wCvFom0F",
        "colab_type": "code",
        "colab": {
          "base_uri": "https://localhost:8080/",
          "height": 884
        },
        "outputId": "caa3d8db-dad2-4421-eadb-4bac4cef2123"
      },
      "source": [
        "history = model.fit(\n",
        "    X_modified, Y_modified, \n",
        "    validation_split=0.05, \n",
        "    batch_size=256, \n",
        "    epochs=25).history"
      ],
      "execution_count": 49,
      "outputs": [
        {
          "output_type": "stream",
          "text": [
            "Train on 661518 samples, validate on 34817 samples\n",
            "Epoch 1/25\n",
            "661518/661518 [==============================] - 307s 464us/step - loss: 2.8211 - val_loss: 2.7276\n",
            "Epoch 2/25\n",
            "661518/661518 [==============================] - 306s 463us/step - loss: 2.5149 - val_loss: 2.4339\n",
            "Epoch 3/25\n",
            "661518/661518 [==============================] - 305s 462us/step - loss: 2.2942 - val_loss: 2.2409\n",
            "Epoch 4/25\n",
            "661518/661518 [==============================] - 307s 464us/step - loss: 2.1581 - val_loss: 2.1629\n",
            "Epoch 5/25\n",
            "661518/661518 [==============================] - 307s 464us/step - loss: 2.0606 - val_loss: 2.1444\n",
            "Epoch 6/25\n",
            "661518/661518 [==============================] - 308s 466us/step - loss: 1.9831 - val_loss: 2.1268\n",
            "Epoch 7/25\n",
            "661518/661518 [==============================] - 307s 465us/step - loss: 1.9186 - val_loss: 2.0473\n",
            "Epoch 8/25\n",
            "661518/661518 [==============================] - 307s 465us/step - loss: 1.8664 - val_loss: 2.0344\n",
            "Epoch 9/25\n",
            "661518/661518 [==============================] - 308s 465us/step - loss: 1.8199 - val_loss: 2.0340\n",
            "Epoch 10/25\n",
            "661518/661518 [==============================] - 309s 467us/step - loss: 1.7745 - val_loss: 2.0309\n",
            "Epoch 11/25\n",
            "661518/661518 [==============================] - 307s 465us/step - loss: 1.7374 - val_loss: 2.0111\n",
            "Epoch 12/25\n",
            "661518/661518 [==============================] - 308s 465us/step - loss: 1.6996 - val_loss: 2.0142\n",
            "Epoch 13/25\n",
            "661518/661518 [==============================] - 308s 466us/step - loss: 1.6655 - val_loss: 1.9981\n",
            "Epoch 14/25\n",
            "661518/661518 [==============================] - 309s 467us/step - loss: 1.6354 - val_loss: 2.0887\n",
            "Epoch 15/25\n",
            "661518/661518 [==============================] - 308s 466us/step - loss: 1.6053 - val_loss: 2.0281\n",
            "Epoch 16/25\n",
            "661518/661518 [==============================] - 307s 464us/step - loss: 1.5757 - val_loss: 2.0215\n",
            "Epoch 17/25\n",
            "661518/661518 [==============================] - 308s 465us/step - loss: 1.5449 - val_loss: 2.0510\n",
            "Epoch 18/25\n",
            "661518/661518 [==============================] - 307s 464us/step - loss: 1.5153 - val_loss: 2.0183\n",
            "Epoch 19/25\n",
            "661518/661518 [==============================] - 308s 465us/step - loss: 1.4868 - val_loss: 2.0354\n",
            "Epoch 20/25\n",
            "661518/661518 [==============================] - 308s 465us/step - loss: 1.4612 - val_loss: 2.0324\n",
            "Epoch 21/25\n",
            "661518/661518 [==============================] - 309s 467us/step - loss: 1.4377 - val_loss: 2.0594\n",
            "Epoch 22/25\n",
            "661518/661518 [==============================] - 308s 465us/step - loss: 1.4187 - val_loss: 2.0117\n",
            "Epoch 23/25\n",
            "661518/661518 [==============================] - 308s 465us/step - loss: 1.3982 - val_loss: 2.0395\n",
            "Epoch 24/25\n",
            "661518/661518 [==============================] - 308s 466us/step - loss: 1.3816 - val_loss: 2.0971\n",
            "Epoch 25/25\n",
            "661518/661518 [==============================] - 309s 466us/step - loss: 1.3620 - val_loss: 2.0702\n"
          ],
          "name": "stdout"
        }
      ]
    },
    {
      "cell_type": "code",
      "metadata": {
        "id": "9xJjein9NjdX",
        "colab_type": "code",
        "colab": {
          "base_uri": "https://localhost:8080/",
          "height": 279
        },
        "outputId": "efad6049-1ba3-4015-9190-045fd8bb08bb"
      },
      "source": [
        "plot_values('Loss', [('loss', history['loss']), ('val_loss', history['val_loss'])])"
      ],
      "execution_count": 51,
      "outputs": [
        {
          "output_type": "display_data",
          "data": {
            "image/png": "[encoded data removed]",
            "text/plain": [
              "<Figure size 432x288 with 1 Axes>"
            ]
          },
          "metadata": {
            "tags": [],
            "needs_background": "light"
          }
        }
      ]
    },
    {
      "cell_type": "code",
      "metadata": {
        "id": "Imc2GgC9om0H",
        "colab_type": "code",
        "colab": {}
      },
      "source": [
        "def generate_text(model, initial_sequence):\n",
        "    string_mapped = deepcopy(initial_sequence.tolist())\n",
        "    full_string = [n_to_char[value] for value in string_mapped]\n",
        "    \n",
        "    # Generating characters\n",
        "    # Generamos un tweet entre  280(el maximo actual de tweeter)\n",
        "    characters_length = random.randint(len(string_mapped)+10, 280 )\n",
        "    for i in range(characters_length):\n",
        "        x = np.reshape(string_mapped,(1,len(string_mapped), 1))\n",
        "        x = x / float(len(characters))\n",
        "\n",
        "        pred_index = np.argmax(model.predict(x, verbose=0))\n",
        "        seq = [n_to_char[value] for value in string_mapped]\n",
        "        full_string.append(n_to_char[pred_index])\n",
        "\n",
        "        string_mapped.append(pred_index)\n",
        "        string_mapped = string_mapped[1:len(string_mapped)]\n",
        "        \n",
        "    text = \"\"\n",
        "    for char in full_string:\n",
        "        text = text + char\n",
        "    return text"
      ],
      "execution_count": 52,
      "outputs": []
    },
    {
      "cell_type": "code",
      "metadata": {
        "id": "TsliL73Kqe1a",
        "colab_type": "code",
        "colab": {
          "base_uri": "https://localhost:8080/",
          "height": 35
        },
        "outputId": "3e9648a1-0d3f-4eca-de44-073a8753adeb"
      },
      "source": [
        "generate_text(model, X[0])"
      ],
      "execution_count": 54,
      "outputs": [
        {
          "output_type": "execute_result",
          "data": {
            "application/vnd.google.colaboratory.intrinsic": {
              "type": "string"
            },
            "text/plain": [
              "'Hey guys! I have to mane and start thooping a bommerci'"
            ]
          },
          "metadata": {
            "tags": []
          },
          "execution_count": 54
        }
      ]
    },
    {
      "cell_type": "code",
      "metadata": {
        "id": "YYuPUu8fKLzl",
        "colab_type": "code",
        "colab": {}
      },
      "source": [
        "# Ahora exportaremos nuestro modelo para poder reutilizarlo posteriormente\n",
        "def export_modoel(model, name):\n",
        "  model.save(f\"{name}.h5\")\n",
        "  \n",
        "  !cp {name}.h5 /content/drive/My\\ Drive/Colab\\ Notebooks/NLP/{name}.h5\n",
        "\n",
        "  print(\"Saved model to disk\")"
      ],
      "execution_count": 55,
      "outputs": []
    },
    {
      "cell_type": "code",
      "metadata": {
        "id": "JwM_6x0JUixW",
        "colab_type": "code",
        "colab": {
          "base_uri": "https://localhost:8080/",
          "height": 34
        },
        "outputId": "4111be58-9ac1-424a-aab4-84fc3d91db08"
      },
      "source": [
        "export_modoel(model, 'nlg_3')"
      ],
      "execution_count": 56,
      "outputs": [
        {
          "output_type": "stream",
          "text": [
            "Saved model to disk\n"
          ],
          "name": "stdout"
        }
      ]
    },
    {
      "cell_type": "markdown",
      "metadata": {
        "id": "v7XvDOpOUwgr",
        "colab_type": "text"
      },
      "source": [
        "Como conclusiones de esta practica llego a que después de probar varios modelos depende mucho de el numero de epocas y del preprocesado que hagas obener un texto 'natral', basicamente mi proceso sobre esta pŕactica ha sido el de copiar una estructura básica e iterar sobre ella añadirndo etapas en la limpieza y cambiando los parametros del entrenamiento 'batch_size' y 'epochs'.\n",
        "\n",
        "El reusltado final se ve que no es muy 'optimo' pero ha sido mucho tiempo y varias pruebas para intetar crar un mdelo que genre lenguaje 'natual'"
      ]
    },
    {
      "cell_type": "code",
      "metadata": {
        "id": "DWURJkFbUmtE",
        "colab_type": "code",
        "colab": {}
      },
      "source": [
        ""
      ],
      "execution_count": null,
      "outputs": []
    },
    {
      "cell_type": "code",
      "metadata": {
        "id": "G6Xc2rFkHDX9",
        "colab_type": "code",
        "colab": {}
      },
      "source": [
        ""
      ],
      "execution_count": null,
      "outputs": []
    }
  ]
}