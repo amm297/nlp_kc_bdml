{
  "nbformat": 4,
  "nbformat_minor": 0,
  "metadata": {
    "kernelspec": {
      "display_name": "Python 3",
      "language": "python",
      "name": "python3"
    },
    "language_info": {
      "codemirror_mode": {
        "name": "ipython",
        "version": 3
      },
      "file_extension": ".py",
      "mimetype": "text/x-python",
      "name": "python",
      "nbconvert_exporter": "python",
      "pygments_lexer": "ipython3",
      "version": "3.7.6"
    },
    "colab": {
      "name": "nlg.ipynb",
      "provenance": [],
      "collapsed_sections": []
    },
    "accelerator": "GPU"
  },
  "cells": [
    {
      "cell_type": "markdown",
      "metadata": {
        "id": "6KhuSEkcomzC",
        "colab_type": "text"
      },
      "source": [
        "### 3. Generación de Lenguaje Natural\n",
        "Implementación de un modelo de generación de lenguaje utilizando algún dataset de los propuestos de Twitter.\n",
        "\n",
        "El objetivo es el de simular la creación de un bot que escriba tweets de manera similar al del autor utilizado para el entrenamiento.\n",
        "\n",
        "Se valorará principalmente la argumentación de los pasos realizados y las conclusiones al analizar los resultados y limitaciones encontradas.\n",
        "\n",
        "Esta práctica se ha realizado en colab por lo que hay algunas celdas que no funcionaran el jupyeter o algunas rutas que no se corresponden una estructura de un sistema normal\n"
      ]
    },
    {
      "cell_type": "code",
      "metadata": {
        "id": "Sigzrp4domzQ",
        "colab_type": "code",
        "colab": {
          "base_uri": "https://localhost:8080/",
          "height": 34
        },
        "outputId": "05c72e81-62a4-4058-dba1-53177479c6af"
      },
      "source": [
        "# Importamos a lo que vayamos a necesitar\n",
        "\n",
        "import numpy as np\n",
        "import pandas as pd\n",
        "import re\n",
        "import random\n",
        "from copy import deepcopy\n",
        "import matplotlib.pyplot as plt\n",
        "from matplotlib import cm\n",
        "\n",
        "from keras.models import Sequential\n",
        "from keras.layers import Dense\n",
        "from keras.layers import Dropout\n",
        "from keras.layers import LSTM\n",
        "from keras.utils import np_utils"
      ],
      "execution_count": 1,
      "outputs": [
        {
          "output_type": "stream",
          "text": [
            "Using TensorFlow backend.\n"
          ],
          "name": "stderr"
        }
      ]
    },
    {
      "cell_type": "code",
      "metadata": {
        "id": "1d066Ua1pdwx",
        "colab_type": "code",
        "colab": {
          "base_uri": "https://localhost:8080/",
          "height": 34
        },
        "outputId": "6052e7fe-0b86-47d5-a5da-d46619bd0e6e"
      },
      "source": [
        "#  connectamos con drive\n",
        "from google.colab import drive\n",
        "drive.mount('/content/drive')"
      ],
      "execution_count": 2,
      "outputs": [
        {
          "output_type": "stream",
          "text": [
            "Drive already mounted at /content/drive; to attempt to forcibly remount, call drive.mount(\"/content/drive\", force_remount=True).\n"
          ],
          "name": "stdout"
        }
      ]
    },
    {
      "cell_type": "markdown",
      "metadata": {
        "id": "TJESdQ05omzX",
        "colab_type": "text"
      },
      "source": [
        "### Cargamos los datos"
      ]
    },
    {
      "cell_type": "code",
      "metadata": {
        "id": "cGHTWiwsomzX",
        "colab_type": "code",
        "colab": {}
      },
      "source": [
        "data = pd.read_csv('/content/drive/My Drive/Colab Notebooks/NLP/NeildeGrasseTysonTweets.csv')"
      ],
      "execution_count": 3,
      "outputs": []
    },
    {
      "cell_type": "code",
      "metadata": {
        "id": "g9KVMKUDomzZ",
        "colab_type": "code",
        "colab": {
          "base_uri": "https://localhost:8080/",
          "height": 204
        },
        "outputId": "8d121057-fe58-4086-a28a-60778c4ced0f"
      },
      "source": [
        "data.head()"
      ],
      "execution_count": 4,
      "outputs": [
        {
          "output_type": "execute_result",
          "data": {
            "text/html": [
              "<div>\n",
              "<style scoped>\n",
              "    .dataframe tbody tr th:only-of-type {\n",
              "        vertical-align: middle;\n",
              "    }\n",
              "\n",
              "    .dataframe tbody tr th {\n",
              "        vertical-align: top;\n",
              "    }\n",
              "\n",
              "    .dataframe thead th {\n",
              "        text-align: right;\n",
              "    }\n",
              "</style>\n",
              "<table border=\"1\" class=\"dataframe\">\n",
              "  <thead>\n",
              "    <tr style=\"text-align: right;\">\n",
              "      <th></th>\n",
              "      <th>Unnamed: 0</th>\n",
              "      <th>date</th>\n",
              "      <th>id</th>\n",
              "      <th>link</th>\n",
              "      <th>retweet</th>\n",
              "      <th>text</th>\n",
              "      <th>author</th>\n",
              "    </tr>\n",
              "  </thead>\n",
              "  <tbody>\n",
              "    <tr>\n",
              "      <th>0</th>\n",
              "      <td>0</td>\n",
              "      <td>Aug 21</td>\n",
              "      <td>767371694834978816</td>\n",
              "      <td>/neiltyson/status/767371694834978817</td>\n",
              "      <td>False</td>\n",
              "      <td>Moon’s shadow landfalls Oregon, crosses USA at...</td>\n",
              "      <td>deGrasseTyson</td>\n",
              "    </tr>\n",
              "    <tr>\n",
              "      <th>1</th>\n",
              "      <td>1</td>\n",
              "      <td>Oct 9</td>\n",
              "      <td>785186636946636800</td>\n",
              "      <td>/neiltyson/status/785186636946636800</td>\n",
              "      <td>False</td>\n",
              "      <td>@huggy_panda  Oink, oink.   : - )</td>\n",
              "      <td>deGrasseTyson</td>\n",
              "    </tr>\n",
              "    <tr>\n",
              "      <th>2</th>\n",
              "      <td>2</td>\n",
              "      <td>Oct 9</td>\n",
              "      <td>785131023923314688</td>\n",
              "      <td>/neiltyson/status/785131023923314688</td>\n",
              "      <td>False</td>\n",
              "      <td>Future headlines from the Multiverse: Nov 9, 2...</td>\n",
              "      <td>deGrasseTyson</td>\n",
              "    </tr>\n",
              "    <tr>\n",
              "      <th>3</th>\n",
              "      <td>3</td>\n",
              "      <td>Oct 7</td>\n",
              "      <td>784443331568930816</td>\n",
              "      <td>/neiltyson/status/784443331568930817</td>\n",
              "      <td>False</td>\n",
              "      <td>Awww. That’s the nicest thing anybody has said...</td>\n",
              "      <td>deGrasseTyson</td>\n",
              "    </tr>\n",
              "    <tr>\n",
              "      <th>4</th>\n",
              "      <td>4</td>\n",
              "      <td>Oct 6</td>\n",
              "      <td>784089429120020480</td>\n",
              "      <td>/neiltyson/status/784089429120020481</td>\n",
              "      <td>False</td>\n",
              "      <td>If ComicCon people ruled the world, internatio...</td>\n",
              "      <td>deGrasseTyson</td>\n",
              "    </tr>\n",
              "  </tbody>\n",
              "</table>\n",
              "</div>"
            ],
            "text/plain": [
              "   Unnamed: 0  ...         author\n",
              "0           0  ...  deGrasseTyson\n",
              "1           1  ...  deGrasseTyson\n",
              "2           2  ...  deGrasseTyson\n",
              "3           3  ...  deGrasseTyson\n",
              "4           4  ...  deGrasseTyson\n",
              "\n",
              "[5 rows x 7 columns]"
            ]
          },
          "metadata": {
            "tags": []
          },
          "execution_count": 4
        }
      ]
    },
    {
      "cell_type": "code",
      "metadata": {
        "id": "qrnHMWT_omzc",
        "colab_type": "code",
        "colab": {}
      },
      "source": [
        "data = data[['retweet', 'text', 'author']]"
      ],
      "execution_count": 5,
      "outputs": []
    },
    {
      "cell_type": "code",
      "metadata": {
        "id": "r_arLauoomze",
        "colab_type": "code",
        "colab": {
          "base_uri": "https://localhost:8080/",
          "height": 204
        },
        "outputId": "e8cb191e-80b2-4c95-89cc-61568f256225"
      },
      "source": [
        "data.head()"
      ],
      "execution_count": 6,
      "outputs": [
        {
          "output_type": "execute_result",
          "data": {
            "text/html": [
              "<div>\n",
              "<style scoped>\n",
              "    .dataframe tbody tr th:only-of-type {\n",
              "        vertical-align: middle;\n",
              "    }\n",
              "\n",
              "    .dataframe tbody tr th {\n",
              "        vertical-align: top;\n",
              "    }\n",
              "\n",
              "    .dataframe thead th {\n",
              "        text-align: right;\n",
              "    }\n",
              "</style>\n",
              "<table border=\"1\" class=\"dataframe\">\n",
              "  <thead>\n",
              "    <tr style=\"text-align: right;\">\n",
              "      <th></th>\n",
              "      <th>retweet</th>\n",
              "      <th>text</th>\n",
              "      <th>author</th>\n",
              "    </tr>\n",
              "  </thead>\n",
              "  <tbody>\n",
              "    <tr>\n",
              "      <th>0</th>\n",
              "      <td>False</td>\n",
              "      <td>Moon’s shadow landfalls Oregon, crosses USA at...</td>\n",
              "      <td>deGrasseTyson</td>\n",
              "    </tr>\n",
              "    <tr>\n",
              "      <th>1</th>\n",
              "      <td>False</td>\n",
              "      <td>@huggy_panda  Oink, oink.   : - )</td>\n",
              "      <td>deGrasseTyson</td>\n",
              "    </tr>\n",
              "    <tr>\n",
              "      <th>2</th>\n",
              "      <td>False</td>\n",
              "      <td>Future headlines from the Multiverse: Nov 9, 2...</td>\n",
              "      <td>deGrasseTyson</td>\n",
              "    </tr>\n",
              "    <tr>\n",
              "      <th>3</th>\n",
              "      <td>False</td>\n",
              "      <td>Awww. That’s the nicest thing anybody has said...</td>\n",
              "      <td>deGrasseTyson</td>\n",
              "    </tr>\n",
              "    <tr>\n",
              "      <th>4</th>\n",
              "      <td>False</td>\n",
              "      <td>If ComicCon people ruled the world, internatio...</td>\n",
              "      <td>deGrasseTyson</td>\n",
              "    </tr>\n",
              "  </tbody>\n",
              "</table>\n",
              "</div>"
            ],
            "text/plain": [
              "   retweet                                               text         author\n",
              "0    False  Moon’s shadow landfalls Oregon, crosses USA at...  deGrasseTyson\n",
              "1    False                  @huggy_panda  Oink, oink.   : - )  deGrasseTyson\n",
              "2    False  Future headlines from the Multiverse: Nov 9, 2...  deGrasseTyson\n",
              "3    False  Awww. That’s the nicest thing anybody has said...  deGrasseTyson\n",
              "4    False  If ComicCon people ruled the world, internatio...  deGrasseTyson"
            ]
          },
          "metadata": {
            "tags": []
          },
          "execution_count": 6
        }
      ]
    },
    {
      "cell_type": "markdown",
      "metadata": {
        "id": "ji9-C9eTomzm",
        "colab_type": "text"
      },
      "source": [
        "### Preprocesado"
      ]
    },
    {
      "cell_type": "code",
      "metadata": {
        "id": "QrPRj9tnomzo",
        "colab_type": "code",
        "colab": {}
      },
      "source": [
        "# Definimos unas regex que emplearemos para eliminar los siguientes campos:\n",
        "#  - Usuarios/Menciones\n",
        "#  - Hashtag\n",
        "#  - Urls\n",
        "#  - Imagenes\n",
        "\n",
        "user_regex = re.compile('@\\w+| @\\w+ ')\n",
        "hashtag_regex = re.compile('#\\w+| #\\w+ ')\n",
        "url_regex = re.compile('http[s]?://(?:[a-zA-Z]|[0-9]|[$-_@.&+]|[!*\\(\\),]|(?:%[0-9a-fA-F][0-9a-fA-F]))+')\n",
        "pics_regex = re.compile('pic?.\\w+.\\w+\\/\\w+')"
      ],
      "execution_count": 7,
      "outputs": []
    },
    {
      "cell_type": "code",
      "metadata": {
        "id": "otoDCyVDomzx",
        "colab_type": "code",
        "colab": {}
      },
      "source": [
        "users = []\n",
        "hashtags = []\n",
        "urls = []\n",
        "pics = []\n",
        "\n",
        "\n",
        "texts = []\n",
        "for text in data['text']:\n",
        "    \n",
        "    users.extend([it.strip()for it in user_regex.findall(text)])\n",
        "    hashtags.extend([it.strip()for it in hashtag_regex.findall(text)])\n",
        "    urls.extend([it.strip()for it in url_regex.findall(text)])\n",
        "    pics.extend([it.strip()for it in pics_regex.findall(text)])\n",
        "    \n",
        "    aux = text\n",
        "    aux = re.sub(pics_regex, ' ', aux)\n",
        "    aux = re.sub(url_regex, ' ', aux) \n",
        "    aux = re.sub(user_regex.pattern, ' ', aux)\n",
        "    aux = re.sub(hashtag_regex.pattern, ' ', aux)\n",
        "\n",
        "    # aux = re.sub('¢|ä|é|ö|ú|ī|–|‘|’|“|”|=|<|>', '', aux)\n",
        "    \n",
        "    aux = aux.strip()\n",
        "\n",
        "    texts.append(aux)"
      ],
      "execution_count": 8,
      "outputs": []
    },
    {
      "cell_type": "code",
      "metadata": {
        "id": "BoyHs6mQSpPK",
        "colab_type": "code",
        "colab": {
          "base_uri": "https://localhost:8080/",
          "height": 34
        },
        "outputId": "ffe3b55d-35b2-4b67-e483-7a80d6059e3c"
      },
      "source": [
        "# Vemos como se ha quedado nuestro texto procesado\n",
        "len(texts)"
      ],
      "execution_count": 9,
      "outputs": [
        {
          "output_type": "execute_result",
          "data": {
            "text/plain": [
              "2428"
            ]
          },
          "metadata": {
            "tags": []
          },
          "execution_count": 9
        }
      ]
    },
    {
      "cell_type": "code",
      "metadata": {
        "id": "5UOuDMFlomz1",
        "colab_type": "code",
        "colab": {}
      },
      "source": [
        "# Combinamos los textos en una unica lista\n",
        "text = r' '.join(texts)"
      ],
      "execution_count": 10,
      "outputs": []
    },
    {
      "cell_type": "code",
      "metadata": {
        "id": "Y4iUToYvomz5",
        "colab_type": "code",
        "colab": {
          "base_uri": "https://localhost:8080/",
          "height": 34
        },
        "outputId": "3ab7cd7f-7100-44d5-dd06-ac3d63373ba1"
      },
      "source": [
        "#  Sacamos los caracteres que componen nuestro corpus\n",
        "characters = sorted(list(set(text)))\n",
        "n_to_char = {n:char for n, char in enumerate(characters)}\n",
        "char_to_n = {char:n for n, char in enumerate(characters)}\n",
        "\n",
        "print('Unique chars: {}'.format(len(characters)))"
      ],
      "execution_count": 11,
      "outputs": [
        {
          "output_type": "stream",
          "text": [
            "Unique chars: 104\n"
          ],
          "name": "stdout"
        }
      ]
    },
    {
      "cell_type": "code",
      "metadata": {
        "id": "46EU5l01omz7",
        "colab_type": "code",
        "colab": {
          "base_uri": "https://localhost:8080/",
          "height": 54
        },
        "outputId": "aee6e36f-d644-46f4-8fdd-f3d29f0f75e8"
      },
      "source": [
        "print(characters)"
      ],
      "execution_count": 12,
      "outputs": [
        {
          "output_type": "stream",
          "text": [
            "['\\n', ' ', '!', '\"', '$', '%', '&', \"'\", '(', ')', '*', '+', ',', '-', '.', '/', '0', '1', '2', '3', '4', '5', '6', '7', '8', '9', ':', ';', '<', '=', '>', '?', 'A', 'B', 'C', 'D', 'E', 'F', 'G', 'H', 'I', 'J', 'K', 'L', 'M', 'N', 'O', 'P', 'Q', 'R', 'S', 'T', 'U', 'V', 'W', 'X', 'Y', 'Z', '[', ']', '^', '_', '`', 'a', 'b', 'c', 'd', 'e', 'f', 'g', 'h', 'i', 'j', 'k', 'l', 'm', 'n', 'o', 'p', 'q', 'r', 's', 't', 'u', 'v', 'w', 'x', 'y', 'z', '\\xa0', '¢', 'ä', 'é', 'ö', 'ú', 'ī', '–', '—', '‘', '’', '“', '”', '…', '⁰']\n"
          ],
          "name": "stdout"
        }
      ]
    },
    {
      "cell_type": "markdown",
      "metadata": {
        "id": "eWqyLjV32tXO",
        "colab_type": "text"
      },
      "source": [
        "###'Traducimos' nuestros datos a numero"
      ]
    },
    {
      "cell_type": "code",
      "metadata": {
        "id": "LA2qKz8r283C",
        "colab_type": "code",
        "colab": {}
      },
      "source": [
        "# Definimos las constantes\n",
        "window = 8\n",
        "\n",
        "text = ' '.join(texts)"
      ],
      "execution_count": 13,
      "outputs": []
    },
    {
      "cell_type": "code",
      "metadata": {
        "id": "lTCJgklbomz_",
        "colab_type": "code",
        "colab": {}
      },
      "source": [
        "def text_conversion(text, ctn_dict, window=5, step=1):\n",
        "\n",
        "    l = len(text) - window\n",
        "\n",
        "    X = np.ndarray(shape=(l, window), dtype=int)\n",
        "    \n",
        "    Y = np.zeros(l, dtype=int)\n",
        "    \n",
        "    for i in range(0, l, step):\n",
        "        sequence = text[i: i + window]\n",
        "        label = text[i + window]\n",
        "        \n",
        "        X[i] =  np.asarray([ctn_dict[c] for c in sequence])\n",
        "        Y[i] = ctn_dict[label]\n",
        "        \n",
        "    return X,Y"
      ],
      "execution_count": 14,
      "outputs": []
    },
    {
      "cell_type": "code",
      "metadata": {
        "id": "xwaz3rAE21mn",
        "colab_type": "code",
        "colab": {}
      },
      "source": [
        "X, Y = text_conversion(text, char_to_n, window=window)"
      ],
      "execution_count": 15,
      "outputs": []
    },
    {
      "cell_type": "code",
      "metadata": {
        "id": "rfvXAvVl63XH",
        "colab_type": "code",
        "colab": {
          "base_uri": "https://localhost:8080/",
          "height": 34
        },
        "outputId": "09e40c2e-fb5e-4411-c402-2c8da6eb8127"
      },
      "source": [
        "X[0]"
      ],
      "execution_count": 16,
      "outputs": [
        {
          "output_type": "execute_result",
          "data": {
            "text/plain": [
              "array([44, 77, 77, 76, 99, 81,  1, 81])"
            ]
          },
          "metadata": {
            "tags": []
          },
          "execution_count": 16
        }
      ]
    },
    {
      "cell_type": "code",
      "metadata": {
        "id": "2buCJcNFom0B",
        "colab_type": "code",
        "colab": {}
      },
      "source": [
        "X_modified = np.reshape(X, (len(X), window, 1))\n",
        "X_modified = X_modified / float(len(characters))\n",
        "Y_modified = np_utils.to_categorical(Y)"
      ],
      "execution_count": 17,
      "outputs": []
    },
    {
      "cell_type": "code",
      "metadata": {
        "id": "JOZpddGbLew1",
        "colab_type": "code",
        "colab": {
          "base_uri": "https://localhost:8080/",
          "height": 34
        },
        "outputId": "e19ba880-846e-4754-f775-063368510602"
      },
      "source": [
        "Y_modified.shape"
      ],
      "execution_count": 18,
      "outputs": [
        {
          "output_type": "execute_result",
          "data": {
            "text/plain": [
              "(263472, 104)"
            ]
          },
          "metadata": {
            "tags": []
          },
          "execution_count": 18
        }
      ]
    },
    {
      "cell_type": "markdown",
      "metadata": {
        "id": "OP8o7v0d3GwP",
        "colab_type": "text"
      },
      "source": [
        "### Comenzamos con nuestro modelo"
      ]
    },
    {
      "cell_type": "code",
      "metadata": {
        "id": "BuqrNCH3M6Lj",
        "colab_type": "code",
        "colab": {}
      },
      "source": [
        "def plot_values(title, values, marker=None, plt=plt):\n",
        "  cmap = cm.get_cmap('tab10', len(values))\n",
        "  for i, (tit, vals) in enumerate(values):\n",
        "    if marker:\n",
        "      plt.plot(np.arange(0, len(vals)), vals, marker, color=cmap(i), label=tit)\n",
        "    else: \n",
        "      plt.plot(np.arange(0, len(vals)), vals, color=cmap(i), label=tit)\n",
        "\n",
        "  if hasattr(plt, 'xlabel'):\n",
        "    plt.xlabel('Values #')\n",
        "  else:\n",
        "    plt.set_xlabel(\"Values #\")\n",
        "\n",
        "  if hasattr(plt, 'ylabel'):\n",
        "    plt.ylabel(f\"{title}\")\n",
        "  else:\n",
        "    plt.set_ylabel(f\"{title}\")\n",
        "  plt.legend()"
      ],
      "execution_count": 19,
      "outputs": []
    },
    {
      "cell_type": "code",
      "metadata": {
        "id": "L0gYuYwcF6AW",
        "colab_type": "code",
        "colab": {}
      },
      "source": [
        "def create_nlp_network(shape, otputs):\n",
        "\n",
        "  model = Sequential()\n",
        "\n",
        "  model.add(LSTM(700, input_shape=shape, return_sequences=True))\n",
        "  model.add(Dropout(0.2))\n",
        "  \n",
        "  model.add(LSTM(700))\n",
        "  model.add(Dropout(0.2))\n",
        "\n",
        "  model.add(Dense(Y_modified.shape[1], activation='softmax'))\n",
        "\n",
        "  model.compile(loss='categorical_crossentropy', optimizer='adam')\n",
        "\n",
        "  return model\n"
      ],
      "execution_count": 20,
      "outputs": []
    },
    {
      "cell_type": "code",
      "metadata": {
        "id": "LtYFuMbxLwPm",
        "colab_type": "code",
        "colab": {
          "base_uri": "https://localhost:8080/",
          "height": 323
        },
        "outputId": "795bcba9-860d-4912-a7c2-59fc3ca61b58"
      },
      "source": [
        "model = create_nlp_network(X_modified.shape[1:], Y_modified.shape[1])\n",
        "\n",
        "model.summary()"
      ],
      "execution_count": 21,
      "outputs": [
        {
          "output_type": "stream",
          "text": [
            "Model: \"sequential_1\"\n",
            "_________________________________________________________________\n",
            "Layer (type)                 Output Shape              Param #   \n",
            "=================================================================\n",
            "lstm_1 (LSTM)                (None, 8, 700)            1965600   \n",
            "_________________________________________________________________\n",
            "dropout_1 (Dropout)          (None, 8, 700)            0         \n",
            "_________________________________________________________________\n",
            "lstm_2 (LSTM)                (None, 700)               3922800   \n",
            "_________________________________________________________________\n",
            "dropout_2 (Dropout)          (None, 700)               0         \n",
            "_________________________________________________________________\n",
            "dense_1 (Dense)              (None, 104)               72904     \n",
            "=================================================================\n",
            "Total params: 5,961,304\n",
            "Trainable params: 5,961,304\n",
            "Non-trainable params: 0\n",
            "_________________________________________________________________\n"
          ],
          "name": "stdout"
        }
      ]
    },
    {
      "cell_type": "code",
      "metadata": {
        "id": "8b57wCvFom0F",
        "colab_type": "code",
        "colab": {
          "base_uri": "https://localhost:8080/",
          "height": 884
        },
        "outputId": "3d1018a9-d9f0-4c56-9891-d928bb9354f9"
      },
      "source": [
        "history = model.fit(\n",
        "    X_modified, Y_modified, \n",
        "    validation_split=0.05, \n",
        "    batch_size=128, \n",
        "    epochs=25).history"
      ],
      "execution_count": 22,
      "outputs": [
        {
          "output_type": "stream",
          "text": [
            "Train on 250298 samples, validate on 13174 samples\n",
            "Epoch 1/25\n",
            "250298/250298 [==============================] - 164s 653us/step - loss: 3.0442 - val_loss: 2.9438\n",
            "Epoch 2/25\n",
            "250298/250298 [==============================] - 164s 655us/step - loss: 2.8603 - val_loss: 2.8402\n",
            "Epoch 3/25\n",
            "250298/250298 [==============================] - 165s 657us/step - loss: 2.7630 - val_loss: 2.7505\n",
            "Epoch 4/25\n",
            "250298/250298 [==============================] - 166s 662us/step - loss: 2.6644 - val_loss: 2.6678\n",
            "Epoch 5/25\n",
            "250298/250298 [==============================] - 167s 667us/step - loss: 2.5656 - val_loss: 2.6000\n",
            "Epoch 6/25\n",
            "250298/250298 [==============================] - 169s 676us/step - loss: 2.4731 - val_loss: 2.5387\n",
            "Epoch 7/25\n",
            "250298/250298 [==============================] - 165s 660us/step - loss: 2.3805 - val_loss: 2.5068\n",
            "Epoch 8/25\n",
            "250298/250298 [==============================] - 167s 666us/step - loss: 2.2989 - val_loss: 2.4546\n",
            "Epoch 9/25\n",
            "250298/250298 [==============================] - 165s 660us/step - loss: 2.2209 - val_loss: 2.4468\n",
            "Epoch 10/25\n",
            "250298/250298 [==============================] - 164s 655us/step - loss: 2.1485 - val_loss: 2.4108\n",
            "Epoch 11/25\n",
            "250298/250298 [==============================] - 161s 643us/step - loss: 2.0799 - val_loss: 2.4040\n",
            "Epoch 12/25\n",
            "250298/250298 [==============================] - 167s 668us/step - loss: 2.0145 - val_loss: 2.4085\n",
            "Epoch 13/25\n",
            "250298/250298 [==============================] - 167s 668us/step - loss: 1.9560 - val_loss: 2.4513\n",
            "Epoch 14/25\n",
            "250298/250298 [==============================] - 167s 667us/step - loss: 1.8979 - val_loss: 2.4121\n",
            "Epoch 15/25\n",
            "250298/250298 [==============================] - 164s 657us/step - loss: 1.8477 - val_loss: 2.4103\n",
            "Epoch 16/25\n",
            "250298/250298 [==============================] - 165s 660us/step - loss: 1.7982 - val_loss: 2.4475\n",
            "Epoch 17/25\n",
            "250298/250298 [==============================] - 167s 666us/step - loss: 1.7473 - val_loss: 2.4382\n",
            "Epoch 18/25\n",
            "250298/250298 [==============================] - 166s 663us/step - loss: 1.7060 - val_loss: 2.5036\n",
            "Epoch 19/25\n",
            "250298/250298 [==============================] - 165s 661us/step - loss: 1.6640 - val_loss: 2.4800\n",
            "Epoch 20/25\n",
            "250298/250298 [==============================] - 166s 662us/step - loss: 1.6240 - val_loss: 2.4948\n",
            "Epoch 21/25\n",
            "250298/250298 [==============================] - 165s 660us/step - loss: 1.5876 - val_loss: 2.5110\n",
            "Epoch 22/25\n",
            "250298/250298 [==============================] - 166s 665us/step - loss: 1.5534 - val_loss: 2.5146\n",
            "Epoch 23/25\n",
            "250298/250298 [==============================] - 163s 653us/step - loss: 1.5168 - val_loss: 2.5660\n",
            "Epoch 24/25\n",
            "250298/250298 [==============================] - 166s 665us/step - loss: 1.4900 - val_loss: 2.5888\n",
            "Epoch 25/25\n",
            "250298/250298 [==============================] - 167s 667us/step - loss: 1.4548 - val_loss: 2.6003\n"
          ],
          "name": "stdout"
        }
      ]
    },
    {
      "cell_type": "code",
      "metadata": {
        "id": "9xJjein9NjdX",
        "colab_type": "code",
        "colab": {
          "base_uri": "https://localhost:8080/",
          "height": 279
        },
        "outputId": "7625ce74-2fe6-448b-dbac-a511e6acb860"
      },
      "source": [
        "plot_values('Loss', [('loss', history['loss']), ('val_loss', history['val_loss'])])"
      ],
      "execution_count": 24,
      "outputs": [
        {
          "output_type": "display_data",
          "data": {
            "image/png": "[encoded data removed]",
            "text/plain": [
              "<Figure size 432x288 with 1 Axes>"
            ]
          },
          "metadata": {
            "tags": [],
            "needs_background": "light"
          }
        }
      ]
    },
    {
      "cell_type": "code",
      "metadata": {
        "id": "Imc2GgC9om0H",
        "colab_type": "code",
        "colab": {}
      },
      "source": [
        "def generate_text(model, initial_sequence):\n",
        "    string_mapped = deepcopy(initial_sequence.tolist())\n",
        "    full_string = [n_to_char[value] for value in string_mapped]\n",
        "    \n",
        "    # Generating characters\n",
        "    # Generamos un tweet entre  280(el maximo actual de tweeter)\n",
        "    characters_length = random.randint(len(string_mapped)+10, 280 )\n",
        "    for i in range(characters_length):\n",
        "        x = np.reshape(string_mapped,(1,len(string_mapped), 1))\n",
        "        x = x / float(len(characters))\n",
        "\n",
        "        pred_index = np.argmax(model.predict(x, verbose=0))\n",
        "        seq = [n_to_char[value] for value in string_mapped]\n",
        "        full_string.append(n_to_char[pred_index])\n",
        "\n",
        "        string_mapped.append(pred_index)\n",
        "        string_mapped = string_mapped[1:len(string_mapped)]\n",
        "        \n",
        "    text = \"\"\n",
        "    for char in full_string:\n",
        "        text = text + char\n",
        "    return text"
      ],
      "execution_count": 25,
      "outputs": []
    },
    {
      "cell_type": "code",
      "metadata": {
        "id": "TsliL73Kqe1a",
        "colab_type": "code",
        "colab": {
          "base_uri": "https://localhost:8080/",
          "height": 35
        },
        "outputId": "8a9ec0e1-594f-417b-9757-73fc0713f44f"
      },
      "source": [
        "generate_text(model, X[0])"
      ],
      "execution_count": 28,
      "outputs": [
        {
          "output_type": "execute_result",
          "data": {
            "application/vnd.google.colaboratory.intrinsic": {
              "type": "string"
            },
            "text/plain": [
              "'Moon’s shme a pianet ou soop on the Sun will dxplouers to the Sun will dxplouers to'"
            ]
          },
          "metadata": {
            "tags": []
          },
          "execution_count": 28
        }
      ]
    },
    {
      "cell_type": "code",
      "metadata": {
        "id": "YYuPUu8fKLzl",
        "colab_type": "code",
        "colab": {}
      },
      "source": [
        "# Ahora exportaremos nuestro modelo para poder reutilizarlo posteriormente\n",
        "def export_modoel(model, name):\n",
        "  model.save(f\"{name}.h5\")\n",
        "  \n",
        "  !cp {name}.h5 /content/drive/My\\ Drive/Colab\\ Notebooks/NLP/{name}.h5\n",
        "\n",
        "  print(\"Saved model to disk\")"
      ],
      "execution_count": 241,
      "outputs": []
    },
    {
      "cell_type": "code",
      "metadata": {
        "id": "JwM_6x0JUixW",
        "colab_type": "code",
        "colab": {
          "base_uri": "https://localhost:8080/",
          "height": 34
        },
        "outputId": "50526832-e99f-4768-d772-bc7840f760d8"
      },
      "source": [
        "export_modoel(model, 'nlg_2')"
      ],
      "execution_count": 44,
      "outputs": [
        {
          "output_type": "stream",
          "text": [
            "Saved model to disk\n"
          ],
          "name": "stdout"
        }
      ]
    },
    {
      "cell_type": "markdown",
      "metadata": {
        "id": "v7XvDOpOUwgr",
        "colab_type": "text"
      },
      "source": [
        "Como conclusiones de esta practica llego a que después de probar varios modelos depende mucho de el numero de epocas y del preprocesado que hagas obener un texto 'natral', basicamente mi proceso sobre esta pŕactica ha sido el de copiar una estructura básica e iterar sobre ella añadirndo etapas en la limpieza y cambiando los parametros del entrenamiento 'batch_size' y 'epochs'.\n",
        "\n",
        "El reusltado final se ve que no es muy 'optimo' pero ha sido mucho tiempo y varias pruebas para intetar crar un mdelo que genre lenguaje 'natual'"
      ]
    },
    {
      "cell_type": "code",
      "metadata": {
        "id": "DWURJkFbUmtE",
        "colab_type": "code",
        "colab": {}
      },
      "source": [
        ""
      ],
      "execution_count": null,
      "outputs": []
    },
    {
      "cell_type": "code",
      "metadata": {
        "id": "G6Xc2rFkHDX9",
        "colab_type": "code",
        "colab": {}
      },
      "source": [
        ""
      ],
      "execution_count": null,
      "outputs": []
    }
  ]
}