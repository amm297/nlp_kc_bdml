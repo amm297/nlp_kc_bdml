{
 "cells": [
  {
   "cell_type": "markdown",
   "metadata": {},
   "source": [
    "### 3. Generación de Lenguaje Natural\n",
    "Implementación de un modelo de generación de lenguaje utilizando algún dataset de los propuestos de Twitter.\n",
    "\n",
    "El objetivo es el de simular la creación de un bot que escriba tweets de manera similar al del autor utilizado para el entrenamiento.\n",
    "\n",
    "Se valorará principalmente la argumentación de los pasos realizados y las conclusiones al analizar los resultados y limitaciones encontradas."
   ]
  },
  {
   "cell_type": "code",
   "execution_count": 10,
   "metadata": {},
   "outputs": [],
   "source": [
    "# Importamos a lo que vayamos a necesitar\n",
    "\n",
    "import numpy as np\n",
    "import pandas as pd\n",
    "import re\n",
    "from copy import deepcopy\n",
    "\n",
    "from keras.models import Sequential\n",
    "from keras.layers import Dense\n",
    "from keras.layers import Dropout\n",
    "from keras.layers import LSTM\n",
    "from keras.utils import np_utils"
   ]
  },
  {
   "cell_type": "code",
   "execution_count": 3,
   "metadata": {
    "scrolled": true
   },
   "outputs": [],
   "source": [
    "from tensorflow.python.client import device_lib"
   ]
  },
  {
   "cell_type": "code",
   "execution_count": 6,
   "metadata": {},
   "outputs": [
    {
     "name": "stdout",
     "output_type": "stream",
     "text": [
      "[name: \"/device:CPU:0\"\n",
      "device_type: \"CPU\"\n",
      "memory_limit: 268435456\n",
      "locality {\n",
      "}\n",
      "incarnation: 6917121431308361240\n",
      ", name: \"/device:XLA_CPU:0\"\n",
      "device_type: \"XLA_CPU\"\n",
      "memory_limit: 17179869184\n",
      "locality {\n",
      "}\n",
      "incarnation: 1612668119331153853\n",
      "physical_device_desc: \"device: XLA_CPU device\"\n",
      "]\n"
     ]
    }
   ],
   "source": [
    "from tensorflow.python.client import device_lib\n",
    "print(device_lib.list_local_devices())"
   ]
  },
  {
   "cell_type": "markdown",
   "metadata": {},
   "source": [
    "### Cargamos los datos"
   ]
  },
  {
   "cell_type": "code",
   "execution_count": 46,
   "metadata": {},
   "outputs": [],
   "source": [
    "data = pd.read_csv('./datasets/KimKardashianTweets.csv')"
   ]
  },
  {
   "cell_type": "code",
   "execution_count": 47,
   "metadata": {},
   "outputs": [
    {
     "data": {
      "text/html": [
       "<div>\n",
       "<style scoped>\n",
       "    .dataframe tbody tr th:only-of-type {\n",
       "        vertical-align: middle;\n",
       "    }\n",
       "\n",
       "    .dataframe tbody tr th {\n",
       "        vertical-align: top;\n",
       "    }\n",
       "\n",
       "    .dataframe thead th {\n",
       "        text-align: right;\n",
       "    }\n",
       "</style>\n",
       "<table border=\"1\" class=\"dataframe\">\n",
       "  <thead>\n",
       "    <tr style=\"text-align: right;\">\n",
       "      <th></th>\n",
       "      <th>Unnamed: 0</th>\n",
       "      <th>date</th>\n",
       "      <th>id</th>\n",
       "      <th>link</th>\n",
       "      <th>retweet</th>\n",
       "      <th>text</th>\n",
       "      <th>author</th>\n",
       "    </tr>\n",
       "  </thead>\n",
       "  <tbody>\n",
       "    <tr>\n",
       "      <th>0</th>\n",
       "      <td>0</td>\n",
       "      <td>Oct 2</td>\n",
       "      <td>782694393216110592</td>\n",
       "      <td>/KimKardashian/status/782694393216110592</td>\n",
       "      <td>False</td>\n",
       "      <td>Hey guys! Meet my #KimKardashianGame character...</td>\n",
       "      <td>KimKardashian</td>\n",
       "    </tr>\n",
       "    <tr>\n",
       "      <th>1</th>\n",
       "      <td>1</td>\n",
       "      <td>Oct 2</td>\n",
       "      <td>782632831780618240</td>\n",
       "      <td>/KimKardashian/status/782632831780618240</td>\n",
       "      <td>False</td>\n",
       "      <td>This guy is always in my shot!pic.twitter.com/...</td>\n",
       "      <td>KimKardashian</td>\n",
       "    </tr>\n",
       "    <tr>\n",
       "      <th>2</th>\n",
       "      <td>2</td>\n",
       "      <td>Oct 2</td>\n",
       "      <td>782559825205071872</td>\n",
       "      <td>/KimKardashian/status/782559825205071872</td>\n",
       "      <td>False</td>\n",
       "      <td>Balenciaga. No make up today.pic.twitter.com/l...</td>\n",
       "      <td>KimKardashian</td>\n",
       "    </tr>\n",
       "    <tr>\n",
       "      <th>3</th>\n",
       "      <td>3</td>\n",
       "      <td>Oct 1</td>\n",
       "      <td>782260907900567552</td>\n",
       "      <td>/KimKardashian/status/782260907900567552</td>\n",
       "      <td>False</td>\n",
       "      <td>Kourtney and Kim Take Parispic.twitter.com/VXw...</td>\n",
       "      <td>KimKardashian</td>\n",
       "    </tr>\n",
       "    <tr>\n",
       "      <th>4</th>\n",
       "      <td>4</td>\n",
       "      <td>Oct 1</td>\n",
       "      <td>782259209459101696</td>\n",
       "      <td>/KimKardashian/status/782259209459101697</td>\n",
       "      <td>False</td>\n",
       "      <td>GIVENCHY COUTUREpic.twitter.com/jHxTIuHzzo</td>\n",
       "      <td>KimKardashian</td>\n",
       "    </tr>\n",
       "  </tbody>\n",
       "</table>\n",
       "</div>"
      ],
      "text/plain": [
       "   Unnamed: 0   date                  id  \\\n",
       "0           0  Oct 2  782694393216110592   \n",
       "1           1  Oct 2  782632831780618240   \n",
       "2           2  Oct 2  782559825205071872   \n",
       "3           3  Oct 1  782260907900567552   \n",
       "4           4  Oct 1  782259209459101696   \n",
       "\n",
       "                                       link  retweet  \\\n",
       "0  /KimKardashian/status/782694393216110592    False   \n",
       "1  /KimKardashian/status/782632831780618240    False   \n",
       "2  /KimKardashian/status/782559825205071872    False   \n",
       "3  /KimKardashian/status/782260907900567552    False   \n",
       "4  /KimKardashian/status/782259209459101697    False   \n",
       "\n",
       "                                                text         author  \n",
       "0  Hey guys! Meet my #KimKardashianGame character...  KimKardashian  \n",
       "1  This guy is always in my shot!pic.twitter.com/...  KimKardashian  \n",
       "2  Balenciaga. No make up today.pic.twitter.com/l...  KimKardashian  \n",
       "3  Kourtney and Kim Take Parispic.twitter.com/VXw...  KimKardashian  \n",
       "4         GIVENCHY COUTUREpic.twitter.com/jHxTIuHzzo  KimKardashian  "
      ]
     },
     "execution_count": 47,
     "metadata": {},
     "output_type": "execute_result"
    }
   ],
   "source": [
    "data.head()"
   ]
  },
  {
   "cell_type": "code",
   "execution_count": 48,
   "metadata": {},
   "outputs": [],
   "source": [
    "data = data[['retweet', 'text', 'author']]"
   ]
  },
  {
   "cell_type": "code",
   "execution_count": 49,
   "metadata": {},
   "outputs": [
    {
     "data": {
      "text/html": [
       "<div>\n",
       "<style scoped>\n",
       "    .dataframe tbody tr th:only-of-type {\n",
       "        vertical-align: middle;\n",
       "    }\n",
       "\n",
       "    .dataframe tbody tr th {\n",
       "        vertical-align: top;\n",
       "    }\n",
       "\n",
       "    .dataframe thead th {\n",
       "        text-align: right;\n",
       "    }\n",
       "</style>\n",
       "<table border=\"1\" class=\"dataframe\">\n",
       "  <thead>\n",
       "    <tr style=\"text-align: right;\">\n",
       "      <th></th>\n",
       "      <th>retweet</th>\n",
       "      <th>text</th>\n",
       "      <th>author</th>\n",
       "    </tr>\n",
       "  </thead>\n",
       "  <tbody>\n",
       "    <tr>\n",
       "      <th>0</th>\n",
       "      <td>False</td>\n",
       "      <td>Hey guys! Meet my #KimKardashianGame character...</td>\n",
       "      <td>KimKardashian</td>\n",
       "    </tr>\n",
       "    <tr>\n",
       "      <th>1</th>\n",
       "      <td>False</td>\n",
       "      <td>This guy is always in my shot!pic.twitter.com/...</td>\n",
       "      <td>KimKardashian</td>\n",
       "    </tr>\n",
       "    <tr>\n",
       "      <th>2</th>\n",
       "      <td>False</td>\n",
       "      <td>Balenciaga. No make up today.pic.twitter.com/l...</td>\n",
       "      <td>KimKardashian</td>\n",
       "    </tr>\n",
       "    <tr>\n",
       "      <th>3</th>\n",
       "      <td>False</td>\n",
       "      <td>Kourtney and Kim Take Parispic.twitter.com/VXw...</td>\n",
       "      <td>KimKardashian</td>\n",
       "    </tr>\n",
       "    <tr>\n",
       "      <th>4</th>\n",
       "      <td>False</td>\n",
       "      <td>GIVENCHY COUTUREpic.twitter.com/jHxTIuHzzo</td>\n",
       "      <td>KimKardashian</td>\n",
       "    </tr>\n",
       "  </tbody>\n",
       "</table>\n",
       "</div>"
      ],
      "text/plain": [
       "   retweet                                               text         author\n",
       "0    False  Hey guys! Meet my #KimKardashianGame character...  KimKardashian\n",
       "1    False  This guy is always in my shot!pic.twitter.com/...  KimKardashian\n",
       "2    False  Balenciaga. No make up today.pic.twitter.com/l...  KimKardashian\n",
       "3    False  Kourtney and Kim Take Parispic.twitter.com/VXw...  KimKardashian\n",
       "4    False         GIVENCHY COUTUREpic.twitter.com/jHxTIuHzzo  KimKardashian"
      ]
     },
     "execution_count": 49,
     "metadata": {},
     "output_type": "execute_result"
    }
   ],
   "source": [
    "data.head()"
   ]
  },
  {
   "cell_type": "code",
   "execution_count": 114,
   "metadata": {},
   "outputs": [],
   "source": [
    "aux = 'Hey guys! Meet my #KimKardashianGame character at the So Chic Boutique in Downtown LA for a surprise ;)'"
   ]
  },
  {
   "cell_type": "code",
   "execution_count": 115,
   "metadata": {},
   "outputs": [
    {
     "data": {
      "text/plain": [
       "'Hey guys! caca my #KimKardashianGame character at the So Chic Boutique in Downtown LA for a surprise ;)'"
      ]
     },
     "execution_count": 115,
     "metadata": {},
     "output_type": "execute_result"
    }
   ],
   "source": [
    "aux.replace('Meet', 'caca')"
   ]
  },
  {
   "cell_type": "code",
   "execution_count": 117,
   "metadata": {},
   "outputs": [
    {
     "ename": "TypeError",
     "evalue": "'str' object cannot be interpreted as an integer",
     "output_type": "error",
     "traceback": [
      "\u001b[0;31m---------------------------------------------------------------------------\u001b[0m",
      "\u001b[0;31mTypeError\u001b[0m                                 Traceback (most recent call last)",
      "\u001b[0;32m<ipython-input-117-ca799ab6697f>\u001b[0m in \u001b[0;36m<module>\u001b[0;34m\u001b[0m\n\u001b[0;32m----> 1\u001b[0;31m \u001b[0mhashtag_regex\u001b[0m\u001b[0;34m.\u001b[0m\u001b[0msubn\u001b[0m\u001b[0;34m(\u001b[0m\u001b[0mhashtag_regex\u001b[0m\u001b[0;34m.\u001b[0m\u001b[0mpattern\u001b[0m\u001b[0;34m,\u001b[0m \u001b[0;34m' '\u001b[0m\u001b[0;34m,\u001b[0m \u001b[0maux\u001b[0m\u001b[0;34m)\u001b[0m\u001b[0;34m\u001b[0m\u001b[0;34m\u001b[0m\u001b[0m\n\u001b[0m",
      "\u001b[0;31mTypeError\u001b[0m: 'str' object cannot be interpreted as an integer"
     ]
    }
   ],
   "source": [
    "hashtag_regex.subn(hashtag_regex.pattern, ' ', aux)"
   ]
  },
  {
   "cell_type": "markdown",
   "metadata": {},
   "source": [
    "Pasos a seguir \n",
    "\n",
    "- extraer los hashtags, menciones y  urls\n",
    "- convertirlos a un array"
   ]
  },
  {
   "cell_type": "code",
   "execution_count": 73,
   "metadata": {},
   "outputs": [
    {
     "data": {
      "text/plain": [
       "'foo%s bar'"
      ]
     },
     "execution_count": 73,
     "metadata": {},
     "output_type": "execute_result"
    }
   ],
   "source": [
    "regex = re.compile('([a-zA-Z]\\\"[a-zA-Z])', re.S)\n",
    "myfile =  'foo\"s bar'\n",
    "regex.sub(lambda m: m.group().replace('\"',\"%\",1), myfile)"
   ]
  },
  {
   "cell_type": "code",
   "execution_count": 107,
   "metadata": {},
   "outputs": [],
   "source": [
    "user_regex = re.compile('@\\w+ | @\\w+ ')\n",
    "hashtag_regex = re.compile('#\\w+| #\\w+ ')\n",
    "url_regex = re.compile('[http|https]?://(?:[-\\w.]|(?:%[\\da-fA-F]{2}))+')\n",
    "pics_regex = re.compile('pic?.\\w+.\\w+\\/\\w+')"
   ]
  },
  {
   "cell_type": "code",
   "execution_count": null,
   "metadata": {},
   "outputs": [],
   "source": [
    "review = re.sub(r'(&#\\d+) | (&\\w+)', '', review)"
   ]
  },
  {
   "cell_type": "code",
   "execution_count": null,
   "metadata": {},
   "outputs": [],
   "source": []
  },
  {
   "cell_type": "code",
   "execution_count": 84,
   "metadata": {},
   "outputs": [
    {
     "data": {
      "text/plain": [
       "'pic?.\\\\w+.\\\\w+\\\\/\\\\w+'"
      ]
     },
     "execution_count": 84,
     "metadata": {},
     "output_type": "execute_result"
    }
   ],
   "source": [
    "pics_regex.pattern"
   ]
  },
  {
   "cell_type": "code",
   "execution_count": 130,
   "metadata": {},
   "outputs": [],
   "source": [
    "users = []\n",
    "hashtags = []\n",
    "urls = []\n",
    "pics = []\n",
    "\n",
    "\n",
    "texts = []\n",
    "for text in data['text'][:100]:\n",
    "    \n",
    "    this_usrs = user_regex.findall(text)\n",
    "    this_hashtag = hashtag_regex.findall(text)\n",
    "    this_url = url_regex.findall(text)\n",
    "    this_pics = pics_regex.findall(text)\n",
    "    \n",
    "    aux = text\n",
    "    aux = re.sub(user_regex.pattern, ' ', aux)\n",
    "    aux = re.sub(hashtag_regex.pattern, ' ', aux)\n",
    "    aux = re.sub(url_regex, '', aux)\n",
    "    aux = re.sub(pics_regex, '', aux)\n",
    "    \n",
    "    texts.append(aux)\n",
    "    "
   ]
  },
  {
   "cell_type": "code",
   "execution_count": 132,
   "metadata": {
    "scrolled": true
   },
   "outputs": [
    {
     "data": {
      "text/plain": [
       "['Hey guys! Meet my character at the So Chic Boutique in Downtown LA for a surprise ;)',\n",
       " 'This guy is always in my shot!',\n",
       " 'Balenciaga. No make up today.',\n",
       " 'Kourtney and Kim Take Paris',\n",
       " 'GIVENCHY COUTURE',\n",
       " 'The Yeezy Show Room in Paris is heaven.',\n",
       " \"Think I'm gonna wear no make up today to the Balenciaga show.\",\n",
       " \"Just finished the Amanda Knox doc. I don't think they did it. I really want a Natalie Halloway doc & they need to solve that crime. So sad!\",\n",
       " 'Paris Squad',\n",
       " 'Came home early from the fashion festivities to watch the Netflix Amanda Knox doc. Cannot wait to see this! Anyone see it yet? Thoughts?',\n",
       " 'Hair flip & eye roll at the same damn time!',\n",
       " 'Sister Slay',\n",
       " 'On the way to Balmain',\n",
       " 'My security   is a G',\n",
       " 'NYC  PARIS',\n",
       " 'Currently  .twitter.com/QVhNFEa4TH',\n",
       " 'He is desperately searching for a bone marrow match to survive, and you could be that match!!',\n",
       " 'He is 31 and a father of three who was recently diagnosed with an aggressive blood cancer called primary myelofibrosis.',\n",
       " 'My best friend Allison’s 2 year old son is in school with a little boy called Joel, and his dad Adam needs our help!',\n",
       " 'I hope this documentary gets this cold case solved or even reopened. I pray JonBenét gets justice.',\n",
       " ' I did my hair and make up myself! Rare and proud momenthttp/molestmekardash/status/778671443693412352\\xa0…',\n",
       " \"I'm in Houston,   is in Houston!! Who says we do a live stream backstage at the Saint Pablo tour??? Tweet her questions\",\n",
       " 'Major side eye ',\n",
       " \"I'm going to Paris fashion week! Who is coming with me in the Kim Kardashian Hollywood game? Own your own fashion house in Paris in the game\",\n",
       " 'SHEER VIBES htt/2cCwJZg\\xa0',\n",
       " 'Excited for Rob & Chyna tonight! Tune into E!',\n",
       " 'Tonight',\n",
       " 'Bathroom selfie right before Pablo hits the stage',\n",
       " \"You're so professional   So responsible & thanks for never drinking on the job!\",\n",
       " \"Seriously   thanks for always having my back and eating all my left overs so they don't go to waste!\",\n",
       " 'Happy Birthday   I love this pic of us!',\n",
       " \"Thank you   LOVE this   couture gown for the Harper's Party!\",\n",
       " \"Gonna live stream backstage at Kanye's concert! Log in\",\n",
       " 'I def will live stream today for the 1 year anniversary of my app!',\n",
       " 'Have you guys used the new presidential Kimojis? They are free! Just update!',\n",
       " 'Happy Birthday to one of the most genuine funniest guys I know! I love you  .twitter.com/0s2ZVGrbTJ',\n",
       " 'NEW PRESIDENTIAL KIMOJI ARE HERE! htt/28YijmF\\xa0',\n",
       " 'COMING SOON!  .twitter.com/E9sgSb7EZl',\n",
       " 'Happy National Video Game Day!  .twitter.com/EVFGBDOcNh',\n",
       " \"It's a Kimoji! LOLhttp/alliedougherty_/status/775147184186535936\\xa0…\",\n",
       " 'a girl!!!!!!!!!! how cute is she going to be!!!!!!!',\n",
       " 'Congrats   &   on your baby girl!!!!!! ',\n",
       " 'I love seeing   &   together!',\n",
       " 'Watching !!!! Tune into E! now!',\n",
       " 'Rob & Chyna are revealing the if its a boy or a girl tonight! What do you guys think they are having???',\n",
       " 'YEEZY SEASON 4 LOOKBOOKhttp/style/1372-kim-kardashian-yeezy-season-4-lookbook/\\xa0…',\n",
       " \"I'm so excited to watch Rob & Chyna tonight!!! I'm gonna live tweet!!!! Watch with me!\",\n",
       " '  And maybe spend less time hating others and loving yourself. Life is good. Be happy & blessed, in all sincerity.',\n",
       " \"Bc she has a passion 4 fashion &we've given her the tools 2 explore that? Spending time w dad   isn't bad eitherhttp/emseffect/status/774926666229481474\\xa0…\",\n",
       " 'Life is so precious & I pray for everyone who was affected by this awful tragedy.  .twitter.com/7n8KKhWeKc',\n",
       " 'We make all of her clothes so she picks the fabrics at fabric stores! http/misspopc/status/774744488816156672\\xa0…',\n",
       " 'Love this look! Clear thigh high boots  YEEZY SEASON 4',\n",
       " 'Yeezy Season 4',\n",
       " 'Silver Surfer',\n",
       " 'MY FAVE ALL-YEEZY OUTFITShttp/style/1339-kim-kardashian-yeezy-outfits/\\xa0…',\n",
       " 'Me & my mini me!  .twitter.com/GY4QvP4lwB',\n",
       " 'So ready for Saint Pablo tonight at MSG',\n",
       " 'Wired  Mert & Marcus',\n",
       " 'Love finding pics like this in my phone! Shout out to Steph for taking it ',\n",
       " \"I so want to post my Beauty Bloggers show presentation for you guys! I'm so extra hype about this! Gonna ask Lifetime if I can.\",\n",
       " 'My sweet baby girl ',\n",
       " 'Diet peach Snapple is my everything! Go figure I would love the peach  http/chrissyteigen/status/772153374506483713\\xa0…',\n",
       " 'I  my family',\n",
       " 'Kourtney looks amazing!!    .twitter.com/U7MTd4m04s',\n",
       " \"She designed her own dress today in her dad's office & is picking out fabrics tomorrow! She loves fashion!!!http/fashionista_com/status/770739141600505856\\xa0…\",\n",
       " 'YOU REALLY SHOULD… STEAL NORTH’S STYLEhttp/style/1264-kim-kardashian-style-inspiration-north-west/\\xa0…',\n",
       " 'Date night',\n",
       " \"So happy I got to introduce my friend   last night! I'm obsessed with  . Go get the album! Let's  \",\n",
       " 'Wet beachy glam last night  .twitter.com/AkiEcmukez',\n",
       " \"Vintage Galliano & Kanye West x Jacob the Jeweler's new collection for the VMA's\",\n",
       " \"Let's just go to the gym together! LOL I love you!!!! - /teyanataylor/status/770288621454815232\\xa0…\",\n",
       " \"I'm so happy we met!!! Can't wait to see you soon!http/simone_biles/status/770118544294043649\\xa0…\",\n",
       " 'You guys!!!   has the best body ever!!! Like no joke and just had a baby!!!! ',\n",
       " 'Ok just woke up & watched the Fade video again for my Monday morning gym motivation. Thank you   ',\n",
       " 'MUSIC MONDAY: MY FAVE KANYE SONGShttp/obsessed/1308-kim-kardashian-favorite-kanye-songs/\\xa0…',\n",
       " 'What color hair should I do for the ????',\n",
       " 'OK I will take a poll, what should I wear tonight?',\n",
       " 'I am obsessed with my husband, but its not him  ',\n",
       " \"And I see you guys guessing on who I am presenting....A little hint, it's someone i am obsessed with!!!! LIKE OBSESSED!!!!!  \",\n",
       " 'Famous Exhibit at Blum & Poe Art Gallery',\n",
       " 'I think Uber reached out to Kendall and fixed the issue!http/wannabelikekim/status/769653376393043968\\xa0…',\n",
       " '6 DAYS, 6 WAYS: OUR YEEZY BOOST 350 SNEAKERShttp/style/1311-kim-kardashian-sisters-yeezy-boosts/\\xa0…',\n",
       " 'Ugh I have to drive   around tonight bc she\\'s banned from Uber! Why  ?!?! She\\'s a \"model\" passenger!!!!!',\n",
       " \"Heading to a secret art gallery location to view Kanye's Famous Exhibition!!!!\",\n",
       " \"I'm watching these beauty blogger audition tapes for my new show!!!! So many amazing people to choose from. This is going to be so much fun!\",\n",
       " 'Lost files from Mexico',\n",
       " 'BTS AT KANYE’S ‘FAMOUS’ VIDEO SCREENINGhttp/behind-the-scenes/1298-kim-kardashian-kanye-famous-video-bts-photos/\\xa0…',\n",
       " 'Sign up now!! htt\\xa0',\n",
       " \"I'm up so early. Do I workout or try to go back to sleep?\",\n",
       " 'htt\\xa0 for tickets Oct 14! Our 1st sponsor is KYLIE COSMETICS! So everyone will get a free lip kit!',\n",
       " 'GLOW',\n",
       " 'Excited to be partnering with   to share their amazing hair vitamins with you! So delish!   .twitter.com/6ALBSzpZub',\n",
       " 'Selfish in Mexico',\n",
       " 'Werk   !!!!!  .twitter.com/ThEBjva1zr',\n",
       " '5 DAYS, 5 WAYS: MY YEEZY BOOTShttp/style/1281-kim-kardashian-yeezy-boots/\\xa0…',\n",
       " 'Not much time left to get he Kimoji bike shorts, body suits and sweat shirts!!!!',\n",
       " 'Only a few hours left for new  !!! htt\\xa0',\n",
       " '  starts now!!!!',\n",
       " 'Last day to get the Kimoji Merch!!!! Bike shorts, bodysuits & sweatshirts! htt\\xa0',\n",
       " 'HOW TO WEAR OLYMPIC GOLD METALShttp/beauty/1276-kim-kardashian-olympic-gold/\\xa0…']"
      ]
     },
     "execution_count": 132,
     "metadata": {},
     "output_type": "execute_result"
    }
   ],
   "source": [
    "texts"
   ]
  },
  {
   "cell_type": "code",
   "execution_count": 143,
   "metadata": {},
   "outputs": [],
   "source": [
    "text = r'\\n\\n'.join(texts)"
   ]
  },
  {
   "cell_type": "code",
   "execution_count": 144,
   "metadata": {},
   "outputs": [
    {
     "data": {
      "text/plain": [
       "'Hey guys! Meet my character at the So Chic Boutique in Downtown LA for a surprise ;)\\\\n\\\\nThis guy is always in my shot!\\\\n\\\\nBalenciaga. No make up today.\\\\n\\\\nKourtney and Kim Take Paris\\\\n\\\\nGIVENCHY COUTURE\\\\n\\\\nThe Yeezy Show Room in Paris is heaven.\\\\n\\\\nThink I\\'m gonna wear no make up today to the Balenciaga show.\\\\n\\\\nJust finished the Amanda Knox doc. I don\\'t think they did it. I really want a Natalie Halloway doc & they need to solve that crime. So sad!\\\\n\\\\nParis Squad\\\\n\\\\nCame home early from the fashion festivities to watch the Netflix Amanda Knox doc. Cannot wait to see this! Anyone see it yet? Thoughts?\\\\n\\\\nHair flip & eye roll at the same damn time!\\\\n\\\\nSister Slay\\\\n\\\\nOn the way to Balmain\\\\n\\\\nMy security   is a G\\\\n\\\\nNYC  PARIS\\\\n\\\\nCurrently  .twitter.com/QVhNFEa4TH\\\\n\\\\nHe is desperately searching for a bone marrow match to survive, and you could be that match!!\\\\n\\\\nHe is 31 and a father of three who was recently diagnosed with an aggressive blood cancer called primary myelofibrosis.\\\\n\\\\nMy best friend Allison’s 2 year old son is in school with a little boy called Joel, and his dad Adam needs our help!\\\\n\\\\nI hope this documentary gets this cold case solved or even reopened. I pray JonBenét gets justice.\\\\n\\\\n I did my hair and make up myself! Rare and proud momenthttp/molestmekardash/status/778671443693412352\\xa0…\\\\n\\\\nI\\'m in Houston,   is in Houston!! Who says we do a live stream backstage at the Saint Pablo tour??? Tweet her questions\\\\n\\\\nMajor side eye \\\\n\\\\nI\\'m going to Paris fashion week! Who is coming with me in the Kim Kardashian Hollywood game? Own your own fashion house in Paris in the game\\\\n\\\\nSHEER VIBES htt/2cCwJZg\\xa0\\\\n\\\\nExcited for Rob & Chyna tonight! Tune into E!\\\\n\\\\nTonight\\\\n\\\\nBathroom selfie right before Pablo hits the stage\\\\n\\\\nYou\\'re so professional   So responsible & thanks for never drinking on the job!\\\\n\\\\nSeriously   thanks for always having my back and eating all my left overs so they don\\'t go to waste!\\\\n\\\\nHappy Birthday   I love this pic of us!\\\\n\\\\nThank you   LOVE this   couture gown for the Harper\\'s Party!\\\\n\\\\nGonna live stream backstage at Kanye\\'s concert! Log in\\\\n\\\\nI def will live stream today for the 1 year anniversary of my app!\\\\n\\\\nHave you guys used the new presidential Kimojis? They are free! Just update!\\\\n\\\\nHappy Birthday to one of the most genuine funniest guys I know! I love you  .twitter.com/0s2ZVGrbTJ\\\\n\\\\nNEW PRESIDENTIAL KIMOJI ARE HERE! htt/28YijmF\\xa0\\\\n\\\\nCOMING SOON!  .twitter.com/E9sgSb7EZl\\\\n\\\\nHappy National Video Game Day!  .twitter.com/EVFGBDOcNh\\\\n\\\\nIt\\'s a Kimoji! LOLhttp/alliedougherty_/status/775147184186535936\\xa0…\\\\n\\\\na girl!!!!!!!!!! how cute is she going to be!!!!!!!\\\\n\\\\nCongrats   &   on your baby girl!!!!!! \\\\n\\\\nI love seeing   &   together!\\\\n\\\\nWatching !!!! Tune into E! now!\\\\n\\\\nRob & Chyna are revealing the if its a boy or a girl tonight! What do you guys think they are having???\\\\n\\\\nYEEZY SEASON 4 LOOKBOOKhttp/style/1372-kim-kardashian-yeezy-season-4-lookbook/\\xa0…\\\\n\\\\nI\\'m so excited to watch Rob & Chyna tonight!!! I\\'m gonna live tweet!!!! Watch with me!\\\\n\\\\n  And maybe spend less time hating others and loving yourself. Life is good. Be happy & blessed, in all sincerity.\\\\n\\\\nBc she has a passion 4 fashion &we\\'ve given her the tools 2 explore that? Spending time w dad   isn\\'t bad eitherhttp/emseffect/status/774926666229481474\\xa0…\\\\n\\\\nLife is so precious & I pray for everyone who was affected by this awful tragedy.  .twitter.com/7n8KKhWeKc\\\\n\\\\nWe make all of her clothes so she picks the fabrics at fabric stores! http/misspopc/status/774744488816156672\\xa0…\\\\n\\\\nLove this look! Clear thigh high boots  YEEZY SEASON 4\\\\n\\\\nYeezy Season 4\\\\n\\\\nSilver Surfer\\\\n\\\\nMY FAVE ALL-YEEZY OUTFITShttp/style/1339-kim-kardashian-yeezy-outfits/\\xa0…\\\\n\\\\nMe & my mini me!  .twitter.com/GY4QvP4lwB\\\\n\\\\nSo ready for Saint Pablo tonight at MSG\\\\n\\\\nWired  Mert & Marcus\\\\n\\\\nLove finding pics like this in my phone! Shout out to Steph for taking it \\\\n\\\\nI so want to post my Beauty Bloggers show presentation for you guys! I\\'m so extra hype about this! Gonna ask Lifetime if I can.\\\\n\\\\nMy sweet baby girl \\\\n\\\\nDiet peach Snapple is my everything! Go figure I would love the peach  http/chrissyteigen/status/772153374506483713\\xa0…\\\\n\\\\nI  my family\\\\n\\\\nKourtney looks amazing!!    .twitter.com/U7MTd4m04s\\\\n\\\\nShe designed her own dress today in her dad\\'s office & is picking out fabrics tomorrow! She loves fashion!!!http/fashionista_com/status/770739141600505856\\xa0…\\\\n\\\\nYOU REALLY SHOULD… STEAL NORTH’S STYLEhttp/style/1264-kim-kardashian-style-inspiration-north-west/\\xa0…\\\\n\\\\nDate night\\\\n\\\\nSo happy I got to introduce my friend   last night! I\\'m obsessed with  . Go get the album! Let\\'s  \\\\n\\\\nWet beachy glam last night  .twitter.com/AkiEcmukez\\\\n\\\\nVintage Galliano & Kanye West x Jacob the Jeweler\\'s new collection for the VMA\\'s\\\\n\\\\nLet\\'s just go to the gym together! LOL I love you!!!! - /teyanataylor/status/770288621454815232\\xa0…\\\\n\\\\nI\\'m so happy we met!!! Can\\'t wait to see you soon!http/simone_biles/status/770118544294043649\\xa0…\\\\n\\\\nYou guys!!!   has the best body ever!!! Like no joke and just had a baby!!!! \\\\n\\\\nOk just woke up & watched the Fade video again for my Monday morning gym motivation. Thank you   \\\\n\\\\nMUSIC MONDAY: MY FAVE KANYE SONGShttp/obsessed/1308-kim-kardashian-favorite-kanye-songs/\\xa0…\\\\n\\\\nWhat color hair should I do for the ????\\\\n\\\\nOK I will take a poll, what should I wear tonight?\\\\n\\\\nI am obsessed with my husband, but its not him  \\\\n\\\\nAnd I see you guys guessing on who I am presenting....A little hint, it\\'s someone i am obsessed with!!!! LIKE OBSESSED!!!!!  \\\\n\\\\nFamous Exhibit at Blum & Poe Art Gallery\\\\n\\\\nI think Uber reached out to Kendall and fixed the issue!http/wannabelikekim/status/769653376393043968\\xa0…\\\\n\\\\n6 DAYS, 6 WAYS: OUR YEEZY BOOST 350 SNEAKERShttp/style/1311-kim-kardashian-sisters-yeezy-boosts/\\xa0…\\\\n\\\\nUgh I have to drive   around tonight bc she\\'s banned from Uber! Why  ?!?! She\\'s a \"model\" passenger!!!!!\\\\n\\\\nHeading to a secret art gallery location to view Kanye\\'s Famous Exhibition!!!!\\\\n\\\\nI\\'m watching these beauty blogger audition tapes for my new show!!!! So many amazing people to choose from. This is going to be so much fun!\\\\n\\\\nLost files from Mexico\\\\n\\\\nBTS AT KANYE’S ‘FAMOUS’ VIDEO SCREENINGhttp/behind-the-scenes/1298-kim-kardashian-kanye-famous-video-bts-photos/\\xa0…\\\\n\\\\nSign up now!! htt\\xa0\\\\n\\\\nI\\'m up so early. Do I workout or try to go back to sleep?\\\\n\\\\nhtt\\xa0 for tickets Oct 14! Our 1st sponsor is KYLIE COSMETICS! So everyone will get a free lip kit!\\\\n\\\\nGLOW\\\\n\\\\nExcited to be partnering with   to share their amazing hair vitamins with you! So delish!   .twitter.com/6ALBSzpZub\\\\n\\\\nSelfish in Mexico\\\\n\\\\nWerk   !!!!!  .twitter.com/ThEBjva1zr\\\\n\\\\n5 DAYS, 5 WAYS: MY YEEZY BOOTShttp/style/1281-kim-kardashian-yeezy-boots/\\xa0…\\\\n\\\\nNot much time left to get he Kimoji bike shorts, body suits and sweat shirts!!!!\\\\n\\\\nOnly a few hours left for new  !!! htt\\xa0\\\\n\\\\n  starts now!!!!\\\\n\\\\nLast day to get the Kimoji Merch!!!! Bike shorts, bodysuits & sweatshirts! htt\\xa0\\\\n\\\\nHOW TO WEAR OLYMPIC GOLD METALShttp/beauty/1276-kim-kardashian-olympic-gold/\\xa0…'"
      ]
     },
     "execution_count": 144,
     "metadata": {},
     "output_type": "execute_result"
    }
   ],
   "source": [
    "text"
   ]
  },
  {
   "cell_type": "code",
   "execution_count": 145,
   "metadata": {},
   "outputs": [
    {
     "name": "stdout",
     "output_type": "stream",
     "text": [
      "Unique chars: 81\n"
     ]
    }
   ],
   "source": [
    "characters = sorted(list(set(text)))\n",
    "n_to_char = {n:char for n, char in enumerate(characters)}\n",
    "char_to_n = {char:n for n, char in enumerate(characters)}\n",
    "\n",
    "print('Unique chars: {}'.format(len(characters)))"
   ]
  },
  {
   "cell_type": "code",
   "execution_count": 146,
   "metadata": {},
   "outputs": [
    {
     "name": "stdout",
     "output_type": "stream",
     "text": [
      "[' ', '!', '\"', '&', \"'\", ')', ',', '-', '.', '/', '0', '1', '2', '3', '4', '5', '6', '7', '8', '9', ':', ';', '?', 'A', 'B', 'C', 'D', 'E', 'F', 'G', 'H', 'I', 'J', 'K', 'L', 'M', 'N', 'O', 'P', 'Q', 'R', 'S', 'T', 'U', 'V', 'W', 'Y', 'Z', '\\\\', '_', 'a', 'b', 'c', 'd', 'e', 'f', 'g', 'h', 'i', 'j', 'k', 'l', 'm', 'n', 'o', 'p', 'q', 'r', 's', 't', 'u', 'v', 'w', 'x', 'y', 'z', '\\xa0', 'é', '‘', '’', '…']\n"
     ]
    }
   ],
   "source": [
    "print(characters)"
   ]
  },
  {
   "cell_type": "code",
   "execution_count": null,
   "metadata": {},
   "outputs": [],
   "source": []
  },
  {
   "cell_type": "code",
   "execution_count": 147,
   "metadata": {},
   "outputs": [],
   "source": [
    "X = []\n",
    "Y = []\n",
    "length = len(text)\n",
    "seq_length = 100\n",
    "for i in range(0, length-seq_length, 1):\n",
    "    sequence = text[i:i + seq_length]\n",
    "    label =text[i + seq_length]\n",
    "    X.append([char_to_n[char] for char in sequence])\n",
    "    Y.append(char_to_n[label])"
   ]
  },
  {
   "cell_type": "code",
   "execution_count": 148,
   "metadata": {},
   "outputs": [],
   "source": [
    "X_modified = np.reshape(X, (len(X), seq_length, 1))\n",
    "X_modified = X_modified / float(len(characters))\n",
    "Y_modified = np_utils.to_categorical(Y)"
   ]
  },
  {
   "cell_type": "code",
   "execution_count": 149,
   "metadata": {},
   "outputs": [
    {
     "name": "stdout",
     "output_type": "stream",
     "text": [
      "WARNING:tensorflow:From /home/alberto/anaconda3/lib/python3.7/site-packages/tensorflow/python/ops/resource_variable_ops.py:435: colocate_with (from tensorflow.python.framework.ops) is deprecated and will be removed in a future version.\n",
      "Instructions for updating:\n",
      "Colocations handled automatically by placer.\n",
      "Model: \"sequential_3\"\n",
      "_________________________________________________________________\n",
      "Layer (type)                 Output Shape              Param #   \n",
      "=================================================================\n",
      "lstm_1 (LSTM)                (None, 100, 700)          1965600   \n",
      "_________________________________________________________________\n",
      "dropout_1 (Dropout)          (None, 100, 700)          0         \n",
      "_________________________________________________________________\n",
      "lstm_2 (LSTM)                (None, 700)               3922800   \n",
      "_________________________________________________________________\n",
      "dropout_2 (Dropout)          (None, 700)               0         \n",
      "_________________________________________________________________\n",
      "dense_1 (Dense)              (None, 81)                56781     \n",
      "=================================================================\n",
      "Total params: 5,945,181\n",
      "Trainable params: 5,945,181\n",
      "Non-trainable params: 0\n",
      "_________________________________________________________________\n"
     ]
    }
   ],
   "source": [
    "# Model 4\n",
    "model_4 = Sequential()\n",
    "model_4.add(LSTM(700, input_shape=(X_modified.shape[1], X_modified.shape[2]), return_sequences=True))\n",
    "model_4.add(Dropout(0.2))\n",
    "model_4.add(LSTM(700))\n",
    "model_4.add(Dropout(0.2))\n",
    "model_4.add(Dense(Y_modified.shape[1], activation='softmax'))\n",
    "model_4.compile(loss='categorical_crossentropy', optimizer='adam')\n",
    "\n",
    "model_4.summary()"
   ]
  },
  {
   "cell_type": "code",
   "execution_count": 153,
   "metadata": {},
   "outputs": [
    {
     "name": "stdout",
     "output_type": "stream",
     "text": [
      "WARNING:tensorflow:From /home/alberto/anaconda3/lib/python3.7/site-packages/tensorflow/python/ops/math_ops.py:3066: to_int32 (from tensorflow.python.ops.math_ops) is deprecated and will be removed in a future version.\n",
      "Instructions for updating:\n",
      "Use tf.cast instead.\n",
      "Train on 6550 samples, validate on 345 samples\n",
      "Epoch 1/20\n",
      " 512/6550 [=>............................] - ETA: 3:19 - loss: 4.2963"
     ]
    },
    {
     "ename": "KeyboardInterrupt",
     "evalue": "",
     "output_type": "error",
     "traceback": [
      "\u001b[0;31m---------------------------------------------------------------------------\u001b[0m",
      "\u001b[0;31mKeyboardInterrupt\u001b[0m                         Traceback (most recent call last)",
      "\u001b[0;32m<ipython-input-153-f961b90de75b>\u001b[0m in \u001b[0;36m<module>\u001b[0;34m\u001b[0m\n\u001b[0;32m----> 1\u001b[0;31m \u001b[0mhistory\u001b[0m \u001b[0;34m=\u001b[0m \u001b[0mmodel_4\u001b[0m\u001b[0;34m.\u001b[0m\u001b[0mfit\u001b[0m\u001b[0;34m(\u001b[0m\u001b[0mX_modified\u001b[0m\u001b[0;34m,\u001b[0m \u001b[0mY_modified\u001b[0m\u001b[0;34m,\u001b[0m \u001b[0mvalidation_split\u001b[0m\u001b[0;34m=\u001b[0m\u001b[0;36m0.05\u001b[0m\u001b[0;34m,\u001b[0m \u001b[0mbatch_size\u001b[0m\u001b[0;34m=\u001b[0m\u001b[0;36m128\u001b[0m\u001b[0;34m,\u001b[0m \u001b[0mepochs\u001b[0m\u001b[0;34m=\u001b[0m\u001b[0;36m20\u001b[0m\u001b[0;34m,\u001b[0m \u001b[0mshuffle\u001b[0m\u001b[0;34m=\u001b[0m\u001b[0;32mTrue\u001b[0m\u001b[0;34m)\u001b[0m\u001b[0;34m.\u001b[0m\u001b[0mhistory\u001b[0m\u001b[0;34m\u001b[0m\u001b[0;34m\u001b[0m\u001b[0m\n\u001b[0m",
      "\u001b[0;32m~/anaconda3/lib/python3.7/site-packages/keras/engine/training.py\u001b[0m in \u001b[0;36mfit\u001b[0;34m(self, x, y, batch_size, epochs, verbose, callbacks, validation_split, validation_data, shuffle, class_weight, sample_weight, initial_epoch, steps_per_epoch, validation_steps, validation_freq, max_queue_size, workers, use_multiprocessing, **kwargs)\u001b[0m\n\u001b[1;32m   1237\u001b[0m                                         \u001b[0msteps_per_epoch\u001b[0m\u001b[0;34m=\u001b[0m\u001b[0msteps_per_epoch\u001b[0m\u001b[0;34m,\u001b[0m\u001b[0;34m\u001b[0m\u001b[0;34m\u001b[0m\u001b[0m\n\u001b[1;32m   1238\u001b[0m                                         \u001b[0mvalidation_steps\u001b[0m\u001b[0;34m=\u001b[0m\u001b[0mvalidation_steps\u001b[0m\u001b[0;34m,\u001b[0m\u001b[0;34m\u001b[0m\u001b[0;34m\u001b[0m\u001b[0m\n\u001b[0;32m-> 1239\u001b[0;31m                                         validation_freq=validation_freq)\n\u001b[0m\u001b[1;32m   1240\u001b[0m \u001b[0;34m\u001b[0m\u001b[0m\n\u001b[1;32m   1241\u001b[0m     def evaluate(self,\n",
      "\u001b[0;32m~/anaconda3/lib/python3.7/site-packages/keras/engine/training_arrays.py\u001b[0m in \u001b[0;36mfit_loop\u001b[0;34m(model, fit_function, fit_inputs, out_labels, batch_size, epochs, verbose, callbacks, val_function, val_inputs, shuffle, initial_epoch, steps_per_epoch, validation_steps, validation_freq)\u001b[0m\n\u001b[1;32m    194\u001b[0m                     \u001b[0mins_batch\u001b[0m\u001b[0;34m[\u001b[0m\u001b[0mi\u001b[0m\u001b[0;34m]\u001b[0m \u001b[0;34m=\u001b[0m \u001b[0mins_batch\u001b[0m\u001b[0;34m[\u001b[0m\u001b[0mi\u001b[0m\u001b[0;34m]\u001b[0m\u001b[0;34m.\u001b[0m\u001b[0mtoarray\u001b[0m\u001b[0;34m(\u001b[0m\u001b[0;34m)\u001b[0m\u001b[0;34m\u001b[0m\u001b[0;34m\u001b[0m\u001b[0m\n\u001b[1;32m    195\u001b[0m \u001b[0;34m\u001b[0m\u001b[0m\n\u001b[0;32m--> 196\u001b[0;31m                 \u001b[0mouts\u001b[0m \u001b[0;34m=\u001b[0m \u001b[0mfit_function\u001b[0m\u001b[0;34m(\u001b[0m\u001b[0mins_batch\u001b[0m\u001b[0;34m)\u001b[0m\u001b[0;34m\u001b[0m\u001b[0;34m\u001b[0m\u001b[0m\n\u001b[0m\u001b[1;32m    197\u001b[0m                 \u001b[0mouts\u001b[0m \u001b[0;34m=\u001b[0m \u001b[0mto_list\u001b[0m\u001b[0;34m(\u001b[0m\u001b[0mouts\u001b[0m\u001b[0;34m)\u001b[0m\u001b[0;34m\u001b[0m\u001b[0;34m\u001b[0m\u001b[0m\n\u001b[1;32m    198\u001b[0m                 \u001b[0;32mfor\u001b[0m \u001b[0ml\u001b[0m\u001b[0;34m,\u001b[0m \u001b[0mo\u001b[0m \u001b[0;32min\u001b[0m \u001b[0mzip\u001b[0m\u001b[0;34m(\u001b[0m\u001b[0mout_labels\u001b[0m\u001b[0;34m,\u001b[0m \u001b[0mouts\u001b[0m\u001b[0;34m)\u001b[0m\u001b[0;34m:\u001b[0m\u001b[0;34m\u001b[0m\u001b[0;34m\u001b[0m\u001b[0m\n",
      "\u001b[0;32m~/anaconda3/lib/python3.7/site-packages/tensorflow/python/keras/backend.py\u001b[0m in \u001b[0;36m__call__\u001b[0;34m(self, inputs)\u001b[0m\n\u001b[1;32m   3074\u001b[0m \u001b[0;34m\u001b[0m\u001b[0m\n\u001b[1;32m   3075\u001b[0m     fetched = self._callable_fn(*array_vals,\n\u001b[0;32m-> 3076\u001b[0;31m                                 run_metadata=self.run_metadata)\n\u001b[0m\u001b[1;32m   3077\u001b[0m     \u001b[0mself\u001b[0m\u001b[0;34m.\u001b[0m\u001b[0m_call_fetch_callbacks\u001b[0m\u001b[0;34m(\u001b[0m\u001b[0mfetched\u001b[0m\u001b[0;34m[\u001b[0m\u001b[0;34m-\u001b[0m\u001b[0mlen\u001b[0m\u001b[0;34m(\u001b[0m\u001b[0mself\u001b[0m\u001b[0;34m.\u001b[0m\u001b[0m_fetches\u001b[0m\u001b[0;34m)\u001b[0m\u001b[0;34m:\u001b[0m\u001b[0;34m]\u001b[0m\u001b[0;34m)\u001b[0m\u001b[0;34m\u001b[0m\u001b[0;34m\u001b[0m\u001b[0m\n\u001b[1;32m   3078\u001b[0m     return nest.pack_sequence_as(self._outputs_structure,\n",
      "\u001b[0;32m~/anaconda3/lib/python3.7/site-packages/tensorflow/python/client/session.py\u001b[0m in \u001b[0;36m__call__\u001b[0;34m(self, *args, **kwargs)\u001b[0m\n\u001b[1;32m   1437\u001b[0m           ret = tf_session.TF_SessionRunCallable(\n\u001b[1;32m   1438\u001b[0m               \u001b[0mself\u001b[0m\u001b[0;34m.\u001b[0m\u001b[0m_session\u001b[0m\u001b[0;34m.\u001b[0m\u001b[0m_session\u001b[0m\u001b[0;34m,\u001b[0m \u001b[0mself\u001b[0m\u001b[0;34m.\u001b[0m\u001b[0m_handle\u001b[0m\u001b[0;34m,\u001b[0m \u001b[0margs\u001b[0m\u001b[0;34m,\u001b[0m \u001b[0mstatus\u001b[0m\u001b[0;34m,\u001b[0m\u001b[0;34m\u001b[0m\u001b[0;34m\u001b[0m\u001b[0m\n\u001b[0;32m-> 1439\u001b[0;31m               run_metadata_ptr)\n\u001b[0m\u001b[1;32m   1440\u001b[0m         \u001b[0;32mif\u001b[0m \u001b[0mrun_metadata\u001b[0m\u001b[0;34m:\u001b[0m\u001b[0;34m\u001b[0m\u001b[0;34m\u001b[0m\u001b[0m\n\u001b[1;32m   1441\u001b[0m           \u001b[0mproto_data\u001b[0m \u001b[0;34m=\u001b[0m \u001b[0mtf_session\u001b[0m\u001b[0;34m.\u001b[0m\u001b[0mTF_GetBuffer\u001b[0m\u001b[0;34m(\u001b[0m\u001b[0mrun_metadata_ptr\u001b[0m\u001b[0;34m)\u001b[0m\u001b[0;34m\u001b[0m\u001b[0;34m\u001b[0m\u001b[0m\n",
      "\u001b[0;31mKeyboardInterrupt\u001b[0m: "
     ]
    }
   ],
   "source": [
    "history = model_4.fit(X_modified, Y_modified, validation_split=0.05, batch_size=128, epochs=20, shuffle=True).history"
   ]
  },
  {
   "cell_type": "code",
   "execution_count": null,
   "metadata": {},
   "outputs": [],
   "source": []
  }
 ],
 "metadata": {
  "kernelspec": {
   "display_name": "Python 3",
   "language": "python",
   "name": "python3"
  },
  "language_info": {
   "codemirror_mode": {
    "name": "ipython",
    "version": 3
   },
   "file_extension": ".py",
   "mimetype": "text/x-python",
   "name": "python",
   "nbconvert_exporter": "python",
   "pygments_lexer": "ipython3",
   "version": "3.7.6"
  }
 },
 "nbformat": 4,
 "nbformat_minor": 4
}
