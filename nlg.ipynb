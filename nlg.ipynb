{
 "cells": [
  {
   "cell_type": "markdown",
   "metadata": {
    "colab_type": "text",
    "id": "6KhuSEkcomzC"
   },
   "source": [
    "### 3. Generación de Lenguaje Natural\n",
    "Implementación de un modelo de generación de lenguaje utilizando algún dataset de los propuestos de Twitter.\n",
    "\n",
    "El objetivo es el de simular la creación de un bot que escriba tweets de manera similar al del autor utilizado para el entrenamiento.\n",
    "\n",
    "Se valorará principalmente la argumentación de los pasos realizados y las conclusiones al analizar los resultados y limitaciones encontradas.\n",
    "\n",
    "Esta práctica se ha realizado en colab por lo que hay algunas celdas que no funcionaran el jupyeter o algunas rutas que no se corresponden una estructura de un sistema normal\n"
   ]
  },
  {
   "cell_type": "code",
   "execution_count": 1,
   "metadata": {
    "colab": {
     "base_uri": "https://localhost:8080/",
     "height": 34
    },
    "colab_type": "code",
    "id": "Sigzrp4domzQ",
    "outputId": "c96d75fe-8bd7-44cc-a014-d7888586d6ed"
   },
   "outputs": [
    {
     "name": "stderr",
     "output_type": "stream",
     "text": [
      "Using TensorFlow backend.\n"
     ]
    }
   ],
   "source": [
    "# Importamos a lo que vayamos a necesitar\n",
    "\n",
    "import numpy as np\n",
    "import pandas as pd\n",
    "import re\n",
    "import random\n",
    "from copy import deepcopy\n",
    "import matplotlib.pyplot as plt\n",
    "from matplotlib import cm\n",
    "\n",
    "from keras.models import Sequential\n",
    "from keras.layers import Dense\n",
    "from keras.layers import Dropout\n",
    "from keras.layers import LSTM\n",
    "from keras.utils import np_utils"
   ]
  },
  {
   "cell_type": "code",
   "execution_count": 2,
   "metadata": {
    "colab": {
     "base_uri": "https://localhost:8080/",
     "height": 122
    },
    "colab_type": "code",
    "id": "1d066Ua1pdwx",
    "outputId": "bfa0a87b-793f-4d6e-8dd2-155f873bd543"
   },
   "outputs": [
    {
     "name": "stdout",
     "output_type": "stream",
     "text": [
      "Go to this URL in a browser: https://accounts.google.com/o/oauth2/auth?client_id=947318989803-6bn6qk8qdgf4n4g3pfee6491hc0brc4i.apps.googleusercontent.com&redirect_uri=urn%3aietf%3awg%3aoauth%3a2.0%3aoob&response_type=code&scope=email%20https%3a%2f%2fwww.googleapis.com%2fauth%2fdocs.test%20https%3a%2f%2fwww.googleapis.com%2fauth%2fdrive%20https%3a%2f%2fwww.googleapis.com%2fauth%2fdrive.photos.readonly%20https%3a%2f%2fwww.googleapis.com%2fauth%2fpeopleapi.readonly\n",
      "\n",
      "Enter your authorization code:\n",
      "··········\n",
      "Mounted at /content/drive\n"
     ]
    }
   ],
   "source": [
    "#  connectamos con drive\n",
    "# from google.colab import drive\n",
    "# drive.mount('/content/drive')"
   ]
  },
  {
   "cell_type": "markdown",
   "metadata": {
    "colab_type": "text",
    "id": "TJESdQ05omzX"
   },
   "source": [
    "### Cargamos los datos"
   ]
  },
  {
   "cell_type": "code",
   "execution_count": 3,
   "metadata": {
    "colab": {},
    "colab_type": "code",
    "id": "cGHTWiwsomzX"
   },
   "outputs": [],
   "source": [
    "# data = pd.read_csv('/content/drive/My Drive/Colab Notebooks/NLP/KimKardashianTweets.csv')\n",
    "data = pd.read_csv('./datasets/KimKardashianTweets.csv')"
   ]
  },
  {
   "cell_type": "code",
   "execution_count": 4,
   "metadata": {
    "colab": {
     "base_uri": "https://localhost:8080/",
     "height": 204
    },
    "colab_type": "code",
    "id": "g9KVMKUDomzZ",
    "outputId": "975fab2c-4d72-4156-f950-4f4efdc60828"
   },
   "outputs": [
    {
     "data": {
      "text/html": [
       "<div>\n",
       "<style scoped>\n",
       "    .dataframe tbody tr th:only-of-type {\n",
       "        vertical-align: middle;\n",
       "    }\n",
       "\n",
       "    .dataframe tbody tr th {\n",
       "        vertical-align: top;\n",
       "    }\n",
       "\n",
       "    .dataframe thead th {\n",
       "        text-align: right;\n",
       "    }\n",
       "</style>\n",
       "<table border=\"1\" class=\"dataframe\">\n",
       "  <thead>\n",
       "    <tr style=\"text-align: right;\">\n",
       "      <th></th>\n",
       "      <th>Unnamed: 0</th>\n",
       "      <th>date</th>\n",
       "      <th>id</th>\n",
       "      <th>link</th>\n",
       "      <th>retweet</th>\n",
       "      <th>text</th>\n",
       "      <th>author</th>\n",
       "    </tr>\n",
       "  </thead>\n",
       "  <tbody>\n",
       "    <tr>\n",
       "      <th>0</th>\n",
       "      <td>0</td>\n",
       "      <td>Oct 2</td>\n",
       "      <td>782694393216110592</td>\n",
       "      <td>/KimKardashian/status/782694393216110592</td>\n",
       "      <td>False</td>\n",
       "      <td>Hey guys! Meet my #KimKardashianGame character...</td>\n",
       "      <td>KimKardashian</td>\n",
       "    </tr>\n",
       "    <tr>\n",
       "      <th>1</th>\n",
       "      <td>1</td>\n",
       "      <td>Oct 2</td>\n",
       "      <td>782632831780618240</td>\n",
       "      <td>/KimKardashian/status/782632831780618240</td>\n",
       "      <td>False</td>\n",
       "      <td>This guy is always in my shot!pic.twitter.com/...</td>\n",
       "      <td>KimKardashian</td>\n",
       "    </tr>\n",
       "    <tr>\n",
       "      <th>2</th>\n",
       "      <td>2</td>\n",
       "      <td>Oct 2</td>\n",
       "      <td>782559825205071872</td>\n",
       "      <td>/KimKardashian/status/782559825205071872</td>\n",
       "      <td>False</td>\n",
       "      <td>Balenciaga. No make up today.pic.twitter.com/l...</td>\n",
       "      <td>KimKardashian</td>\n",
       "    </tr>\n",
       "    <tr>\n",
       "      <th>3</th>\n",
       "      <td>3</td>\n",
       "      <td>Oct 1</td>\n",
       "      <td>782260907900567552</td>\n",
       "      <td>/KimKardashian/status/782260907900567552</td>\n",
       "      <td>False</td>\n",
       "      <td>Kourtney and Kim Take Parispic.twitter.com/VXw...</td>\n",
       "      <td>KimKardashian</td>\n",
       "    </tr>\n",
       "    <tr>\n",
       "      <th>4</th>\n",
       "      <td>4</td>\n",
       "      <td>Oct 1</td>\n",
       "      <td>782259209459101696</td>\n",
       "      <td>/KimKardashian/status/782259209459101697</td>\n",
       "      <td>False</td>\n",
       "      <td>GIVENCHY COUTUREpic.twitter.com/jHxTIuHzzo</td>\n",
       "      <td>KimKardashian</td>\n",
       "    </tr>\n",
       "  </tbody>\n",
       "</table>\n",
       "</div>"
      ],
      "text/plain": [
       "   Unnamed: 0  ...         author\n",
       "0           0  ...  KimKardashian\n",
       "1           1  ...  KimKardashian\n",
       "2           2  ...  KimKardashian\n",
       "3           3  ...  KimKardashian\n",
       "4           4  ...  KimKardashian\n",
       "\n",
       "[5 rows x 7 columns]"
      ]
     },
     "execution_count": 4,
     "metadata": {
      "tags": []
     },
     "output_type": "execute_result"
    }
   ],
   "source": [
    "data.head()"
   ]
  },
  {
   "cell_type": "code",
   "execution_count": 5,
   "metadata": {
    "colab": {},
    "colab_type": "code",
    "id": "qrnHMWT_omzc"
   },
   "outputs": [],
   "source": [
    "data = data[['retweet', 'text', 'author']]"
   ]
  },
  {
   "cell_type": "code",
   "execution_count": 6,
   "metadata": {
    "colab": {
     "base_uri": "https://localhost:8080/",
     "height": 204
    },
    "colab_type": "code",
    "id": "r_arLauoomze",
    "outputId": "546d8f13-16f9-4a00-cd33-ce3db8fabf01"
   },
   "outputs": [
    {
     "data": {
      "text/html": [
       "<div>\n",
       "<style scoped>\n",
       "    .dataframe tbody tr th:only-of-type {\n",
       "        vertical-align: middle;\n",
       "    }\n",
       "\n",
       "    .dataframe tbody tr th {\n",
       "        vertical-align: top;\n",
       "    }\n",
       "\n",
       "    .dataframe thead th {\n",
       "        text-align: right;\n",
       "    }\n",
       "</style>\n",
       "<table border=\"1\" class=\"dataframe\">\n",
       "  <thead>\n",
       "    <tr style=\"text-align: right;\">\n",
       "      <th></th>\n",
       "      <th>retweet</th>\n",
       "      <th>text</th>\n",
       "      <th>author</th>\n",
       "    </tr>\n",
       "  </thead>\n",
       "  <tbody>\n",
       "    <tr>\n",
       "      <th>0</th>\n",
       "      <td>False</td>\n",
       "      <td>Hey guys! Meet my #KimKardashianGame character...</td>\n",
       "      <td>KimKardashian</td>\n",
       "    </tr>\n",
       "    <tr>\n",
       "      <th>1</th>\n",
       "      <td>False</td>\n",
       "      <td>This guy is always in my shot!pic.twitter.com/...</td>\n",
       "      <td>KimKardashian</td>\n",
       "    </tr>\n",
       "    <tr>\n",
       "      <th>2</th>\n",
       "      <td>False</td>\n",
       "      <td>Balenciaga. No make up today.pic.twitter.com/l...</td>\n",
       "      <td>KimKardashian</td>\n",
       "    </tr>\n",
       "    <tr>\n",
       "      <th>3</th>\n",
       "      <td>False</td>\n",
       "      <td>Kourtney and Kim Take Parispic.twitter.com/VXw...</td>\n",
       "      <td>KimKardashian</td>\n",
       "    </tr>\n",
       "    <tr>\n",
       "      <th>4</th>\n",
       "      <td>False</td>\n",
       "      <td>GIVENCHY COUTUREpic.twitter.com/jHxTIuHzzo</td>\n",
       "      <td>KimKardashian</td>\n",
       "    </tr>\n",
       "  </tbody>\n",
       "</table>\n",
       "</div>"
      ],
      "text/plain": [
       "   retweet                                               text         author\n",
       "0    False  Hey guys! Meet my #KimKardashianGame character...  KimKardashian\n",
       "1    False  This guy is always in my shot!pic.twitter.com/...  KimKardashian\n",
       "2    False  Balenciaga. No make up today.pic.twitter.com/l...  KimKardashian\n",
       "3    False  Kourtney and Kim Take Parispic.twitter.com/VXw...  KimKardashian\n",
       "4    False         GIVENCHY COUTUREpic.twitter.com/jHxTIuHzzo  KimKardashian"
      ]
     },
     "execution_count": 6,
     "metadata": {
      "tags": []
     },
     "output_type": "execute_result"
    }
   ],
   "source": [
    "data.head()"
   ]
  },
  {
   "cell_type": "markdown",
   "metadata": {
    "colab_type": "text",
    "id": "ji9-C9eTomzm"
   },
   "source": [
    "### Preprocesado"
   ]
  },
  {
   "cell_type": "code",
   "execution_count": 58,
   "metadata": {
    "colab": {},
    "colab_type": "code",
    "id": "QrPRj9tnomzo"
   },
   "outputs": [],
   "source": [
    "# Definimos unas regex que emplearemos para eliminar los siguientes campos:\n",
    "#  - Usuarios/Menciones\n",
    "#  - Hashtag\n",
    "#  - Urls\n",
    "#  - Imagenes\n",
    "\n",
    "user_regex = re.compile('@\\w+| @\\w+ ')\n",
    "hashtag_regex = re.compile('#\\w+| #\\w+ ')\n",
    "url_regex = re.compile('http[s]?://(?:[a-zA-Z]|[0-9]|[$-_@.&+]|[!*\\(\\),]|(?:%[0-9a-fA-F][0-9a-fA-F]))+')\n",
    "pics_regex = re.compile('pic?.\\w+.\\w+\\/\\w+')\n",
    "\n",
    "rt_regex = re.compile('RT| RT ')"
   ]
  },
  {
   "cell_type": "code",
   "execution_count": 59,
   "metadata": {
    "colab": {},
    "colab_type": "code",
    "id": "otoDCyVDomzx"
   },
   "outputs": [],
   "source": [
    "users = []\n",
    "hashtags = []\n",
    "urls = []\n",
    "pics = []\n",
    "\n",
    "\n",
    "texts = []\n",
    "for text in data['text']:\n",
    "    \n",
    "    users.extend([it.strip()for it in user_regex.findall(text)])\n",
    "    hashtags.extend([it.strip()for it in hashtag_regex.findall(text)])\n",
    "    urls.extend([it.strip()for it in url_regex.findall(text)])\n",
    "    pics.extend([it.strip()for it in pics_regex.findall(text)])\n",
    "    \n",
    "    aux = text\n",
    "    aux = re.sub(pics_regex, '', aux)\n",
    "    aux = re.sub(url_regex, '', aux) \n",
    "    aux = re.sub(user_regex.pattern, ' ', aux)\n",
    "    aux = re.sub(hashtag_regex.pattern, ' ', aux)\n",
    "    aux = re.sub(rt_regex.pattern, '', aux)\n",
    "\n",
    "    aux = aux.replace(u'\\xa0', u' ')\n",
    "\n",
    "    aux = re.sub('-|=|<|>', '', aux)\n",
    "    \n",
    "    aux = aux.strip()\n",
    "\n",
    "    texts.append(aux)"
   ]
  },
  {
   "cell_type": "code",
   "execution_count": 62,
   "metadata": {
    "colab": {
     "base_uri": "https://localhost:8080/",
     "height": 34
    },
    "colab_type": "code",
    "id": "BoyHs6mQSpPK",
    "outputId": "94c1fa9b-03a5-4570-bd05-09dbcf5b072a"
   },
   "outputs": [
    {
     "data": {
      "text/plain": [
       "10688"
      ]
     },
     "execution_count": 62,
     "metadata": {
      "tags": []
     },
     "output_type": "execute_result"
    }
   ],
   "source": [
    "# Vemos como se ha quedado nuestro texto procesado\n",
    "len(texts)"
   ]
  },
  {
   "cell_type": "code",
   "execution_count": 63,
   "metadata": {
    "colab": {},
    "colab_type": "code",
    "id": "5UOuDMFlomz1"
   },
   "outputs": [],
   "source": [
    "# Combinamos los textos en una unica lista\n",
    "text = r' '.join(texts)"
   ]
  },
  {
   "cell_type": "code",
   "execution_count": 64,
   "metadata": {
    "colab": {
     "base_uri": "https://localhost:8080/",
     "height": 34
    },
    "colab_type": "code",
    "id": "Y4iUToYvomz5",
    "outputId": "6a32f977-e400-452c-9c0b-9a701f165d7c"
   },
   "outputs": [
    {
     "name": "stdout",
     "output_type": "stream",
     "text": [
      "Unique chars: 118\n"
     ]
    }
   ],
   "source": [
    "#  Sacamos los caracteres que componen nuestro corpus\n",
    "characters = sorted(list(set(text)))\n",
    "n_to_char = {n:char for n, char in enumerate(characters)}\n",
    "char_to_n = {char:n for n, char in enumerate(characters)}\n",
    "\n",
    "print('Unique chars: {}'.format(len(characters)))"
   ]
  },
  {
   "cell_type": "code",
   "execution_count": 65,
   "metadata": {
    "colab": {
     "base_uri": "https://localhost:8080/",
     "height": 54
    },
    "colab_type": "code",
    "id": "46EU5l01omz7",
    "outputId": "39618cc6-b916-48dc-de61-30e9ebf4bc63"
   },
   "outputs": [
    {
     "name": "stdout",
     "output_type": "stream",
     "text": [
      "['\\t', '\\n', ' ', '!', '\"', '#', '$', '%', '&', \"'\", '(', ')', '*', '+', ',', '.', '/', '0', '1', '2', '3', '4', '5', '6', '7', '8', '9', ':', ';', '?', '@', 'A', 'B', 'C', 'D', 'E', 'F', 'G', 'H', 'I', 'J', 'K', 'L', 'M', 'N', 'O', 'P', 'Q', 'R', 'S', 'T', 'U', 'V', 'W', 'X', 'Y', 'Z', '[', ']', '_', 'a', 'b', 'c', 'd', 'e', 'f', 'g', 'h', 'i', 'j', 'k', 'l', 'm', 'n', 'o', 'p', 'q', 'r', 's', 't', 'u', 'v', 'w', 'x', 'y', 'z', '{', '|', '}', '~', '\\xad', '´', '¹', 'É', 'á', 'ã', 'é', 'ô', '\\u200b', '\\u200e', '\\u200f', '–', '—', '‘', '’', '“', '”', '•', '…', '™', '♡', '♫', '\\ue411', '\\ue6b7', '\\ue6b9', '\\ue6e2', '\\ue6e3', '\\ue6eb']\n"
     ]
    }
   ],
   "source": [
    "print(characters)"
   ]
  },
  {
   "cell_type": "markdown",
   "metadata": {
    "colab_type": "text",
    "id": "eWqyLjV32tXO"
   },
   "source": [
    "###'Traducimos' nuestros datos a numero"
   ]
  },
  {
   "cell_type": "code",
   "execution_count": 66,
   "metadata": {
    "colab": {},
    "colab_type": "code",
    "id": "LA2qKz8r283C"
   },
   "outputs": [],
   "source": [
    "# Definimos las constantes\n",
    "window = 10\n",
    "\n",
    "text = ' '.join(texts)"
   ]
  },
  {
   "cell_type": "code",
   "execution_count": 67,
   "metadata": {
    "colab": {},
    "colab_type": "code",
    "id": "lTCJgklbomz_"
   },
   "outputs": [],
   "source": [
    "def text_conversion(text, ctn_dict, window=5, step=1):\n",
    "\n",
    "    l = len(text) - window\n",
    "\n",
    "    X = np.ndarray(shape=(l, window), dtype=int)\n",
    "    \n",
    "    Y = np.zeros(l, dtype=int)\n",
    "    \n",
    "    for i in range(0, l, step):\n",
    "        sequence = text[i: i + window]\n",
    "        label = text[i + window]\n",
    "        \n",
    "        X[i] =  np.asarray([ctn_dict[c] for c in sequence])\n",
    "        Y[i] = ctn_dict[label]\n",
    "        \n",
    "    return X,Y"
   ]
  },
  {
   "cell_type": "code",
   "execution_count": 68,
   "metadata": {
    "colab": {},
    "colab_type": "code",
    "id": "xwaz3rAE21mn"
   },
   "outputs": [],
   "source": [
    "X, Y = text_conversion(text, char_to_n, window=window)"
   ]
  },
  {
   "cell_type": "code",
   "execution_count": 69,
   "metadata": {
    "colab": {},
    "colab_type": "code",
    "id": "2buCJcNFom0B"
   },
   "outputs": [],
   "source": [
    "X_modified = np.reshape(X, (len(X), window, 1))\n",
    "X_modified = X_modified / float(len(characters))\n",
    "Y_modified = np_utils.to_categorical(Y)"
   ]
  },
  {
   "cell_type": "code",
   "execution_count": 70,
   "metadata": {
    "colab": {
     "base_uri": "https://localhost:8080/",
     "height": 34
    },
    "colab_type": "code",
    "id": "JOZpddGbLew1",
    "outputId": "a54cee05-af53-4fb0-a9a8-9bf23cc263bb"
   },
   "outputs": [
    {
     "data": {
      "text/plain": [
       "(690383, 118)"
      ]
     },
     "execution_count": 70,
     "metadata": {
      "tags": []
     },
     "output_type": "execute_result"
    }
   ],
   "source": [
    "Y_modified.shape"
   ]
  },
  {
   "cell_type": "markdown",
   "metadata": {
    "colab_type": "text",
    "id": "OP8o7v0d3GwP"
   },
   "source": [
    "### Comenzamos con nuestro modelo"
   ]
  },
  {
   "cell_type": "code",
   "execution_count": 71,
   "metadata": {
    "colab": {},
    "colab_type": "code",
    "id": "BuqrNCH3M6Lj"
   },
   "outputs": [],
   "source": [
    "def plot_values(title, values, marker=None, plt=plt):\n",
    "  cmap = cm.get_cmap('tab10', len(values))\n",
    "  for i, (tit, vals) in enumerate(values):\n",
    "    if marker:\n",
    "      plt.plot(np.arange(0, len(vals)), vals, marker, color=cmap(i), label=tit)\n",
    "    else: \n",
    "      plt.plot(np.arange(0, len(vals)), vals, color=cmap(i), label=tit)\n",
    "\n",
    "  if hasattr(plt, 'xlabel'):\n",
    "    plt.xlabel('Values #')\n",
    "  else:\n",
    "    plt.set_xlabel(\"Values #\")\n",
    "\n",
    "  if hasattr(plt, 'ylabel'):\n",
    "    plt.ylabel(f\"{title}\")\n",
    "  else:\n",
    "    plt.set_ylabel(f\"{title}\")\n",
    "  plt.legend()"
   ]
  },
  {
   "cell_type": "code",
   "execution_count": 72,
   "metadata": {
    "colab": {},
    "colab_type": "code",
    "id": "L0gYuYwcF6AW"
   },
   "outputs": [],
   "source": [
    "def create_nlp_network(shape, otputs, weights=None):\n",
    "\n",
    "  model = Sequential()\n",
    "\n",
    "  model.add(LSTM(700, input_shape=shape, return_sequences=True))\n",
    "  model.add(Dropout(0.2))\n",
    "  \n",
    "  model.add(LSTM(700))\n",
    "  model.add(Dropout(0.2))\n",
    "\n",
    "  model.add(Dense(Y_modified.shape[1], activation='softmax'))\n",
    "\n",
    "  model.compile(loss='categorical_crossentropy', optimizer='adam')\n",
    "\n",
    "  if weights:\n",
    "    model.load_weights(weights)\n",
    "\n",
    "  return model\n"
   ]
  },
  {
   "cell_type": "code",
   "execution_count": 74,
   "metadata": {
    "colab": {
     "base_uri": "https://localhost:8080/",
     "height": 323
    },
    "colab_type": "code",
    "id": "LtYFuMbxLwPm",
    "outputId": "92912513-cd86-4552-eaf2-2cf1d1e9df8b"
   },
   "outputs": [
    {
     "name": "stdout",
     "output_type": "stream",
     "text": [
      "Model: \"sequential_4\"\n",
      "_________________________________________________________________\n",
      "Layer (type)                 Output Shape              Param #   \n",
      "=================================================================\n",
      "lstm_7 (LSTM)                (None, 10, 700)           1965600   \n",
      "_________________________________________________________________\n",
      "dropout_7 (Dropout)          (None, 10, 700)           0         \n",
      "_________________________________________________________________\n",
      "lstm_8 (LSTM)                (None, 700)               3922800   \n",
      "_________________________________________________________________\n",
      "dropout_8 (Dropout)          (None, 700)               0         \n",
      "_________________________________________________________________\n",
      "dense_4 (Dense)              (None, 118)               82718     \n",
      "=================================================================\n",
      "Total params: 5,971,118\n",
      "Trainable params: 5,971,118\n",
      "Non-trainable params: 0\n",
      "_________________________________________________________________\n"
     ]
    }
   ],
   "source": [
    "# weights = './datasets/nlg_4.h5'\n",
    "\n",
    "model = create_nlp_network(X_modified.shape[1:], Y_modified.shape[1])\n",
    "# model = create_nlp_network(X_modified.shape[1:], Y_modified.shape[1], weights=weights )\n",
    "\n",
    "model.summary()"
   ]
  },
  {
   "cell_type": "code",
   "execution_count": 76,
   "metadata": {
    "colab": {
     "base_uri": "https://localhost:8080/",
     "height": 714
    },
    "colab_type": "code",
    "id": "8b57wCvFom0F",
    "outputId": "81707107-a6f9-46b6-af86-cc7ae1c68cab"
   },
   "outputs": [
    {
     "name": "stdout",
     "output_type": "stream",
     "text": [
      "Train on 655863 samples, validate on 34520 samples\n",
      "Epoch 1/20\n",
      "655863/655863 [==============================] - 295s 450us/step - loss: 2.9359 - val_loss: 2.7735\n",
      "Epoch 2/20\n",
      "655863/655863 [==============================] - 295s 450us/step - loss: 2.6067 - val_loss: 2.4646\n",
      "Epoch 3/20\n",
      "655863/655863 [==============================] - 297s 453us/step - loss: 2.3430 - val_loss: 2.2717\n",
      "Epoch 4/20\n",
      "655863/655863 [==============================] - 299s 455us/step - loss: 2.1883 - val_loss: 2.1613\n",
      "Epoch 5/20\n",
      "655863/655863 [==============================] - 297s 453us/step - loss: 2.0838 - val_loss: 2.1000\n",
      "Epoch 6/20\n",
      "655863/655863 [==============================] - 297s 453us/step - loss: 2.0042 - val_loss: 2.0538\n",
      "Epoch 7/20\n",
      "655863/655863 [==============================] - 296s 452us/step - loss: 1.9368 - val_loss: 2.0303\n",
      "Epoch 8/20\n",
      "655863/655863 [==============================] - 298s 454us/step - loss: 1.8836 - val_loss: 2.0148\n",
      "Epoch 9/20\n",
      "655863/655863 [==============================] - 298s 455us/step - loss: 1.8332 - val_loss: 1.9907\n",
      "Epoch 10/20\n",
      "655863/655863 [==============================] - 298s 455us/step - loss: 1.7879 - val_loss: 1.9852\n",
      "Epoch 11/20\n",
      "655863/655863 [==============================] - 299s 456us/step - loss: 1.7492 - val_loss: 1.9874\n",
      "Epoch 12/20\n",
      "655863/655863 [==============================] - 298s 455us/step - loss: 1.7108 - val_loss: 1.9741\n",
      "Epoch 13/20\n",
      "655863/655863 [==============================] - 299s 456us/step - loss: 1.6775 - val_loss: 2.0050\n",
      "Epoch 14/20\n",
      "655863/655863 [==============================] - 300s 458us/step - loss: 1.6466 - val_loss: 1.9726\n",
      "Epoch 15/20\n",
      "655863/655863 [==============================] - 301s 460us/step - loss: 1.6179 - val_loss: 1.9881\n",
      "Epoch 16/20\n",
      "655863/655863 [==============================] - 299s 455us/step - loss: 1.5876 - val_loss: 1.9889\n",
      "Epoch 17/20\n",
      "655863/655863 [==============================] - 297s 453us/step - loss: 1.5607 - val_loss: 2.0104\n",
      "Epoch 18/20\n",
      "655863/655863 [==============================] - 295s 451us/step - loss: 1.5371 - val_loss: 2.0129\n",
      "Epoch 19/20\n",
      "655863/655863 [==============================] - 295s 450us/step - loss: 1.5103 - val_loss: 2.0247\n",
      "Epoch 20/20\n",
      "655863/655863 [==============================] - 296s 451us/step - loss: 1.4876 - val_loss: 2.0295\n"
     ]
    }
   ],
   "source": [
    "history = model.fit(\n",
    "    X_modified, Y_modified, \n",
    "    validation_split=0.05, \n",
    "    batch_size=256, \n",
    "    epochs=20).history"
   ]
  },
  {
   "cell_type": "code",
   "execution_count": 77,
   "metadata": {
    "colab": {
     "base_uri": "https://localhost:8080/",
     "height": 282
    },
    "colab_type": "code",
    "id": "9xJjein9NjdX",
    "outputId": "565b54be-05df-4306-fd88-6a6829f11561"
   },
   "outputs": [
    {
     "data": {
      "image/png": "[encoded data removed]",
      "text/plain": [
       "<Figure size 432x288 with 1 Axes>"
      ]
     },
     "metadata": {
      "needs_background": "light",
      "tags": []
     },
     "output_type": "display_data"
    }
   ],
   "source": [
    "plot_values('Loss', [('loss', history['loss']), ('val_loss', history['val_loss'])])"
   ]
  },
  {
   "cell_type": "code",
   "execution_count": 78,
   "metadata": {
    "colab": {},
    "colab_type": "code",
    "id": "Imc2GgC9om0H"
   },
   "outputs": [],
   "source": [
    "def generate_text(model, initial_sequence):\n",
    "    string_mapped = deepcopy(initial_sequence.tolist())\n",
    "    full_string = [n_to_char[value] for value in string_mapped]\n",
    "    \n",
    "    # Generating characters\n",
    "    # Generamos un tweet entre  280(el maximo actual de tweeter)\n",
    "    characters_length = random.randint(len(string_mapped)+10, 280 )\n",
    "    for i in range(characters_length):\n",
    "        x = np.reshape(string_mapped,(1,len(string_mapped), 1))\n",
    "        x = x / float(len(characters))\n",
    "\n",
    "        pred_index = np.argmax(model.predict(x, verbose=0))\n",
    "        seq = [n_to_char[value] for value in string_mapped]\n",
    "        full_string.append(n_to_char[pred_index])\n",
    "\n",
    "        string_mapped.append(pred_index)\n",
    "        string_mapped = string_mapped[1:len(string_mapped)]\n",
    "        \n",
    "    text = \"\"\n",
    "    for char in full_string:\n",
    "        text = text + char\n",
    "    return text"
   ]
  },
  {
   "cell_type": "markdown",
   "metadata": {
    "colab_type": "text",
    "id": "7fwEbq0idWnt"
   },
   "source": [
    "## Probemos a generar un tweet"
   ]
  },
  {
   "cell_type": "code",
   "execution_count": 79,
   "metadata": {
    "colab": {
     "base_uri": "https://localhost:8080/",
     "height": 35
    },
    "colab_type": "code",
    "id": "TsliL73Kqe1a",
    "outputId": "918494f5-7024-4f3a-ac2e-1c2b5f258721"
   },
   "outputs": [
    {
     "data": {
      "application/vnd.google.colaboratory.intrinsic": {
       "type": "string"
      },
      "text/plain": [
       "'Hey guys! Love this pic of me and my sisters are to tweet  I was so excited to see it! '"
      ]
     },
     "execution_count": 79,
     "metadata": {
      "tags": []
     },
     "output_type": "execute_result"
    }
   ],
   "source": [
    "generate_text(model, X[0])"
   ]
  },
  {
   "cell_type": "markdown",
   "metadata": {
    "colab_type": "text",
    "id": "MFdemTDWdb_Z"
   },
   "source": [
    "Vemos que tiene 'cierto sentido' si se lee rapido, vamos a generar algunos tweets a partir de difenertes texto a ver si funciona bien"
   ]
  },
  {
   "cell_type": "code",
   "execution_count": 87,
   "metadata": {
    "colab": {},
    "colab_type": "code",
    "id": "oPb0JSmMbgLm"
   },
   "outputs": [],
   "source": [
    "def generate_n_tweets(num_samples):\n",
    "  for i in range(num_samples):\n",
    "    txt = random.choice(texts)\n",
    "    if len(txt) >= window:\n",
    "      txt = txt[:window]\n",
    "      chars = np.array([char_to_n[c] for c in txt])\n",
    "      tweet = generate_text(model, chars)\n",
    "\n",
    "      print(f'Tweet n {i}')\n",
    "      print(f'Caracteres iniciales: \\'{txt}\\'')\n",
    "      print(tweet)\n",
    "      print()"
   ]
  },
  {
   "cell_type": "code",
   "execution_count": 91,
   "metadata": {
    "colab": {
     "base_uri": "https://localhost:8080/",
     "height": 445
    },
    "colab_type": "code",
    "id": "BF3y-EpI5xwl",
    "outputId": "8dfbcbd5-ab8d-4a91-f6eb-eb27ff5283cd"
   },
   "outputs": [
    {
     "name": "stdout",
     "output_type": "stream",
     "text": [
      "Tweet n 0\n",
      "Caracteres iniciales: 'Going to g'\n",
      "Going to gave a good workout today  I love t guys  I love t guys  I love t guys  I love t guys  I love t guys  I love t guys  I \n",
      "\n",
      "Tweet n 1\n",
      "Caracteres iniciales: 'Kylie is o'\n",
      "Kylie is on tonight on E! at 9/8c! Shane you fave tome sertice and I are all ny family messages! ! I love you so much fun  The was so much fun  The was so much\n",
      "\n",
      "Tweet n 2\n",
      "Caracteres iniciales: 'What did y'\n",
      "What did you guys think of the pione wes she real proud to she most googeous wieeo to she might with my baby is on tonight on E! at 9/8c! Shane you fave tome sertice and I are all ny family messages! ! I love you so much fun  The was so much fun  The was so much fun  The was s\n",
      "\n",
      "Tweet n 3\n",
      "Caracteres iniciales: 'BLACK FRID'\n",
      "BLACK FRIDNDS TIITEDT TO MESE WOUED AARU TIITER SOINER SEIN FORN MOWE MOVE BARST MY SHAR FOR THIET What a fab cry but g\n",
      "\n",
      "Tweet n 4\n",
      "Caracteres iniciales: 'Another NY'\n",
      "Another NYC alack & I will be at Darnes sesv much for the season finale of Kourtney & Kim Take New York is on E! This is so cute in the world to me! Th\n",
      "\n",
      "Tweet n 5\n",
      "Caracteres iniciales: 'Wow ‎​thun'\n",
      "Wow ‎​thunder love the bas with my baby is on tonight on E! at 9/8c! Shane you fave tome sertice and I are all ny family messages! ! I love you so much fun  The was so much fun  The was so much fun  T\n",
      "\n"
     ]
    }
   ],
   "source": [
    "generate_n_tweets(6)"
   ]
  },
  {
   "cell_type": "markdown",
   "metadata": {
    "colab_type": "text",
    "id": "nDyTbeTc5_57"
   },
   "source": [
    "Vemos que hay algunas extructuras que se repiten `I love t guys` y sobre todo ` I love`, también dado el tema de los tweets se observa que genera bien algunas palabras y otras que no tienen tanto sentido, por lo que podriamos entender que si se procesan un poco mas los datos o se obtienen mas datos con los que probar y mas tiempo podria ir un poco mas fino"
   ]
  },
  {
   "cell_type": "code",
   "execution_count": 89,
   "metadata": {
    "colab": {},
    "colab_type": "code",
    "id": "YYuPUu8fKLzl"
   },
   "outputs": [],
   "source": [
    "# Ahora exportaremos nuestro modelo para poder reutilizarlo posteriormente\n",
    "def export_modoel(model, name):\n",
    "  model.save(f\"{name}.h5\")\n",
    "  \n",
    "  !cp {name}.h5 /content/drive/My\\ Drive/Colab\\ Notebooks/NLP/{name}.h5\n",
    "\n",
    "  print(\"Saved model to disk\")"
   ]
  },
  {
   "cell_type": "code",
   "execution_count": 90,
   "metadata": {
    "colab": {
     "base_uri": "https://localhost:8080/",
     "height": 34
    },
    "colab_type": "code",
    "id": "JwM_6x0JUixW",
    "outputId": "702e1094-2133-42c4-dd1d-85d9b8a17b3c"
   },
   "outputs": [
    {
     "name": "stdout",
     "output_type": "stream",
     "text": [
      "Saved model to disk\n"
     ]
    }
   ],
   "source": [
    "export_modoel(model, 'nlg_4')"
   ]
  },
  {
   "cell_type": "markdown",
   "metadata": {
    "colab_type": "text",
    "id": "v7XvDOpOUwgr"
   },
   "source": [
    "Como conclusiones de esta practica llego a que después de probar varios modelos depende mucho de el numero de epocas y del preprocesado que hagas obener un texto 'natral', basicamente mi proceso sobre esta pŕactica ha sido el de copiar una estructura básica e iterar sobre ella añadirndo etapas en la limpieza y cambiando los parametros del entrenamiento 'batch_size' y 'epochs'.\n",
    "\n",
    "El reusltado final se ve que no es muy 'optimo' pero ha sido mucho tiempo y varias pruebas para intetar crar un mdelo que genre lenguaje 'natual'"
   ]
  },
  {
   "cell_type": "code",
   "execution_count": null,
   "metadata": {
    "colab": {},
    "colab_type": "code",
    "id": "DWURJkFbUmtE"
   },
   "outputs": [],
   "source": []
  },
  {
   "cell_type": "code",
   "execution_count": null,
   "metadata": {
    "colab": {},
    "colab_type": "code",
    "id": "G6Xc2rFkHDX9"
   },
   "outputs": [],
   "source": []
  }
 ],
 "metadata": {
  "accelerator": "GPU",
  "colab": {
   "collapsed_sections": [],
   "name": "nlg.ipynb",
   "provenance": []
  },
  "kernelspec": {
   "display_name": "Python 3",
   "language": "python",
   "name": "python3"
  },
  "language_info": {
   "codemirror_mode": {
    "name": "ipython",
    "version": 3
   },
   "file_extension": ".py",
   "mimetype": "text/x-python",
   "name": "python",
   "nbconvert_exporter": "python",
   "pygments_lexer": "ipython3",
   "version": "3.7.6"
  }
 },
 "nbformat": 4,
 "nbformat_minor": 1
}
