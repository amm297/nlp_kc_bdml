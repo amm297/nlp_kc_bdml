{
 "cells": [
  {
   "cell_type": "markdown",
   "metadata": {},
   "source": [
    "### 3. Generación de Lenguaje Natural\n",
    "Implementación de un modelo de generación de lenguaje utilizando algún dataset de los propuestos de Twitter.\n",
    "\n",
    "El objetivo es el de simular la creación de un bot que escriba tweets de manera similar al del autor utilizado para el entrenamiento.\n",
    "\n",
    "Se valorará principalmente la argumentación de los pasos realizados y las conclusiones al analizar los resultados y limitaciones encontradas."
   ]
  },
  {
   "cell_type": "code",
   "execution_count": 55,
   "metadata": {},
   "outputs": [],
   "source": [
    "# Importamos a lo que vayamos a necesitar\n",
    "\n",
    "import numpy as np\n",
    "import pandas as pd\n",
    "import re\n",
    "from copy import deepcopy\n",
    "\n",
    "from keras.models import Sequential\n",
    "from keras.layers import Dense\n",
    "from keras.layers import Dropout\n",
    "from keras.layers import LSTM\n",
    "from keras.utils import np_utils\n",
    "from sklearn.model_selection import train_test_split"
   ]
  },
  {
   "cell_type": "markdown",
   "metadata": {},
   "source": [
    "### Cargamos los datos"
   ]
  },
  {
   "cell_type": "code",
   "execution_count": 2,
   "metadata": {},
   "outputs": [],
   "source": [
    "data = pd.read_csv('./datasets/KimKardashianTweets.csv')"
   ]
  },
  {
   "cell_type": "code",
   "execution_count": 3,
   "metadata": {},
   "outputs": [
    {
     "data": {
      "text/html": [
       "<div>\n",
       "<style scoped>\n",
       "    .dataframe tbody tr th:only-of-type {\n",
       "        vertical-align: middle;\n",
       "    }\n",
       "\n",
       "    .dataframe tbody tr th {\n",
       "        vertical-align: top;\n",
       "    }\n",
       "\n",
       "    .dataframe thead th {\n",
       "        text-align: right;\n",
       "    }\n",
       "</style>\n",
       "<table border=\"1\" class=\"dataframe\">\n",
       "  <thead>\n",
       "    <tr style=\"text-align: right;\">\n",
       "      <th></th>\n",
       "      <th>Unnamed: 0</th>\n",
       "      <th>date</th>\n",
       "      <th>id</th>\n",
       "      <th>link</th>\n",
       "      <th>retweet</th>\n",
       "      <th>text</th>\n",
       "      <th>author</th>\n",
       "    </tr>\n",
       "  </thead>\n",
       "  <tbody>\n",
       "    <tr>\n",
       "      <th>0</th>\n",
       "      <td>0</td>\n",
       "      <td>Oct 2</td>\n",
       "      <td>782694393216110592</td>\n",
       "      <td>/KimKardashian/status/782694393216110592</td>\n",
       "      <td>False</td>\n",
       "      <td>Hey guys! Meet my #KimKardashianGame character...</td>\n",
       "      <td>KimKardashian</td>\n",
       "    </tr>\n",
       "    <tr>\n",
       "      <th>1</th>\n",
       "      <td>1</td>\n",
       "      <td>Oct 2</td>\n",
       "      <td>782632831780618240</td>\n",
       "      <td>/KimKardashian/status/782632831780618240</td>\n",
       "      <td>False</td>\n",
       "      <td>This guy is always in my shot!pic.twitter.com/...</td>\n",
       "      <td>KimKardashian</td>\n",
       "    </tr>\n",
       "    <tr>\n",
       "      <th>2</th>\n",
       "      <td>2</td>\n",
       "      <td>Oct 2</td>\n",
       "      <td>782559825205071872</td>\n",
       "      <td>/KimKardashian/status/782559825205071872</td>\n",
       "      <td>False</td>\n",
       "      <td>Balenciaga. No make up today.pic.twitter.com/l...</td>\n",
       "      <td>KimKardashian</td>\n",
       "    </tr>\n",
       "    <tr>\n",
       "      <th>3</th>\n",
       "      <td>3</td>\n",
       "      <td>Oct 1</td>\n",
       "      <td>782260907900567552</td>\n",
       "      <td>/KimKardashian/status/782260907900567552</td>\n",
       "      <td>False</td>\n",
       "      <td>Kourtney and Kim Take Parispic.twitter.com/VXw...</td>\n",
       "      <td>KimKardashian</td>\n",
       "    </tr>\n",
       "    <tr>\n",
       "      <th>4</th>\n",
       "      <td>4</td>\n",
       "      <td>Oct 1</td>\n",
       "      <td>782259209459101696</td>\n",
       "      <td>/KimKardashian/status/782259209459101697</td>\n",
       "      <td>False</td>\n",
       "      <td>GIVENCHY COUTUREpic.twitter.com/jHxTIuHzzo</td>\n",
       "      <td>KimKardashian</td>\n",
       "    </tr>\n",
       "  </tbody>\n",
       "</table>\n",
       "</div>"
      ],
      "text/plain": [
       "   Unnamed: 0   date                  id  \\\n",
       "0           0  Oct 2  782694393216110592   \n",
       "1           1  Oct 2  782632831780618240   \n",
       "2           2  Oct 2  782559825205071872   \n",
       "3           3  Oct 1  782260907900567552   \n",
       "4           4  Oct 1  782259209459101696   \n",
       "\n",
       "                                       link  retweet  \\\n",
       "0  /KimKardashian/status/782694393216110592    False   \n",
       "1  /KimKardashian/status/782632831780618240    False   \n",
       "2  /KimKardashian/status/782559825205071872    False   \n",
       "3  /KimKardashian/status/782260907900567552    False   \n",
       "4  /KimKardashian/status/782259209459101697    False   \n",
       "\n",
       "                                                text         author  \n",
       "0  Hey guys! Meet my #KimKardashianGame character...  KimKardashian  \n",
       "1  This guy is always in my shot!pic.twitter.com/...  KimKardashian  \n",
       "2  Balenciaga. No make up today.pic.twitter.com/l...  KimKardashian  \n",
       "3  Kourtney and Kim Take Parispic.twitter.com/VXw...  KimKardashian  \n",
       "4         GIVENCHY COUTUREpic.twitter.com/jHxTIuHzzo  KimKardashian  "
      ]
     },
     "execution_count": 3,
     "metadata": {},
     "output_type": "execute_result"
    }
   ],
   "source": [
    "data.head()"
   ]
  },
  {
   "cell_type": "code",
   "execution_count": 4,
   "metadata": {},
   "outputs": [],
   "source": [
    "data = data[['retweet', 'text', 'author']]"
   ]
  },
  {
   "cell_type": "code",
   "execution_count": 5,
   "metadata": {
    "scrolled": true
   },
   "outputs": [
    {
     "data": {
      "text/html": [
       "<div>\n",
       "<style scoped>\n",
       "    .dataframe tbody tr th:only-of-type {\n",
       "        vertical-align: middle;\n",
       "    }\n",
       "\n",
       "    .dataframe tbody tr th {\n",
       "        vertical-align: top;\n",
       "    }\n",
       "\n",
       "    .dataframe thead th {\n",
       "        text-align: right;\n",
       "    }\n",
       "</style>\n",
       "<table border=\"1\" class=\"dataframe\">\n",
       "  <thead>\n",
       "    <tr style=\"text-align: right;\">\n",
       "      <th></th>\n",
       "      <th>retweet</th>\n",
       "      <th>text</th>\n",
       "      <th>author</th>\n",
       "    </tr>\n",
       "  </thead>\n",
       "  <tbody>\n",
       "    <tr>\n",
       "      <th>0</th>\n",
       "      <td>False</td>\n",
       "      <td>Hey guys! Meet my #KimKardashianGame character...</td>\n",
       "      <td>KimKardashian</td>\n",
       "    </tr>\n",
       "    <tr>\n",
       "      <th>1</th>\n",
       "      <td>False</td>\n",
       "      <td>This guy is always in my shot!pic.twitter.com/...</td>\n",
       "      <td>KimKardashian</td>\n",
       "    </tr>\n",
       "    <tr>\n",
       "      <th>2</th>\n",
       "      <td>False</td>\n",
       "      <td>Balenciaga. No make up today.pic.twitter.com/l...</td>\n",
       "      <td>KimKardashian</td>\n",
       "    </tr>\n",
       "    <tr>\n",
       "      <th>3</th>\n",
       "      <td>False</td>\n",
       "      <td>Kourtney and Kim Take Parispic.twitter.com/VXw...</td>\n",
       "      <td>KimKardashian</td>\n",
       "    </tr>\n",
       "    <tr>\n",
       "      <th>4</th>\n",
       "      <td>False</td>\n",
       "      <td>GIVENCHY COUTUREpic.twitter.com/jHxTIuHzzo</td>\n",
       "      <td>KimKardashian</td>\n",
       "    </tr>\n",
       "  </tbody>\n",
       "</table>\n",
       "</div>"
      ],
      "text/plain": [
       "   retweet                                               text         author\n",
       "0    False  Hey guys! Meet my #KimKardashianGame character...  KimKardashian\n",
       "1    False  This guy is always in my shot!pic.twitter.com/...  KimKardashian\n",
       "2    False  Balenciaga. No make up today.pic.twitter.com/l...  KimKardashian\n",
       "3    False  Kourtney and Kim Take Parispic.twitter.com/VXw...  KimKardashian\n",
       "4    False         GIVENCHY COUTUREpic.twitter.com/jHxTIuHzzo  KimKardashian"
      ]
     },
     "execution_count": 5,
     "metadata": {},
     "output_type": "execute_result"
    }
   ],
   "source": [
    "data.head()"
   ]
  },
  {
   "cell_type": "markdown",
   "metadata": {},
   "source": [
    "### Preprocesado"
   ]
  },
  {
   "cell_type": "code",
   "execution_count": 7,
   "metadata": {},
   "outputs": [],
   "source": [
    "# Definimos unas regex que emplearemos para eliminar los siguientes campos:\n",
    "#  - Usuarios/Menciones\n",
    "#  - Hashtag\n",
    "#  - Urls\n",
    "#  - Imagenes\n",
    "\n",
    "user_regex = re.compile('@\\w+| @\\w+ ')\n",
    "hashtag_regex = re.compile('#\\w+| #\\w+ ')\n",
    "url_regex = re.compile('http[s]?://(?:[a-zA-Z]|[0-9]|[$-_@.&+]|[!*\\(\\),]|(?:%[0-9a-fA-F][0-9a-fA-F]))+')\n",
    "pics_regex = re.compile('pic?.\\w+.\\w+\\/\\w+')"
   ]
  },
  {
   "cell_type": "code",
   "execution_count": 45,
   "metadata": {},
   "outputs": [],
   "source": [
    "users = []\n",
    "hashtags = []\n",
    "urls = []\n",
    "pics = []\n",
    "\n",
    "\n",
    "texts = []\n",
    "for text in data['text']:\n",
    "    \n",
    "    this_usrs = user_regex.findall(text)\n",
    "    this_hashtag = hashtag_regex.findall(text)\n",
    "    this_url = url_regex.findall(text)\n",
    "    this_pics = pics_regex.findall(text)\n",
    "    \n",
    "    aux = text\n",
    "    aux = re.sub(pics_regex, '', aux)\n",
    "    aux = re.sub(url_regex, '', aux) \n",
    "    aux = re.sub(user_regex.pattern, ' ', aux)\n",
    "    aux = re.sub(hashtag_regex.pattern, ' ', aux)\n",
    "    \n",
    "    aux = aux.strip()\n",
    "\n",
    "    texts.append(aux)"
   ]
  },
  {
   "cell_type": "code",
   "execution_count": 46,
   "metadata": {},
   "outputs": [
    {
     "data": {
      "text/plain": [
       "10688"
      ]
     },
     "execution_count": 46,
     "metadata": {},
     "output_type": "execute_result"
    }
   ],
   "source": [
    "# Vemos como se ha quedado nuestro texto procesado\n",
    "len(texts)"
   ]
  },
  {
   "cell_type": "code",
   "execution_count": 47,
   "metadata": {},
   "outputs": [],
   "source": [
    "# Combinamos los textos en una unica lista\n",
    "text = r' '.join(texts)"
   ]
  },
  {
   "cell_type": "code",
   "execution_count": 48,
   "metadata": {},
   "outputs": [
    {
     "name": "stdout",
     "output_type": "stream",
     "text": [
      "Unique chars: 123\n"
     ]
    }
   ],
   "source": [
    "#  Sacamos los caracteres que componen nuestro corpus\n",
    "characters = sorted(list(set(text)))\n",
    "n_to_char = {n:char for n, char in enumerate(characters)}\n",
    "char_to_n = {char:n for n, char in enumerate(characters)}\n",
    "\n",
    "print('Unique chars: {}'.format(len(characters)))"
   ]
  },
  {
   "cell_type": "code",
   "execution_count": 49,
   "metadata": {},
   "outputs": [
    {
     "name": "stdout",
     "output_type": "stream",
     "text": [
      "['\\t', '\\n', ' ', '!', '\"', '#', '$', '%', '&', \"'\", '(', ')', '*', '+', ',', '-', '.', '/', '0', '1', '2', '3', '4', '5', '6', '7', '8', '9', ':', ';', '<', '=', '>', '?', '@', 'A', 'B', 'C', 'D', 'E', 'F', 'G', 'H', 'I', 'J', 'K', 'L', 'M', 'N', 'O', 'P', 'Q', 'R', 'S', 'T', 'U', 'V', 'W', 'X', 'Y', 'Z', '[', ']', '_', 'a', 'b', 'c', 'd', 'e', 'f', 'g', 'h', 'i', 'j', 'k', 'l', 'm', 'n', 'o', 'p', 'q', 'r', 's', 't', 'u', 'v', 'w', 'x', 'y', 'z', '{', '|', '}', '~', '\\xa0', '\\xad', '´', '¹', 'É', 'á', 'ã', 'é', 'ô', '\\u200b', '\\u200e', '\\u200f', '–', '—', '‘', '’', '“', '”', '•', '…', '™', '♡', '♫', '\\ue411', '\\ue6b7', '\\ue6b9', '\\ue6e2', '\\ue6e3', '\\ue6eb']\n"
     ]
    }
   ],
   "source": [
    "print(characters)"
   ]
  },
  {
   "cell_type": "code",
   "execution_count": 52,
   "metadata": {},
   "outputs": [],
   "source": [
    "def text_conversion(text, ctn_dict, window=5, step=1):\n",
    "    X = []\n",
    "    Y = []\n",
    "    \n",
    "    for i in range(0, len(text)-window, step):\n",
    "        sequence = text[i: i + window]\n",
    "        label = text[i + window]\n",
    "        \n",
    "        X.append([ctn_dict[c] for c in sequence])\n",
    "        Y.append(ctn_dict[label])\n",
    "        \n",
    "    return X,Y"
   ]
  },
  {
   "cell_type": "code",
   "execution_count": 54,
   "metadata": {},
   "outputs": [],
   "source": [
    "X_train, y_train = text_conversion(text, char_to_n)"
   ]
  },
  {
   "cell_type": "code",
   "execution_count": 56,
   "metadata": {},
   "outputs": [],
   "source": [
    "X_train, X_test, y_train, y_test = train_test_split(X_train, y_train, test_size=0.1)"
   ]
  },
  {
   "cell_type": "code",
   "execution_count": 66,
   "metadata": {},
   "outputs": [
    {
     "data": {
      "text/plain": [
       "[64, 77, 2, 86, 71]"
      ]
     },
     "execution_count": 66,
     "metadata": {},
     "output_type": "execute_result"
    }
   ],
   "source": [
    "X_train[0]"
   ]
  },
  {
   "cell_type": "code",
   "execution_count": 62,
   "metadata": {},
   "outputs": [],
   "source": [
    "X_modified = np.reshape(X_train, (len(X_train), 5, 1))\n"
   ]
  },
  {
   "cell_type": "code",
   "execution_count": 63,
   "metadata": {
    "scrolled": true
   },
   "outputs": [
    {
     "name": "stdout",
     "output_type": "stream",
     "text": [
      "[[64]\n",
      " [77]\n",
      " [ 2]\n",
      " [86]\n",
      " [71]]\n"
     ]
    }
   ],
   "source": [
    "print(X_modified[0])"
   ]
  },
  {
   "cell_type": "code",
   "execution_count": 74,
   "metadata": {},
   "outputs": [
    {
     "data": {
      "text/plain": [
       "array([0.5203252 , 0.62601626, 0.01626016, ..., 0.01626016, 0.56097561,\n",
       "       0.64227642])"
      ]
     },
     "execution_count": 74,
     "metadata": {},
     "output_type": "execute_result"
    }
   ],
   "source": [
    "X_modified.reshape(-1,len(X_modified))[0]"
   ]
  },
  {
   "cell_type": "code",
   "execution_count": 64,
   "metadata": {},
   "outputs": [],
   "source": [
    "X_modified = X_modified / float(len(characters))\n"
   ]
  },
  {
   "cell_type": "code",
   "execution_count": 65,
   "metadata": {},
   "outputs": [
    {
     "name": "stdout",
     "output_type": "stream",
     "text": [
      "[[0.5203252 ]\n",
      " [0.62601626]\n",
      " [0.01626016]\n",
      " [0.69918699]\n",
      " [0.57723577]]\n"
     ]
    }
   ],
   "source": [
    "print(X_modified[0])"
   ]
  },
  {
   "cell_type": "code",
   "execution_count": null,
   "metadata": {},
   "outputs": [],
   "source": [
    "Y_modified = np_utils.to_categorical(y_train)"
   ]
  },
  {
   "cell_type": "code",
   "execution_count": 75,
   "metadata": {},
   "outputs": [
    {
     "data": {
      "text/plain": [
       "array([0., 0., 0., 0., 0., 0., 0., 0., 0., 0., 0., 0., 0., 0., 0., 0., 0.,\n",
       "       0., 0., 0., 0., 0., 0., 0., 0., 0., 0., 0., 0., 0., 0., 0., 0., 0.,\n",
       "       0., 0., 0., 0., 0., 0., 0., 0., 0., 0., 0., 0., 0., 0., 0., 0., 0.,\n",
       "       0., 0., 0., 0., 0., 0., 0., 0., 0., 0., 0., 0., 0., 0., 0., 0., 0.,\n",
       "       0., 0., 0., 0., 0., 0., 0., 0., 0., 0., 1., 0., 0., 0., 0., 0., 0.,\n",
       "       0., 0., 0., 0., 0., 0., 0., 0., 0., 0., 0., 0., 0., 0., 0., 0., 0.,\n",
       "       0., 0., 0., 0., 0., 0., 0., 0., 0., 0., 0., 0., 0., 0., 0., 0., 0.,\n",
       "       0., 0., 0., 0.])"
      ]
     },
     "execution_count": 75,
     "metadata": {},
     "output_type": "execute_result"
    }
   ],
   "source": [
    "Y_modified[0]"
   ]
  },
  {
   "cell_type": "code",
   "execution_count": null,
   "metadata": {},
   "outputs": [],
   "source": [
    "X_modi"
   ]
  },
  {
   "cell_type": "code",
   "execution_count": 36,
   "metadata": {},
   "outputs": [
    {
     "name": "stdout",
     "output_type": "stream",
     "text": [
      "Model: \"sequential_1\"\n",
      "_________________________________________________________________\n",
      "Layer (type)                 Output Shape              Param #   \n",
      "=================================================================\n",
      "lstm_1 (LSTM)                (None, 100, 700)          1965600   \n",
      "_________________________________________________________________\n",
      "dropout_1 (Dropout)          (None, 100, 700)          0         \n",
      "_________________________________________________________________\n",
      "lstm_2 (LSTM)                (None, 700)               3922800   \n",
      "_________________________________________________________________\n",
      "dropout_2 (Dropout)          (None, 700)               0         \n",
      "_________________________________________________________________\n",
      "dense_1 (Dense)              (None, 82)                57482     \n",
      "=================================================================\n",
      "Total params: 5,945,882\n",
      "Trainable params: 5,945,882\n",
      "Non-trainable params: 0\n",
      "_________________________________________________________________\n"
     ]
    }
   ],
   "source": [
    "# Model 4\n",
    "model_4 = Sequential()\n",
    "model_4.add(LSTM(700, input_shape=(X_modified.shape[1], X_modified.shape[2]), return_sequences=True))\n",
    "model_4.add(Dropout(0.2))\n",
    "model_4.add(LSTM(700))\n",
    "model_4.add(Dropout(0.2))\n",
    "model_4.add(Dense(Y_modified.shape[1], activation='softmax'))\n",
    "model_4.compile(loss='categorical_crossentropy', optimizer='adam')\n",
    "\n",
    "model_4.summary()"
   ]
  },
  {
   "cell_type": "code",
   "execution_count": null,
   "metadata": {},
   "outputs": [],
   "source": [
    "history = model_4.fit(X_modified, Y_modified, validation_split=0.05, batch_size=128, epochs=20, shuffle=True).history"
   ]
  },
  {
   "cell_type": "code",
   "execution_count": null,
   "metadata": {},
   "outputs": [],
   "source": []
  }
 ],
 "metadata": {
  "kernelspec": {
   "display_name": "Python 3",
   "language": "python",
   "name": "python3"
  },
  "language_info": {
   "codemirror_mode": {
    "name": "ipython",
    "version": 3
   },
   "file_extension": ".py",
   "mimetype": "text/x-python",
   "name": "python",
   "nbconvert_exporter": "python",
   "pygments_lexer": "ipython3",
   "version": "3.7.6"
  }
 },
 "nbformat": 4,
 "nbformat_minor": 4
}
