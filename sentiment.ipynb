{
 "cells": [
  {
   "cell_type": "markdown",
   "metadata": {},
   "source": [
    "## 2. Análisis de Sentimiento\n",
    "\n",
    "Implementación y evaluación de un modelo de análisis de sentimiento.\n",
    "\n",
    "El objetivo principal es el de realizar un **modelo de clasificación binaria**. Se valorará positivamente comparar la variación en los resultados al usar **diferentes modelos**, al **modificar algún paso en la etapa de preprocesado** (stemming vs no stemming, p.ej.), así como la comparación de resultados utilizando o bien **modelos pre-entrenados** o modelos más simples (como VADER).\n",
    "\n",
    "Se utilizará alguno de los datasets disponibles de **reviews de Amazon**.\n",
    "\n",
    "Soluciones más avanzadas como por ejemplo modelos de clasificación multi-clase o basados en embeddings serán valorables."
   ]
  },
  {
   "cell_type": "code",
   "execution_count": 1,
   "metadata": {},
   "outputs": [
    {
     "name": "stderr",
     "output_type": "stream",
     "text": [
      "/home/alberto/anaconda3/lib/python3.7/site-packages/nltk/decorators.py:68: DeprecationWarning: `formatargspec` is deprecated since Python 3.5. Use `signature` and the `Signature` object directly\n",
      "  regargs, varargs, varkwargs, defaults, formatvalue=lambda value: \"\"\n",
      "/home/alberto/anaconda3/lib/python3.7/site-packages/nltk/lm/counter.py:15: DeprecationWarning: Using or importing the ABCs from 'collections' instead of from 'collections.abc' is deprecated since Python 3.3,and in 3.9 it will stop working\n",
      "  from collections import Sequence, defaultdict\n",
      "/home/alberto/anaconda3/lib/python3.7/site-packages/nltk/lm/vocabulary.py:13: DeprecationWarning: Using or importing the ABCs from 'collections' instead of from 'collections.abc' is deprecated since Python 3.3,and in 3.9 it will stop working\n",
      "  from collections import Counter, Iterable\n"
     ]
    }
   ],
   "source": [
    "# Importamos lo que vayamos a necesitar\n",
    "import pandas as pd\n",
    "import numpy as np\n",
    "import string\n",
    "import random\n",
    "\n",
    "import gensim\n",
    "from gensim.corpora import Dictionary\n",
    "from gensim.models import LdaModel, CoherenceModel\n",
    "\n",
    "import pyLDAvis\n",
    "import pyLDAvis.gensim\n",
    "\n",
    "from collections import Counter\n",
    "import matplotlib.pyplot as plt\n",
    "from stop_words import get_stop_words\n",
    "from nltk.stem.snowball import EnglishStemmer\n",
    "\n",
    "# Nuestras funciones del archivo utils, para el procesado del texto\n",
    "from utils import file_to_dict, process_text\n",
    "\n",
    "from sklearn.model_selection import train_test_split\n",
    "from sklearn.feature_extraction.text import CountVectorizer, TfidfVectorizer\n",
    "from sklearn.feature_selection import chi2\n",
    "from sklearn.linear_model import LogisticRegression\n",
    "from sklearn.naive_bayes import MultinomialNB\n",
    "from sklearn.multioutput import MultiOutputRegressor\n",
    "from sklearn.metrics import accuracy_score, confusion_matrix, classification_report, roc_curve\n",
    "from sklearn.preprocessing import OneHotEncoder\n",
    "\n",
    "\n",
    "from multiprocessing.pool import Pool\n",
    "from functools import partial\n",
    "from os import cpu_count"
   ]
  },
  {
   "cell_type": "markdown",
   "metadata": {},
   "source": [
    "### 1. Importamos y procesamos nuestros datos"
   ]
  },
  {
   "cell_type": "code",
   "execution_count": 2,
   "metadata": {},
   "outputs": [],
   "source": [
    "data = pd.read_csv('./datasets/reviews.csv')"
   ]
  },
  {
   "cell_type": "code",
   "execution_count": 3,
   "metadata": {},
   "outputs": [],
   "source": [
    "data['rating_binary_label'] = data['rating'].apply(lambda it: 'pos' if it > 3 else 'neg')"
   ]
  },
  {
   "cell_type": "code",
   "execution_count": 4,
   "metadata": {},
   "outputs": [],
   "source": [
    "data['rating_triary_label'] = data['rating'].apply(lambda it: 'pos' if it > 3 else ('neu' if it == 3 else 'neg'))"
   ]
  },
  {
   "cell_type": "code",
   "execution_count": 5,
   "metadata": {
    "scrolled": true
   },
   "outputs": [
    {
     "data": {
      "text/html": [
       "<div>\n",
       "<style scoped>\n",
       "    .dataframe tbody tr th:only-of-type {\n",
       "        vertical-align: middle;\n",
       "    }\n",
       "\n",
       "    .dataframe tbody tr th {\n",
       "        vertical-align: top;\n",
       "    }\n",
       "\n",
       "    .dataframe thead th {\n",
       "        text-align: right;\n",
       "    }\n",
       "</style>\n",
       "<table border=\"1\" class=\"dataframe\">\n",
       "  <thead>\n",
       "    <tr style=\"text-align: right;\">\n",
       "      <th></th>\n",
       "      <th>review</th>\n",
       "      <th>rating</th>\n",
       "      <th>helpful</th>\n",
       "      <th>category</th>\n",
       "      <th>rating_binary_label</th>\n",
       "      <th>rating_triary_label</th>\n",
       "    </tr>\n",
       "  </thead>\n",
       "  <tbody>\n",
       "    <tr>\n",
       "      <th>0</th>\n",
       "      <td>A fun way to bling up your desk and make sure ...</td>\n",
       "      <td>4</td>\n",
       "      <td>1.0</td>\n",
       "      <td>Office products</td>\n",
       "      <td>pos</td>\n",
       "      <td>pos</td>\n",
       "    </tr>\n",
       "    <tr>\n",
       "      <th>1</th>\n",
       "      <td>I continue to love this show. Raylan and the r...</td>\n",
       "      <td>5</td>\n",
       "      <td>0.0</td>\n",
       "      <td>Amazon instant videos</td>\n",
       "      <td>pos</td>\n",
       "      <td>pos</td>\n",
       "    </tr>\n",
       "    <tr>\n",
       "      <th>2</th>\n",
       "      <td>Arrived in super flash time.  Like another rev...</td>\n",
       "      <td>5</td>\n",
       "      <td>0.0</td>\n",
       "      <td>Patio lawn/garden</td>\n",
       "      <td>pos</td>\n",
       "      <td>pos</td>\n",
       "    </tr>\n",
       "    <tr>\n",
       "      <th>3</th>\n",
       "      <td>This treat ball works as expected. I used Temp...</td>\n",
       "      <td>4</td>\n",
       "      <td>0.5</td>\n",
       "      <td>Pet supplies</td>\n",
       "      <td>pos</td>\n",
       "      <td>pos</td>\n",
       "    </tr>\n",
       "    <tr>\n",
       "      <th>4</th>\n",
       "      <td>I know it's extrange but it works! It is easy ...</td>\n",
       "      <td>4</td>\n",
       "      <td>0.0</td>\n",
       "      <td>Baby</td>\n",
       "      <td>pos</td>\n",
       "      <td>pos</td>\n",
       "    </tr>\n",
       "  </tbody>\n",
       "</table>\n",
       "</div>"
      ],
      "text/plain": [
       "                                              review  rating  helpful  \\\n",
       "0  A fun way to bling up your desk and make sure ...       4      1.0   \n",
       "1  I continue to love this show. Raylan and the r...       5      0.0   \n",
       "2  Arrived in super flash time.  Like another rev...       5      0.0   \n",
       "3  This treat ball works as expected. I used Temp...       4      0.5   \n",
       "4  I know it's extrange but it works! It is easy ...       4      0.0   \n",
       "\n",
       "                category rating_binary_label rating_triary_label  \n",
       "0        Office products                 pos                 pos  \n",
       "1  Amazon instant videos                 pos                 pos  \n",
       "2      Patio lawn/garden                 pos                 pos  \n",
       "3           Pet supplies                 pos                 pos  \n",
       "4                   Baby                 pos                 pos  "
      ]
     },
     "execution_count": 5,
     "metadata": {},
     "output_type": "execute_result"
    }
   ],
   "source": [
    "# Vemos que ha creado nuestra neuva columna\n",
    "data.head()"
   ]
  },
  {
   "cell_type": "code",
   "execution_count": 6,
   "metadata": {},
   "outputs": [],
   "source": [
    "# Constants\n",
    "lemas = file_to_dict('./datasets/lemmatization-en.txt')\n",
    "min_length = 50\n",
    "en_stop_words = gensim.parsing.preprocessing.STOPWORDS\n",
    "translate_table = dict((ord(char), None) for char in string.punctuation)  \n",
    "lang='en'\n",
    "stemmer = EnglishStemmer(ignore_stopwords=True)"
   ]
  },
  {
   "cell_type": "code",
   "execution_count": 7,
   "metadata": {},
   "outputs": [],
   "source": [
    "def process_row(row):    \n",
    "    if type(row['review']) is str:    \n",
    "        aux = process_text(min_length, lemas, translate_table, en_stop_words, 'en', stemmer, row['review'])\n",
    "        if aux:\n",
    "            return {\n",
    "                'original_review': row['review'],\n",
    "                'review': ' '.join(aux),\n",
    "                'review_processed': aux,\n",
    "                'category': row['category'],\n",
    "                'rating_binary_label': row['rating_binary_label'],\n",
    "                'rating_triary_label': row['rating_triary_label']\n",
    "            }"
   ]
  },
  {
   "cell_type": "code",
   "execution_count": 8,
   "metadata": {},
   "outputs": [],
   "source": [
    "pool = Pool(cpu_count())\n",
    "df = [it for it in pool.map(process_row, [row for index, row in data.iterrows()]) if it]\n",
    "pool.close()\n",
    "df = pd.DataFrame(list(df))\n",
    "df.dropna(inplace=True)"
   ]
  },
  {
   "cell_type": "code",
   "execution_count": 9,
   "metadata": {},
   "outputs": [
    {
     "data": {
      "text/html": [
       "<div>\n",
       "<style scoped>\n",
       "    .dataframe tbody tr th:only-of-type {\n",
       "        vertical-align: middle;\n",
       "    }\n",
       "\n",
       "    .dataframe tbody tr th {\n",
       "        vertical-align: top;\n",
       "    }\n",
       "\n",
       "    .dataframe thead th {\n",
       "        text-align: right;\n",
       "    }\n",
       "</style>\n",
       "<table border=\"1\" class=\"dataframe\">\n",
       "  <thead>\n",
       "    <tr style=\"text-align: right;\">\n",
       "      <th></th>\n",
       "      <th>original_review</th>\n",
       "      <th>review</th>\n",
       "      <th>review_processed</th>\n",
       "      <th>category</th>\n",
       "      <th>rating_binary_label</th>\n",
       "      <th>rating_triary_label</th>\n",
       "    </tr>\n",
       "  </thead>\n",
       "  <tbody>\n",
       "    <tr>\n",
       "      <th>0</th>\n",
       "      <td>A fun way to bling up your desk and make sure ...</td>\n",
       "      <td>bling desk surest want stolen stapler return i...</td>\n",
       "      <td>[bling, desk, surest, want, stolen, stapler, r...</td>\n",
       "      <td>Office products</td>\n",
       "      <td>pos</td>\n",
       "      <td>pos</td>\n",
       "    </tr>\n",
       "    <tr>\n",
       "      <th>1</th>\n",
       "      <td>I continue to love this show. Raylan and the r...</td>\n",
       "      <td>continu love raylan rest charact southern atmo...</td>\n",
       "      <td>[continu, love, raylan, rest, charact, souther...</td>\n",
       "      <td>Amazon instant videos</td>\n",
       "      <td>pos</td>\n",
       "      <td>pos</td>\n",
       "    </tr>\n",
       "    <tr>\n",
       "      <th>2</th>\n",
       "      <td>Arrived in super flash time.  Like another rev...</td>\n",
       "      <td>arriv super flash time like anoth review hard ...</td>\n",
       "      <td>[arriv, super, flash, time, like, anoth, revie...</td>\n",
       "      <td>Patio lawn/garden</td>\n",
       "      <td>pos</td>\n",
       "      <td>pos</td>\n",
       "    </tr>\n",
       "    <tr>\n",
       "      <th>3</th>\n",
       "      <td>This treat ball works as expected. I used Temp...</td>\n",
       "      <td>treat ball work expect tempat treat dispens fi...</td>\n",
       "      <td>[treat, ball, work, expect, tempat, treat, dis...</td>\n",
       "      <td>Pet supplies</td>\n",
       "      <td>pos</td>\n",
       "      <td>pos</td>\n",
       "    </tr>\n",
       "    <tr>\n",
       "      <th>4</th>\n",
       "      <td>I know it's extrange but it works! It is easy ...</td>\n",
       "      <td>know extrang works easiest clean eighth month ...</td>\n",
       "      <td>[know, extrang, works, easiest, clean, eighth,...</td>\n",
       "      <td>Baby</td>\n",
       "      <td>pos</td>\n",
       "      <td>pos</td>\n",
       "    </tr>\n",
       "    <tr>\n",
       "      <th>...</th>\n",
       "      <td>...</td>\n",
       "      <td>...</td>\n",
       "      <td>...</td>\n",
       "      <td>...</td>\n",
       "      <td>...</td>\n",
       "      <td>...</td>\n",
       "    </tr>\n",
       "    <tr>\n",
       "      <th>177120</th>\n",
       "      <td>I have been using these for about 2 years now;...</td>\n",
       "      <td>second year happiest strap lock great product</td>\n",
       "      <td>[second, year, happiest, strap, lock, great, p...</td>\n",
       "      <td>Musical instruments</td>\n",
       "      <td>pos</td>\n",
       "      <td>pos</td>\n",
       "    </tr>\n",
       "    <tr>\n",
       "      <th>177121</th>\n",
       "      <td>This unit does everything it says it does. I e...</td>\n",
       "      <td>unit everyth friend dodg intrepid told exact w...</td>\n",
       "      <td>[unit, everyth, friend, dodg, intrepid, told, ...</td>\n",
       "      <td>Automotive</td>\n",
       "      <td>pos</td>\n",
       "      <td>pos</td>\n",
       "    </tr>\n",
       "    <tr>\n",
       "      <th>177122</th>\n",
       "      <td>For years, I had been using Smead hanging fold...</td>\n",
       "      <td>year smead hang folder plastic remov rarest oc...</td>\n",
       "      <td>[year, smead, hang, folder, plastic, remov, ra...</td>\n",
       "      <td>Office products</td>\n",
       "      <td>pos</td>\n",
       "      <td>pos</td>\n",
       "    </tr>\n",
       "    <tr>\n",
       "      <th>177123</th>\n",
       "      <td>Pros:- You don't need to touch the dead rat- L...</td>\n",
       "      <td>pros need touch dead look cons silver scary ha...</td>\n",
       "      <td>[pros, need, touch, dead, look, cons, silver, ...</td>\n",
       "      <td>Patio lawn/garden</td>\n",
       "      <td>neg</td>\n",
       "      <td>neu</td>\n",
       "    </tr>\n",
       "    <tr>\n",
       "      <th>177124</th>\n",
       "      <td>I bought these to go in a 2012 Wrangler Unlimi...</td>\n",
       "      <td>bought went two thousand and twelve wrangler u...</td>\n",
       "      <td>[bought, went, two thousand and twelve, wrangl...</td>\n",
       "      <td>Automotive</td>\n",
       "      <td>pos</td>\n",
       "      <td>pos</td>\n",
       "    </tr>\n",
       "  </tbody>\n",
       "</table>\n",
       "<p>177125 rows × 6 columns</p>\n",
       "</div>"
      ],
      "text/plain": [
       "                                          original_review  \\\n",
       "0       A fun way to bling up your desk and make sure ...   \n",
       "1       I continue to love this show. Raylan and the r...   \n",
       "2       Arrived in super flash time.  Like another rev...   \n",
       "3       This treat ball works as expected. I used Temp...   \n",
       "4       I know it's extrange but it works! It is easy ...   \n",
       "...                                                   ...   \n",
       "177120  I have been using these for about 2 years now;...   \n",
       "177121  This unit does everything it says it does. I e...   \n",
       "177122  For years, I had been using Smead hanging fold...   \n",
       "177123  Pros:- You don't need to touch the dead rat- L...   \n",
       "177124  I bought these to go in a 2012 Wrangler Unlimi...   \n",
       "\n",
       "                                                   review  \\\n",
       "0       bling desk surest want stolen stapler return i...   \n",
       "1       continu love raylan rest charact southern atmo...   \n",
       "2       arriv super flash time like anoth review hard ...   \n",
       "3       treat ball work expect tempat treat dispens fi...   \n",
       "4       know extrang works easiest clean eighth month ...   \n",
       "...                                                   ...   \n",
       "177120      second year happiest strap lock great product   \n",
       "177121  unit everyth friend dodg intrepid told exact w...   \n",
       "177122  year smead hang folder plastic remov rarest oc...   \n",
       "177123  pros need touch dead look cons silver scary ha...   \n",
       "177124  bought went two thousand and twelve wrangler u...   \n",
       "\n",
       "                                         review_processed  \\\n",
       "0       [bling, desk, surest, want, stolen, stapler, r...   \n",
       "1       [continu, love, raylan, rest, charact, souther...   \n",
       "2       [arriv, super, flash, time, like, anoth, revie...   \n",
       "3       [treat, ball, work, expect, tempat, treat, dis...   \n",
       "4       [know, extrang, works, easiest, clean, eighth,...   \n",
       "...                                                   ...   \n",
       "177120  [second, year, happiest, strap, lock, great, p...   \n",
       "177121  [unit, everyth, friend, dodg, intrepid, told, ...   \n",
       "177122  [year, smead, hang, folder, plastic, remov, ra...   \n",
       "177123  [pros, need, touch, dead, look, cons, silver, ...   \n",
       "177124  [bought, went, two thousand and twelve, wrangl...   \n",
       "\n",
       "                     category rating_binary_label rating_triary_label  \n",
       "0             Office products                 pos                 pos  \n",
       "1       Amazon instant videos                 pos                 pos  \n",
       "2           Patio lawn/garden                 pos                 pos  \n",
       "3                Pet supplies                 pos                 pos  \n",
       "4                        Baby                 pos                 pos  \n",
       "...                       ...                 ...                 ...  \n",
       "177120    Musical instruments                 pos                 pos  \n",
       "177121             Automotive                 pos                 pos  \n",
       "177122        Office products                 pos                 pos  \n",
       "177123      Patio lawn/garden                 neg                 neu  \n",
       "177124             Automotive                 pos                 pos  \n",
       "\n",
       "[177125 rows x 6 columns]"
      ]
     },
     "execution_count": 9,
     "metadata": {},
     "output_type": "execute_result"
    }
   ],
   "source": [
    "df"
   ]
  },
  {
   "cell_type": "markdown",
   "metadata": {},
   "source": [
    "## Separamos en train test"
   ]
  },
  {
   "cell_type": "code",
   "execution_count": 10,
   "metadata": {},
   "outputs": [],
   "source": [
    "def train_test_splt(values, labels):\n",
    "    print('Spliting...')\n",
    "    return train_test_split(\n",
    "        values,\n",
    "        labels,\n",
    "        train_size=0.75,\n",
    "        test_size=0.25,\n",
    "        random_state=42,\n",
    "        shuffle=True,\n",
    "        stratify=labels\n",
    "    )"
   ]
  },
  {
   "cell_type": "code",
   "execution_count": 11,
   "metadata": {},
   "outputs": [
    {
     "name": "stdout",
     "output_type": "stream",
     "text": [
      "Spliting...\n",
      "Spliting...\n"
     ]
    }
   ],
   "source": [
    "X_train, X_test, y_train, y_test = train_test_splt(df['review'], df['rating_binary_label'])\n",
    "X_train, X_validation, y_train, y_validation= train_test_splt(X_train, y_train)"
   ]
  },
  {
   "cell_type": "markdown",
   "metadata": {},
   "source": [
    "## Extraccion de caracteristicas"
   ]
  },
  {
   "cell_type": "code",
   "execution_count": 12,
   "metadata": {},
   "outputs": [],
   "source": [
    "def plot_chi_square(values, labels, words_to_show=10): \n",
    "    # Compute the chi-squared score for each word in the training set and show the values\n",
    "    chi2score = chi2(values, labels)[0]\n",
    "    scores = list(zip(cv.get_feature_names(), chi2score))\n",
    "    sorted_scores = sorted(scores, key=lambda x:x[1])\n",
    "    topchi2 = list(zip(*sorted_scores[-words_to_show:]))\n",
    "    x = range(len(topchi2[1]))\n",
    "    labels = topchi2[0]\n",
    "\n",
    "    plt.figure(figsize=(12, 8))\n",
    "    plt.barh(x,topchi2[1], align='center', alpha=0.5)\n",
    "    plt.plot(topchi2[1], x, '-o', markersize=5, alpha=0.8)\n",
    "    plt.yticks(x, labels, fontsize=12)\n",
    "    plt.xlabel(r'$\\chi^2$', fontsize=26)\n",
    "    plt.ylabel('word', fontsize=16)\n",
    "    plt.title(r'Top {} $\\chi^2$ score for each word in the training set'.format(words_to_show), fontsize=20)\n",
    "    plt.grid()\n",
    "    plt.tight_layout()\n",
    "    plt.show();"
   ]
  },
  {
   "cell_type": "code",
   "execution_count": 13,
   "metadata": {
    "scrolled": true
   },
   "outputs": [],
   "source": [
    "cv = TfidfVectorizer(\n",
    "    max_df=0.95,\n",
    "    min_df=5,\n",
    "    max_features=2500,\n",
    "    strip_accents='ascii',\n",
    "    ngram_range=(1,2)\n",
    ")\n",
    "cv.fit(X_train)\n",
    "\n",
    "X_train_ = cv.transform(X_train)\n",
    "X_validation_ = cv.transform(X_validation)\n",
    "X_test_ = cv.transform(X_test)"
   ]
  },
  {
   "cell_type": "markdown",
   "metadata": {},
   "source": [
    "TODO ver que hacer con esto"
   ]
  },
  {
   "cell_type": "code",
   "execution_count": 14,
   "metadata": {},
   "outputs": [
    {
     "name": "stdout",
     "output_type": "stream",
     "text": [
      "[('littlest', 1247), ('stood', 2067), ('serv', 1857), ('purpos', 1653), ('home', 1040), ('keyboard', 1163), ('want', 2385), ('test', 2184), ('differ', 560), ('pedal', 1511), ('configur', 425), ('hold', 1037), ('mixer', 1359), ('laptop', 1192), ('wireless', 2442), ('receiv', 1703), ('versatil', 2354), ('caus', 319), ('narrow', 1396), ('widest', 2428)]\n"
     ]
    }
   ],
   "source": [
    "print(list(cv.vocabulary_.items())[:20])"
   ]
  },
  {
   "cell_type": "code",
   "execution_count": 15,
   "metadata": {},
   "outputs": [],
   "source": [
    "words_example = [\n",
    "    'this',\n",
    "    'like',\n",
    "    'good',\n",
    "    'great',\n",
    "    'dont',\n",
    "]"
   ]
  },
  {
   "cell_type": "code",
   "execution_count": 16,
   "metadata": {},
   "outputs": [
    {
     "name": "stdout",
     "output_type": "stream",
     "text": [
      "Palabra             IDF                 \n",
      "this                OOV                 \n",
      "like                2.132\n",
      "good                4.387\n",
      "great               2.321\n",
      "dont                2.724\n"
     ]
    }
   ],
   "source": [
    "vocab_idf = dict(zip(cv.get_feature_names(), cv.idf_))\n",
    "\n",
    "print('{0:20}{1:20}'.format('Palabra', 'IDF'))\n",
    "for word in words_example:\n",
    "    if word not in vocab_idf:\n",
    "        print('{0:20}{1:20}'.format(word, 'OOV'))\n",
    "    else:\n",
    "        print('{0:20}{1:2.3f}'.format(word, vocab_idf[word]))"
   ]
  },
  {
   "cell_type": "code",
   "execution_count": 17,
   "metadata": {},
   "outputs": [
    {
     "name": "stdout",
     "output_type": "stream",
     "text": [
      "ID: 55045\n",
      "Sentiment: pos\n",
      "Review: packag nicest realli everyth nicest\n"
     ]
    }
   ],
   "source": [
    "import random\n",
    "i = random.randint(0, len(X_train))\n",
    "print('ID: {}'.format(i))\n",
    "print('Sentiment: {}'.format(y_train.iloc[i]))\n",
    "print('Review: {}'.format(X_train.iloc[i]))"
   ]
  },
  {
   "cell_type": "code",
   "execution_count": 18,
   "metadata": {},
   "outputs": [
    {
     "name": "stdout",
     "output_type": "stream",
     "text": [
      "Top 10 words with highest TF_IDF in the review 55045:\n",
      "            tfidf\n",
      "nicest   0.704183\n",
      "packag   0.474097\n",
      "everyth  0.443235\n",
      "realli   0.287924\n",
      "\n",
      "Top 10 words with lowest TF_IDF in the review 55045:\n",
      "            tfidf\n",
      "nicest   0.704183\n",
      "packag   0.474097\n",
      "everyth  0.443235\n",
      "realli   0.287924\n"
     ]
    }
   ],
   "source": [
    "doc_vector = X_train_[i]\n",
    "df_tfidf = pd.DataFrame(doc_vector.T.todense(), index=cv.get_feature_names(), columns=['tfidf'])\n",
    "df_tfidf = df_tfidf[df_tfidf['tfidf'] > 0]\n",
    "\n",
    "top_n = 10\n",
    "print('Top {} words with highest TF_IDF in the review {}:\\n{}'.format(top_n, i, df_tfidf.sort_values(by=[\"tfidf\"],ascending=False)[:top_n]))\n",
    "print('\\nTop {} words with lowest TF_IDF in the review {}:\\n{}'.format(top_n, i, df_tfidf.sort_values(by=[\"tfidf\"],ascending=False)[-top_n:]))"
   ]
  },
  {
   "cell_type": "markdown",
   "metadata": {},
   "source": [
    "TODO ver que hacer con esto"
   ]
  },
  {
   "cell_type": "code",
   "execution_count": 19,
   "metadata": {},
   "outputs": [
    {
     "data": {
      "image/png": "[encoded data removed]",
      "text/plain": [
       "<Figure size 864x576 with 1 Axes>"
      ]
     },
     "metadata": {
      "needs_background": "light"
     },
     "output_type": "display_data"
    }
   ],
   "source": [
    "plot_chi_square(X_train_, y_train, 15)"
   ]
  },
  {
   "cell_type": "markdown",
   "metadata": {},
   "source": [
    "## Evaluacion del modelo"
   ]
  },
  {
   "cell_type": "code",
   "execution_count": 20,
   "metadata": {},
   "outputs": [],
   "source": [
    "def evaluation(model, values, labels):\n",
    "    test_predict = model.predict(values)\n",
    "    print('Confussion matrix:\\n{}'.format(confusion_matrix(y_test, test_predict)))\n",
    "    print('\\nClassification report:\\n{}'.format(classification_report(y_test, test_predict)))\n",
    "    print('Accuracy score:{}'.format(accuracy_score(y_test, test_predict)))"
   ]
  },
  {
   "cell_type": "code",
   "execution_count": 21,
   "metadata": {},
   "outputs": [],
   "source": [
    "def plot_values(values, max_idx, labels):\n",
    "    plt.figure(figsize=(12, 8))\n",
    "    for d in values:\n",
    "        plt.plot(d.get('value'), label=d.get('label'))\n",
    "    plt.axvline(max_idx, c='g', ls='--', alpha=0.8)\n",
    "    plt.title('Accuracy evolution for different C values')\n",
    "    plt.xlabel('C')\n",
    "    plt.ylabel('Accuracy')\n",
    "    plt.legend()\n",
    "    plt.grid()\n",
    "    plt.xticks(list(range(len(labels))), labels)\n",
    "    plt.tight_layout()\n",
    "    plt.show()"
   ]
  },
  {
   "cell_type": "code",
   "execution_count": 22,
   "metadata": {},
   "outputs": [],
   "source": [
    "def dict_creator(model, tp, vp, tacc, vacc): \n",
    "    return {\n",
    "        'model': model,\n",
    "        'predictions': {\n",
    "            'train': tp,\n",
    "            'validation': vp\n",
    "        },\n",
    "        'accuracy': {\n",
    "            'train': tacc,\n",
    "            'validation': vacc\n",
    "        }\n",
    "    }"
   ]
  },
  {
   "cell_type": "code",
   "execution_count": 47,
   "metadata": {},
   "outputs": [],
   "source": [
    "def grid_executor(c_params, solvers, max_iter, X_train, y_train, X_val, y_val, multiple_label=False):\n",
    "\n",
    "    # preparamos las eituqetas si va a ser multi-salida\n",
    "    if multiple_label:\n",
    "        y_train = y_train.values.reshape(-1,1)\n",
    "    \n",
    "    res = []\n",
    "    for solver in solvers:\n",
    "        for c in c_params:        \n",
    "            print(f'Evaluating model with C={c}, solver={solver}, max_iter={max_iter}')\n",
    "            model = LogisticRegression(C=c, solver=solver, max_iter=max_iter)\n",
    "            \n",
    "            if multiple_label:\n",
    "#                 model.multi_class = 'ovr'\n",
    "                model = MultiOutputRegressor(model)     \n",
    "            \n",
    "            model.fit(X_train_, y_train)\n",
    "\n",
    "            train_predict = model.predict(X_train_)\n",
    "            validation_predict = model.predict(X_validation_)\n",
    "            \n",
    "            train_acc = accuracy_score(y_train, train_predict)\n",
    "            validation_acc = accuracy_score(y_val, validation_predict)\n",
    "\n",
    "            print (f\"Accuracy train: {train_acc}, val: {validation_acc}\")\n",
    "            \n",
    "            res.append(dict_creator(model, train_predict, validation_predict, train_acc, validation_acc))\n",
    "    return res"
   ]
  },
  {
   "cell_type": "code",
   "execution_count": 24,
   "metadata": {},
   "outputs": [],
   "source": [
    "def plot_accuracy_evolution(grid):\n",
    "    train_acc = []\n",
    "    val_acc = []\n",
    "    for aux in grid:\n",
    "        train,val = aux.get('accuracy').values()\n",
    "        train_acc.append(train)\n",
    "        val_acc.append(val)\n",
    "\n",
    "    values = [\n",
    "        {'label': 'train', 'value': train_acc},\n",
    "        {'label': 'validation', 'value': val_acc}\n",
    "    ]\n",
    "\n",
    "    optimal_model_idx = np.argmax(val_acc)\n",
    "\n",
    "    plot_values(values, optimal_model_idx, c_params)\n",
    "    \n",
    "    return optimal_model_idx"
   ]
  },
  {
   "cell_type": "code",
   "execution_count": 25,
   "metadata": {
    "scrolled": true
   },
   "outputs": [
    {
     "name": "stdout",
     "output_type": "stream",
     "text": [
      "Evaluating model with C=0.01, solver=lbfgs, max_iter=800\n",
      "Accuracy train: 0.8325839087843263, val: 0.8325855891120412\n",
      "Evaluating model with C=0.05, solver=lbfgs, max_iter=800\n",
      "Accuracy train: 0.8404930142925967, val: 0.8401132155008882\n",
      "Evaluating model with C=0.25, solver=lbfgs, max_iter=800\n",
      "Accuracy train: 0.8644712542155131, val: 0.8597151546174461\n",
      "Evaluating model with C=0.5, solver=lbfgs, max_iter=800\n",
      "Accuracy train: 0.8704633049622611, val: 0.864291951461865\n",
      "Evaluating model with C=1, solver=lbfgs, max_iter=800\n",
      "Accuracy train: 0.8741167496386703, val: 0.8663394658396314\n",
      "Evaluating model with C=10, solver=lbfgs, max_iter=800\n",
      "Accuracy train: 0.8783924843423799, val: 0.8674535545451808\n",
      "Evaluating model with C=100, solver=lbfgs, max_iter=800\n",
      "Accuracy train: 0.8788140356511964, val: 0.8673030020174038\n",
      "Evaluating model with C=1000, solver=lbfgs, max_iter=800\n",
      "Accuracy train: 0.8790348482415288, val: 0.8673331125229593\n",
      "Evaluating model with C=10000, solver=lbfgs, max_iter=800\n",
      "Accuracy train: 0.8790248113056046, val: 0.8674836650507362\n",
      "Evaluating model with C=20000, solver=lbfgs, max_iter=800\n"
     ]
    },
    {
     "name": "stderr",
     "output_type": "stream",
     "text": [
      "/home/alberto/anaconda3/lib/python3.7/site-packages/sklearn/linear_model/_logistic.py:940: ConvergenceWarning: lbfgs failed to converge (status=1):\n",
      "STOP: TOTAL NO. of ITERATIONS REACHED LIMIT.\n",
      "\n",
      "Increase the number of iterations (max_iter) or scale the data as shown in:\n",
      "    https://scikit-learn.org/stable/modules/preprocessing.html\n",
      "Please also refer to the documentation for alternative solver options:\n",
      "    https://scikit-learn.org/stable/modules/linear_model.html#logistic-regression\n",
      "  extra_warning_msg=_LOGISTIC_SOLVER_CONVERGENCE_MSG)\n"
     ]
    },
    {
     "name": "stdout",
     "output_type": "stream",
     "text": [
      "Accuracy train: 0.8790549221133772, val: 0.8674535545451808\n"
     ]
    }
   ],
   "source": [
    "\n",
    "\n",
    "c_params = [0.01, 0.05, 0.25, 0.5, 1, 10, 100, 1000, 10000, 20000]\n",
    "solvers  = ['lbfgs']\n",
    "max_iter = 800\n",
    "\n",
    "grid = grid_executor(c_params, solvers, max_iter, X_train_, y_train, X_validation_, y_validation)\n"
   ]
  },
  {
   "cell_type": "code",
   "execution_count": 26,
   "metadata": {
    "scrolled": false
   },
   "outputs": [
    {
     "data": {
      "image/png": "[encoded data removed]",
      "text/plain": [
       "<Figure size 864x576 with 1 Axes>"
      ]
     },
     "metadata": {
      "needs_background": "light"
     },
     "output_type": "display_data"
    }
   ],
   "source": [
    "optimal_model_idx = plot_accuracy_evolution(grid)"
   ]
  },
  {
   "cell_type": "code",
   "execution_count": 27,
   "metadata": {},
   "outputs": [
    {
     "name": "stdout",
     "output_type": "stream",
     "text": [
      "Confussion matrix:\n",
      "[[ 3151  4263]\n",
      " [ 1532 35336]]\n",
      "\n",
      "Classification report:\n",
      "              precision    recall  f1-score   support\n",
      "\n",
      "         neg       0.67      0.43      0.52      7414\n",
      "         pos       0.89      0.96      0.92     36868\n",
      "\n",
      "    accuracy                           0.87     44282\n",
      "   macro avg       0.78      0.69      0.72     44282\n",
      "weighted avg       0.86      0.87      0.86     44282\n",
      "\n",
      "Accuracy score:0.8691341854478117\n"
     ]
    }
   ],
   "source": [
    "evaluation(grid[optimal_model_idx].get('model'), X_test_, y_test)"
   ]
  },
  {
   "cell_type": "markdown",
   "metadata": {},
   "source": [
    "## Comprobamos nuestro modelo"
   ]
  },
  {
   "cell_type": "code",
   "execution_count": 28,
   "metadata": {},
   "outputs": [],
   "source": [
    "CRED = '\\033[41m'\n",
    "CGREEN = '\\033[42m'\n",
    "CEND = '\\033[0m'"
   ]
  },
  {
   "cell_type": "code",
   "execution_count": 58,
   "metadata": {},
   "outputs": [],
   "source": [
    "def predict_review_sentiment(model, cv, reviews, labels, num_samples):\n",
    "    predictions = []\n",
    "    lbls = []\n",
    "    for i in range(num_samples):\n",
    "        index = random.choice(X_test.index)\n",
    "        r = reviews[index]\n",
    "        \n",
    "        prediction = model.predict(cv.transform([r]))[0]\n",
    "        \n",
    "        predictions.append(prediction)\n",
    "        lbls.append(labels[index])\n",
    "        \n",
    "        color = (CRED, CGREEN)[labels[index] == prediction[0]]\n",
    "        print(f\"Comprobando review {index}\")\n",
    "        print(f\"{color}Sentimiento {labels[index]} - {prediction}{CEND}\")\n",
    "    print('Accuracy scorede los elementos de prueba: {}'.format(accuracy_score(lbls, predictions)))"
   ]
  },
  {
   "cell_type": "code",
   "execution_count": 59,
   "metadata": {},
   "outputs": [
    {
     "name": "stdout",
     "output_type": "stream",
     "text": [
      "Comprobando review 37984\n",
      "\u001b[42mSentimiento pos - ['pos']\u001b[0m\n",
      "Comprobando review 73126\n",
      "\u001b[42mSentimiento pos - ['pos']\u001b[0m\n",
      "Comprobando review 86159\n",
      "\u001b[42mSentimiento pos - ['pos']\u001b[0m\n",
      "Comprobando review 105503\n",
      "\u001b[42mSentimiento pos - ['pos']\u001b[0m\n",
      "Comprobando review 5029\n",
      "\u001b[42mSentimiento pos - ['pos']\u001b[0m\n",
      "Comprobando review 35775\n",
      "\u001b[42mSentimiento pos - ['pos']\u001b[0m\n",
      "Comprobando review 120119\n",
      "\u001b[42mSentimiento pos - ['pos']\u001b[0m\n",
      "Comprobando review 25983\n",
      "\u001b[41mSentimiento neg - ['pos']\u001b[0m\n",
      "Comprobando review 163782\n",
      "\u001b[42mSentimiento pos - ['pos']\u001b[0m\n",
      "Comprobando review 168500\n",
      "\u001b[42mSentimiento pos - ['pos']\u001b[0m\n",
      "Accuracy scorede los elementos de prueba: 0.9\n"
     ]
    }
   ],
   "source": [
    "predict_review_sentiment(grid[optimal_model_idx].get('model'), cv, X_test, y_test, 10)"
   ]
  },
  {
   "cell_type": "markdown",
   "metadata": {},
   "source": [
    "Como vemos la moyoria de preducciones con correctas, el menos podemos afirmar eso para unas etiquetas binarias, vamos a probar ahora con 3 'sentimientos'"
   ]
  },
  {
   "cell_type": "markdown",
   "metadata": {},
   "source": [
    "## Vamos a probar ahora con VADER\n",
    "\n",
    "\n",
    "Dado que `VADER` ya esta preentrenado vamos a probar con unas `reviews` al azar, del dataset original, y comprobaremos como se comporta respecto al texto original con el texto procesado en comparacon con la etiqueta que se le ha asignado en funcion del valor de 'estrellas'."
   ]
  },
  {
   "cell_type": "code",
   "execution_count": 31,
   "metadata": {},
   "outputs": [],
   "source": [
    "from vaderSentiment.vaderSentiment import SentimentIntensityAnalyzer\n",
    "analyser = SentimentIntensityAnalyzer()"
   ]
  },
  {
   "cell_type": "code",
   "execution_count": 32,
   "metadata": {},
   "outputs": [],
   "source": [
    "def sentiment_analyzer_scores(df, num_samples):\n",
    "    \n",
    "    for i in range(num_samples):\n",
    "        index = random.choice(df.index)\n",
    "        original_review = df['original_review'][index]\n",
    "        processed_review = df['review'][index]\n",
    "        \n",
    "        original_score = analyser.polarity_scores(original_review)\n",
    "        processed_score = analyser.polarity_scores(processed_review)\n",
    "        \n",
    "        print(f'REVIEW {index}')\n",
    "        print('Original review')\n",
    "        print(original_review)\n",
    "        print('Processed review')\n",
    "        print(processed_review)\n",
    "        print()\n",
    "        print(f'Original score {df[\"rating_triary_label\"][index]}')\n",
    "        print(original_score)\n",
    "        print(processed_score)\n",
    "        print()"
   ]
  },
  {
   "cell_type": "code",
   "execution_count": 33,
   "metadata": {},
   "outputs": [
    {
     "name": "stdout",
     "output_type": "stream",
     "text": [
      "REVIEW 52770\n",
      "Original review\n",
      "The Samsung SL-M2885FW/XAA is a very nice multi-function laser printer.I tested this using a 15 inch MacBook Pro (Mid 2012) running OS x 10.9.3 and an iPhone 5s.Unpacking and initial setup took approximately 20 minutes. At that point I had my first print via USB from my MacBook without needing to do any software installation. Setup was easy. I did get a little toner on me, caused by removing the shipping tape and guards from the new toner cartridge. The drum unit does not seem to be user serviceable. This is unfortunate and is one reason I have Brother Printers that are almost a decade old (they have easily replaceable drum units).It comes with a USB cable. There is a French overlay for the control panel, if you are so inclined.This is a large printer. Its two-tone design makes it look like a small printer sitting on top of a bigger printer. At first I found the aesthetics displeasing, but I&#8217;m getting used to it.The paper tray sticks out the back a little when letter paper is loaded (you have to extend the tray to load paper). It sticks out even more with legal sized paper.Don&#8217;t try to do the setup (especially the network setting) from the printer&#8217;s control panel, you will just frustrate yourself. Use the Samsung Easy Printer Manger software on the included CD. I was reluctant to install it. I usually avoid the bloat-ware that comes with most printers, but the manger works well, makes it very easy to set all of the printer options and check the status of the options, and has a very easy to use scanner interface. Wireless setup took me another  hour, but would have been quicker had I not tried to do it via the control panel initially.From a cold start using USB, the first page is done in 14 seconds. The rest just keep coming out every few seconds. This is a fast printer. As many of the laser printers I have test do, this one causes my lights to flicker while it is printing.Print quality is excellent.The paper tray holds 250 sheets, the output tray holds 100 sheets, and the ADF holds 40 sheets.I successfully printed using USB from my laptop, WiFi from my laptop, and WiFi form my iPhone (using the Apple wireless print options built into the phone).Copying worked fine with 1-&#62;2 sided option moderately easy to set.I was able to scan via USB and wireless. There were no problems and the quality of the scans was excellent.Duplex printing worked great, but there is no duplex document feeder (bummer).There is an Eco setting where you can preprogram multiple paper and toner saving options and turn them all on/off at the same time. Nice.I didn&#8217;t test the fax options. I don&#8217;t have a landline.\n",
      "Processed review\n",
      "samsung slm2885fwxaa nicest multifunct laser printer test fifteenth inch macbook two thousand and twelve tenth ninth iphon unpack initi setup took approxim twentieth minut point print macbook need dont softwar instal setup easiest gotten littlest toner caus remov ship tape guard newest toner cartridg drum unit user servic unfortun reason brother printer decad easili replac drum units come cabl french overlay control panel inclin largest printer twoton design look like small printer bigger printer aesthet displeas i8217 paper tray stick littlest letter paper load extend tray load paper stick legal size paper don8217 dont setup especi network setting printer8217 control panel justest frustrat samsung easi printer manger softwar includ reluct instal usual avoid bloatwar come printer manger work easiest printer option check status option easiest scanner interfac wireless setup took anoth hour quicker dont control panel initi cold start page fourteenth second rest justest kept come everi fewest second fast printer laser printer test dont caus light flicker print print qualiti excel paper tray hold sheet output tray hold hundredth sheet hold fortieth sheet success print laptop wifi laptop wifi form iphon appl wireless print option built phone copi work fine second option moder easiest ablest scan wireless problem qualiti scan excel duplex print work great duplic document feeder bummer preprogram multipl paper toner save option turn onoff time nice didn8217 test option don8217 landlin\n",
      "\n",
      "Original score pos\n",
      "{'neg': 0.026, 'neu': 0.882, 'pos': 0.092, 'compound': 0.9852}\n",
      "{'neg': 0.029, 'neu': 0.808, 'pos': 0.163, 'compound': 0.9851}\n",
      "\n",
      "REVIEW 95543\n",
      "Original review\n",
      "I really like this grill, it is compact, doesn't require much room. I have a big three burner BBQ but, this one is perfect for a couple of people to grill up a quick dinner. I took a while to assemble, the instructions were adequate.I would recommend it.I\n",
      "Processed review\n",
      "realli like grill compact requir room biggest burner perfect coupl peopl grill quickest dinner took assembl instruct adequ recommend\n",
      "\n",
      "Original score pos\n",
      "{'neg': 0.0, 'neu': 0.815, 'pos': 0.185, 'compound': 0.8806}\n",
      "{'neg': 0.0, 'neu': 0.648, 'pos': 0.352, 'compound': 0.8271}\n",
      "\n",
      "REVIEW 72398\n",
      "Original review\n",
      "I bought these because my little kid adores using glitter glue, paint, and stickers to embellish everything.  Thinking I had a prodigy on my hand, I bought these for him to put all that stuff on.  He's now created a bunch of one-of-a-kind greeting cards that are stealing business from Hallmark.Seriously, people love the handmade stuff, especially because it's so flawed and outrageous that it's charming.  I keep the envelopes put away, and he goes wild on the front and back of the card (I save the other side inside the fold to write on).  Once dry, I fold and store.  He puts a few stickers on the envelopes.It's a cheap craft thing to do, especially with other little kids around.  There's no wrong way and they can take them home.  The price is so low that I don't care if they make a mess.As far as quality, these are heavyweight cardstock, not cheap like you'd imagine.  The envelopes aren't heavyweight, but the cards feel solid and quality.\n",
      "Processed review\n",
      "bought caus littlest ador glitter paint sticker embellish everyth think prodigi hand bought stuff creat bunch oneofakind greet card steal busi hallmark peopl love handmad stuff especi caus flaw outrag charm kept envelop away wild card save insid fold wrote fold store fewest sticker envelop cheapest craft thing dont especi littlest wrong took home price care mess furthest qualiti heavyweight cardstock cheapest like imagin envelop aren heavyweight card felt solid qualiti\n",
      "\n",
      "Original score pos\n",
      "{'neg': 0.067, 'neu': 0.836, 'pos': 0.097, 'compound': 0.5604}\n",
      "{'neg': 0.063, 'neu': 0.658, 'pos': 0.279, 'compound': 0.9569}\n",
      "\n"
     ]
    }
   ],
   "source": [
    "sentiment_analyzer_scores(df, 3)"
   ]
  },
  {
   "cell_type": "markdown",
   "metadata": {},
   "source": [
    "Para proba eso se puede altear el parametro `num_samples`.\n",
    "\n",
    "Viendo los reultados que aroja, se puede 'asumir' que mas o menos los resultados que ofrece VADER, se ajustan bastante tanto para el texto original como para el texto procesado.\n",
    "\n",
    "En la mayoria de casos se observa que da como resultado neutral"
   ]
  },
  {
   "cell_type": "markdown",
   "metadata": {},
   "source": [
    "## Evaluacion para 3 etiquetas"
   ]
  },
  {
   "cell_type": "code",
   "execution_count": 34,
   "metadata": {},
   "outputs": [
    {
     "name": "stdout",
     "output_type": "stream",
     "text": [
      "Spliting...\n",
      "Spliting...\n"
     ]
    }
   ],
   "source": [
    "X_train, X_test, y_train, y_test = train_test_splt(df['review'], df['rating_triary_label'])\n",
    "X_train, X_validation, y_train, y_validation= train_test_splt(X_train, y_train)"
   ]
  },
  {
   "cell_type": "code",
   "execution_count": 35,
   "metadata": {},
   "outputs": [],
   "source": [
    "# from sklearn.preprocessing import LabelBinarizer\n",
    "\n",
    "# encoder = LabelBinarizer()\n",
    "\n",
    "# y_train = encoder.fit_transform(y_train)\n",
    "# y_validation = encoder.transform(y_validation)\n",
    "# y_test = encoder.transform(y_test)"
   ]
  },
  {
   "cell_type": "code",
   "execution_count": 36,
   "metadata": {},
   "outputs": [],
   "source": [
    "cv = TfidfVectorizer(\n",
    "    max_df=0.95,\n",
    "    min_df=5,\n",
    "    max_features=2500,\n",
    "    strip_accents='ascii',\n",
    "    ngram_range=(1,2)\n",
    ")\n",
    "cv.fit(X_train)\n",
    "\n",
    "X_train_ = cv.transform(X_train)\n",
    "X_validation_ = cv.transform(X_validation)\n",
    "X_test_ = cv.transform(X_test)"
   ]
  },
  {
   "cell_type": "code",
   "execution_count": 37,
   "metadata": {
    "scrolled": false
   },
   "outputs": [
    {
     "data": {
      "image/png": "[encoded data removed]",
      "text/plain": [
       "<Figure size 864x576 with 1 Axes>"
      ]
     },
     "metadata": {
      "needs_background": "light"
     },
     "output_type": "display_data"
    }
   ],
   "source": [
    "plot_chi_square(X_train_, y_train, 15)"
   ]
  },
  {
   "cell_type": "code",
   "execution_count": 48,
   "metadata": {
    "scrolled": true
   },
   "outputs": [
    {
     "name": "stdout",
     "output_type": "stream",
     "text": [
      "Evaluating model with C=0.01, solver=lbfgs, max_iter=1200\n",
      "Accuracy train: 0.8325738718484021, val: 0.8325855891120412\n",
      "Evaluating model with C=0.05, solver=lbfgs, max_iter=1200\n",
      "Accuracy train: 0.8374217118997912, val: 0.8367709493842401\n",
      "Evaluating model with C=0.25, solver=lbfgs, max_iter=1200\n",
      "Accuracy train: 0.8537016219688454, val: 0.8479419469452892\n",
      "Evaluating model with C=0.5, solver=lbfgs, max_iter=1200\n",
      "Accuracy train: 0.858429018789144, val: 0.851645539128602\n",
      "Evaluating model with C=1, solver=lbfgs, max_iter=1200\n",
      "Accuracy train: 0.8621426850810985, val: 0.8526090753063744\n",
      "Evaluating model with C=10, solver=lbfgs, max_iter=1200\n",
      "Accuracy train: 0.8671410791713505, val: 0.8539640480563668\n",
      "Evaluating model with C=100, solver=lbfgs, max_iter=1200\n",
      "Accuracy train: 0.8674221133772282, val: 0.853271506428593\n"
     ]
    }
   ],
   "source": [
    "\n",
    "c_params = [0.01, 0.05, 0.25, 0.5, 1, 10, 100]\n",
    "solvers  = ['lbfgs']\n",
    "max_iter = 1200\n",
    "\n",
    "grid = grid_executor(c_params, solvers, max_iter, X_train_, y_train, X_validation_, y_validation, True)"
   ]
  },
  {
   "cell_type": "code",
   "execution_count": 49,
   "metadata": {},
   "outputs": [
    {
     "data": {
      "image/png": "[encoded data removed]",
      "text/plain": [
       "<Figure size 864x576 with 1 Axes>"
      ]
     },
     "metadata": {
      "needs_background": "light"
     },
     "output_type": "display_data"
    }
   ],
   "source": [
    "optimal_model_idx = plot_accuracy_evolution(grid)"
   ]
  },
  {
   "cell_type": "code",
   "execution_count": 51,
   "metadata": {
    "scrolled": true
   },
   "outputs": [
    {
     "name": "stdout",
     "output_type": "stream",
     "text": [
      "Confussion matrix:\n",
      "[[ 1252   253  1759]\n",
      " [  358   745  3046]\n",
      " [  476   517 35876]]\n",
      "\n",
      "Classification report:\n",
      "              precision    recall  f1-score   support\n",
      "\n",
      "         neg       0.60      0.38      0.47      3264\n",
      "         neu       0.49      0.18      0.26      4149\n",
      "         pos       0.88      0.97      0.93     36869\n",
      "\n",
      "    accuracy                           0.86     44282\n",
      "   macro avg       0.66      0.51      0.55     44282\n",
      "weighted avg       0.82      0.86      0.83     44282\n",
      "\n",
      "Accuracy score:0.8552685063908586\n"
     ]
    }
   ],
   "source": [
    "evaluation(grid[optimal_model_idx].get('model'), X_test_, y_test)"
   ]
  },
  {
   "cell_type": "code",
   "execution_count": 60,
   "metadata": {
    "scrolled": true
   },
   "outputs": [
    {
     "name": "stdout",
     "output_type": "stream",
     "text": [
      "Comprobando review 151573\n",
      "\u001b[42mSentimiento neg - ['neg']\u001b[0m\n",
      "Comprobando review 104740\n",
      "\u001b[42mSentimiento pos - ['pos']\u001b[0m\n",
      "Comprobando review 124804\n",
      "\u001b[41mSentimiento neg - ['pos']\u001b[0m\n",
      "Comprobando review 38334\n",
      "\u001b[42mSentimiento pos - ['pos']\u001b[0m\n",
      "Comprobando review 97086\n",
      "\u001b[42mSentimiento pos - ['pos']\u001b[0m\n",
      "Comprobando review 48460\n",
      "\u001b[42mSentimiento pos - ['pos']\u001b[0m\n",
      "Comprobando review 135923\n",
      "\u001b[41mSentimiento neu - ['pos']\u001b[0m\n",
      "Comprobando review 83846\n",
      "\u001b[42mSentimiento pos - ['pos']\u001b[0m\n",
      "Comprobando review 70510\n",
      "\u001b[42mSentimiento pos - ['pos']\u001b[0m\n",
      "Comprobando review 35408\n",
      "\u001b[42mSentimiento pos - ['pos']\u001b[0m\n",
      "Comprobando review 18273\n",
      "\u001b[42mSentimiento pos - ['pos']\u001b[0m\n",
      "Comprobando review 44331\n",
      "\u001b[42mSentimiento pos - ['pos']\u001b[0m\n",
      "Comprobando review 14695\n",
      "\u001b[41mSentimiento neg - ['pos']\u001b[0m\n",
      "Comprobando review 102586\n",
      "\u001b[42mSentimiento pos - ['pos']\u001b[0m\n",
      "Comprobando review 131981\n",
      "\u001b[41mSentimiento neu - ['pos']\u001b[0m\n",
      "Comprobando review 52256\n",
      "\u001b[41mSentimiento neu - ['pos']\u001b[0m\n",
      "Comprobando review 36257\n",
      "\u001b[42mSentimiento neu - ['neu']\u001b[0m\n",
      "Comprobando review 103223\n",
      "\u001b[42mSentimiento pos - ['pos']\u001b[0m\n",
      "Comprobando review 39904\n",
      "\u001b[42mSentimiento pos - ['pos']\u001b[0m\n",
      "Comprobando review 144363\n",
      "\u001b[42mSentimiento pos - ['pos']\u001b[0m\n",
      "Accuracy scorede los elementos de prueba: 0.75\n"
     ]
    }
   ],
   "source": [
    "predict_review_sentiment(grid[optimal_model_idx].get('model'), cv, X_test, y_test, 20)"
   ]
  },
  {
   "cell_type": "code",
   "execution_count": null,
   "metadata": {},
   "outputs": [],
   "source": []
  }
 ],
 "metadata": {
  "kernelspec": {
   "display_name": "Python 3",
   "language": "python",
   "name": "python3"
  },
  "language_info": {
   "codemirror_mode": {
    "name": "ipython",
    "version": 3
   },
   "file_extension": ".py",
   "mimetype": "text/x-python",
   "name": "python",
   "nbconvert_exporter": "python",
   "pygments_lexer": "ipython3",
   "version": "3.7.6"
  }
 },
 "nbformat": 4,
 "nbformat_minor": 4
}
